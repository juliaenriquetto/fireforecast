{
 "cells": [
  {
   "cell_type": "code",
   "execution_count": 35,
   "metadata": {},
   "outputs": [],
   "source": [
    "import numpy as np\n",
    "import csv\n",
    "import pandas as pd"
   ]
  },
  {
   "cell_type": "code",
   "execution_count": 36,
   "metadata": {},
   "outputs": [],
   "source": [
    "# Definindo a função sigmoid\n",
    "def sigmoid(x):\n",
    "    return 1 / (1 + np.exp(-x))\n",
    "\n",
    "# Derivada da função sigmoid\n",
    "def sigmoid_derivative(x):\n",
    "    return sigmoid(x) * (1 - sigmoid(x))\n",
    "\n",
    "# Função de perda (Erro quadrático médio)\n",
    "def mse_loss(y_true, y_pred):\n",
    "    return np.mean((y_true - y_pred) ** 2)"
   ]
  },
  {
   "cell_type": "code",
   "execution_count": 37,
   "metadata": {},
   "outputs": [],
   "source": [
    "# Carregar dados do CSV\n",
    "\"\"\"\n",
    "data = []\n",
    "with open('../model/data/modis_2023_Brazil.csv', 'r', encoding='utf-8') as ficheiro:\n",
    "    reader = csv.reader(ficheiro)\n",
    "    next(reader)  # Pula o cabeçalho\n",
    "    for linha in reader:\n",
    "        # Converte as colunas para float e armazena como tuplas de latitude e longitude\n",
    "        data.append((float(linha[0]), float(linha[1])))\n",
    "\"\"\"\n",
    "\n",
    "# Supondo que arq_combined já está definido e contém dados combinados\n",
    "arq2022 = pd.read_csv('../model/data/modis_2022_Brazil.csv', usecols=['latitude', 'longitude'])\n",
    "arq2023 = pd.read_csv('../model/data/modis_2023_Brazil.csv', usecols=['latitude', 'longitude'])\n",
    "arq_combined = pd.concat([arq2022, arq2023])"
   ]
  },
  {
   "cell_type": "code",
   "execution_count": 38,
   "metadata": {},
   "outputs": [
    {
     "name": "stdout",
     "output_type": "stream",
     "text": [
      "X: [[-23.1626 -53.7109 -23.3932 -53.8741 -23.3858 -53.8703]\n",
      " [-23.3932 -53.8741 -23.3858 -53.8703 -20.237  -56.6381]\n",
      " [-23.3858 -53.8703 -20.237  -56.6381 -20.2169 -56.6297]\n",
      " ...\n",
      " [ -6.8139 -38.3349  -6.7159 -38.0333  -6.7172 -38.0423]\n",
      " [ -6.7159 -38.0333  -6.7172 -38.0423  -6.639  -37.816 ]\n",
      " [ -6.7172 -38.0423  -6.639  -37.816   -6.5795 -38.1112]]\n",
      "y: [[-20.237  -56.6381 -20.2169 ... -56.6447 -18.4374 -55.525 ]\n",
      " [-20.2169 -56.6297 -20.2252 ... -55.525  -20.2401 -56.6554]\n",
      " [-20.2252 -56.6405 -20.2317 ... -56.6554 -20.222  -56.6232]\n",
      " ...\n",
      " [ -6.639  -37.816   -6.5795 ...   0.       0.       0.    ]\n",
      " [ -6.5795 -38.1112  -6.5694 ...   0.       0.       0.    ]\n",
      " [ -6.5694 -38.1677   0.     ...   0.       0.       0.    ]]\n"
     ]
    }
   ],
   "source": [
    "X = []\n",
    "y = []\n",
    "\n",
    "# Ajustando para o tamanho do conjunto de dados disponível\n",
    "for i in range(len(arq_combined) - 3):\n",
    "    X.append(np.array(arq_combined[i:i+3]).flatten())  # Achata a sequência em um vetor 1D\n",
    "    \n",
    "    # Prever os próximos pares futuros (até onde os dados permitem)\n",
    "    future_points = np.array(arq_combined[i+3:min(i+8, len(arq_combined))]).flatten()\n",
    "    \n",
    "    # Se não houver pares suficientes, preencher com zeros\n",
    "    if len(future_points) < 10:\n",
    "        future_points = np.pad(future_points, (0, 10 - len(future_points)), mode='constant')\n",
    "    \n",
    "    y.append(future_points)\n",
    "\n",
    "X = np.array(X)\n",
    "y = np.array(y)\n",
    "\n",
    "print(f\"X: {X}\")\n",
    "print(f\"y: {y}\")"
   ]
  },
  {
   "cell_type": "code",
   "execution_count": 39,
   "metadata": {},
   "outputs": [
    {
     "name": "stdout",
     "output_type": "stream",
     "text": [
      "X: [[-23.1626 -53.7109 -23.3932 -53.8741 -23.3858 -53.8703]\n",
      " [-23.3932 -53.8741 -23.3858 -53.8703 -20.237  -56.6381]\n",
      " [-23.3858 -53.8703 -20.237  -56.6381 -20.2169 -56.6297]\n",
      " ...\n",
      " [ -6.8139 -38.3349  -6.7159 -38.0333  -6.7172 -38.0423]\n",
      " [ -6.7159 -38.0333  -6.7172 -38.0423  -6.639  -37.816 ]\n",
      " [ -6.7172 -38.0423  -6.639  -37.816   -6.5795 -38.1112]]\n",
      "y: [[-20.237  -56.6381 -20.2169 ... -56.6447 -18.4374 -55.525 ]\n",
      " [-20.2169 -56.6297 -20.2252 ... -55.525  -20.2401 -56.6554]\n",
      " [-20.2252 -56.6405 -20.2317 ... -56.6554 -20.222  -56.6232]\n",
      " ...\n",
      " [ -6.639  -37.816   -6.5795 ...   0.       0.       0.    ]\n",
      " [ -6.5795 -38.1112  -6.5694 ...   0.       0.       0.    ]\n",
      " [ -6.5694 -38.1677   0.     ...   0.       0.       0.    ]]\n"
     ]
    }
   ],
   "source": [
    "X = []\n",
    "y = []\n",
    "\n",
    "# Ajustando para o tamanho do conjunto de dados disponível\n",
    "for i in range(len(arq_combined) - 3):\n",
    "    X.append(np.array(arq_combined[i:i+3]).flatten())  # Achata a sequência em um vetor 1D\n",
    "    \n",
    "    # Prever os próximos pares futuros (até onde os dados permitem)\n",
    "    future_points = np.array(arq_combined[i+3:min(i+8, len(arq_combined))]).flatten()\n",
    "    \n",
    "    # Se não houver pares suficientes, preencher com zeros\n",
    "    if len(future_points) < 10:\n",
    "        future_points = np.pad(future_points, (0, 10 - len(future_points)), mode='constant')\n",
    "    \n",
    "    y.append(future_points)\n",
    "\n",
    "X = np.array(X)\n",
    "y = np.array(y)\n",
    "\n",
    "print(f\"X: {X}\")\n",
    "print(f\"y: {y}\")"
   ]
  },
  {
   "cell_type": "code",
   "execution_count": 40,
   "metadata": {},
   "outputs": [
    {
     "name": "stdout",
     "output_type": "stream",
     "text": [
      "X: [[-23.1626 -53.7109 -23.3932 -53.8741 -23.3858 -53.8703]\n",
      " [-23.3932 -53.8741 -23.3858 -53.8703 -20.237  -56.6381]\n",
      " [-23.3858 -53.8703 -20.237  -56.6381 -20.2169 -56.6297]\n",
      " ...\n",
      " [ -6.8139 -38.3349  -6.7159 -38.0333  -6.7172 -38.0423]\n",
      " [ -6.7159 -38.0333  -6.7172 -38.0423  -6.639  -37.816 ]\n",
      " [ -6.7172 -38.0423  -6.639  -37.816   -6.5795 -38.1112]]\n",
      "y: [[-20.237  -56.6381 -20.2169 ... -56.6447 -18.4374 -55.525 ]\n",
      " [-20.2169 -56.6297 -20.2252 ... -55.525  -20.2401 -56.6554]\n",
      " [-20.2252 -56.6405 -20.2317 ... -56.6554 -20.222  -56.6232]\n",
      " ...\n",
      " [ -6.639  -37.816   -6.5795 ...   0.       0.       0.    ]\n",
      " [ -6.5795 -38.1112  -6.5694 ...   0.       0.       0.    ]\n",
      " [ -6.5694 -38.1677   0.     ...   0.       0.       0.    ]]\n"
     ]
    }
   ],
   "source": [
    "X = []\n",
    "y = []\n",
    "\n",
    "# Ajustando para o tamanho do conjunto de dados disponível\n",
    "for i in range(len(arq_combined) - 3):\n",
    "    X.append(np.array(arq_combined[i:i+3]).flatten())  # Achata a sequência em um vetor 1D\n",
    "    \n",
    "    # Prever os próximos pares futuros (até onde os dados permitem)\n",
    "    future_points = np.array(arq_combined[i+3:min(i+8, len(arq_combined))]).flatten()\n",
    "    \n",
    "    # Se não houver pares suficientes, preencher com zeros\n",
    "    if len(future_points) < 10:\n",
    "        future_points = np.pad(future_points, (0, 10 - len(future_points)), mode='constant')\n",
    "    \n",
    "    y.append(future_points)\n",
    "\n",
    "X = np.array(X)\n",
    "y = np.array(y)\n",
    "\n",
    "print(f\"X: {X}\")\n",
    "print(f\"y: {y}\")"
   ]
  },
  {
   "cell_type": "code",
   "execution_count": 41,
   "metadata": {},
   "outputs": [],
   "source": [
    "# Preparação dos dados para treinamento\n",
    "X = []\n",
    "y = []\n",
    "\n",
    "for i in range(len(arq_combined) - 3):\n",
    "    X.append(np.array(arq_combined[i:i+3]).flatten())  # Usando os 3 pares passados\n",
    "    future_points = np.array(arq_combined[i+3:min(i+8, len(arq_combined))]).flatten()\n",
    "    if len(future_points) < 10:  # Preencher com zeros se faltar dados\n",
    "        future_points = np.pad(future_points, (0, 10 - len(future_points)), mode='constant')\n",
    "    y.append(future_points)\n",
    "\n",
    "X = np.array(X)\n",
    "y = np.array(y)\n",
    "\n",
    "# Certificar que as dimensões de X e y são compatíveis\n",
    "assert X.shape[0] == y.shape[0], \"As dimensões de X e y não coincidem.\"\n"
   ]
  },
  {
   "cell_type": "code",
   "execution_count": 42,
   "metadata": {},
   "outputs": [],
   "source": [
    "# Definindo as dimensões da rede neural\n",
    "input_size = X.shape[1]\n",
    "hidden_size = 10  # Número de neurônios na camada oculta\n",
    "output_size = y.shape[1]\n",
    "\n",
    "# Inicializar pesos e biases\n",
    "W1 = np.random.randn(input_size, hidden_size)\n",
    "b1 = np.random.randn(hidden_size)\n",
    "W2 = np.random.randn(hidden_size, output_size)\n",
    "b2 = np.random.randn(output_size)\n",
    "\n",
    "# Forward propagation\n",
    "def forward(X):\n",
    "    z1 = np.dot(X, W1) + b1\n",
    "    a1 = sigmoid(z1)\n",
    "    z2 = np.dot(a1, W2) + b2\n",
    "    y_pred = sigmoid(z2)\n",
    "    return y_pred, a1"
   ]
  },
  {
   "cell_type": "code",
   "execution_count": 43,
   "metadata": {},
   "outputs": [
    {
     "name": "stdout",
     "output_type": "stream",
     "text": [
      "Epoch 0, Loss: 1508.5532357215232\n"
     ]
    },
    {
     "name": "stderr",
     "output_type": "stream",
     "text": [
      "/var/folders/34/gby6tkr103xfh0fy_017m5grcjxgrv/T/ipykernel_3869/2582420000.py:3: RuntimeWarning: overflow encountered in exp\n",
      "  return 1 / (1 + np.exp(-x))\n"
     ]
    },
    {
     "name": "stdout",
     "output_type": "stream",
     "text": [
      "Epoch 100, Loss: 1477.4546431774695\n",
      "Epoch 200, Loss: 1477.4546431774695\n",
      "Epoch 300, Loss: 1477.4546431774695\n",
      "Epoch 400, Loss: 1477.4546431774695\n",
      "Epoch 500, Loss: 1477.4546431774695\n",
      "Epoch 600, Loss: 1477.4546431774695\n",
      "Epoch 700, Loss: 1477.4546431774695\n",
      "Epoch 800, Loss: 1477.4546431774695\n",
      "Epoch 900, Loss: 1477.4546431774695\n"
     ]
    }
   ],
   "source": [
    "# Treinamento (Backpropagation)\n",
    "learning_rate = 0.01\n",
    "for epoch in range(1000):\n",
    "    y_pred, a1 = forward(X)\n",
    "    loss = mse_loss(y, y_pred)\n",
    "    \n",
    "    dL_dy_pred = -2 * (y - y_pred) / len(y)\n",
    "    \n",
    "    # Gradientes\n",
    "    dL_dW2 = np.dot(a1.T, dL_dy_pred)\n",
    "    dL_db2 = np.sum(dL_dy_pred, axis=0)\n",
    "    dL_da1 = np.dot(dL_dy_pred, W2.T) * sigmoid_derivative(a1)\n",
    "    dL_dW1 = np.dot(X.T, dL_da1)\n",
    "    dL_db1 = np.sum(dL_da1, axis=0)\n",
    "    \n",
    "    # Atualização de pesos e biases\n",
    "    W2 -= learning_rate * dL_dW2\n",
    "    b2 -= learning_rate * dL_db2\n",
    "    W1 -= learning_rate * dL_dW1\n",
    "    b1 -= learning_rate * dL_db1\n",
    "    \n",
    "    if epoch % 100 == 0:\n",
    "        print(f\"Epoch {epoch}, Loss: {loss}\")"
   ]
  },
  {
   "cell_type": "code",
   "execution_count": 44,
   "metadata": {},
   "outputs": [],
   "source": [
    "# Limites para latitude e longitude\n",
    "# Aqui preciso colocar o limite do Brasil\n",
    "# Evitar para que caia na água \n",
    "latitude_min, latitude_max = -22.9068, 0.80700 # altura do Brasil \n",
    "longitude_min, longitude_max = -34.79389, -73.99222 # Largura do Brasil"
   ]
  },
  {
   "cell_type": "code",
   "execution_count": 45,
   "metadata": {},
   "outputs": [
    {
     "name": "stdout",
     "output_type": "stream",
     "text": [
      "Next predicted latitudes and longitudes:\n",
      "Prediction 1: Latitude: 0.0, Longitude: -73.99222\n",
      "Prediction 2: Latitude: 0.0, Longitude: -73.99222\n",
      "Prediction 3: Latitude: 0.0, Longitude: -73.99222\n",
      "Prediction 4: Latitude: 0.0, Longitude: -73.99222\n",
      "Prediction 5: Latitude: 0.0, Longitude: -73.99222\n"
     ]
    },
    {
     "name": "stderr",
     "output_type": "stream",
     "text": [
      "/var/folders/34/gby6tkr103xfh0fy_017m5grcjxgrv/T/ipykernel_3869/2582420000.py:3: RuntimeWarning: overflow encountered in exp\n",
      "  return 1 / (1 + np.exp(-x))\n"
     ]
    }
   ],
   "source": [
    "# Previsão de novos pares de coordenadas\n",
    "if len(arq_combined) >= 3:\n",
    "    new_sequence = np.array(arq_combined[-3:]).flatten()\n",
    "    predicted_values, _ = forward(new_sequence)\n",
    "\n",
    "    predictions = predicted_values.reshape(-1, 2)\n",
    "\n",
    "    print(\"Next predicted latitudes and longitudes:\")\n",
    "    for i, pred in enumerate(predictions):\n",
    "        latitude, longitude = pred\n",
    "        # Limitar aos limites definidos\n",
    "        latitude = np.clip(latitude, latitude_min, latitude_max)\n",
    "        longitude = np.clip(longitude, longitude_min, longitude_max)\n",
    "        print(f\"Prediction {i + 1}: Latitude: {latitude}, Longitude: {longitude}\")"
   ]
  }
 ],
 "metadata": {
  "kernelspec": {
   "display_name": "Python 3",
   "language": "python",
   "name": "python3"
  },
  "language_info": {
   "codemirror_mode": {
    "name": "ipython",
    "version": 3
   },
   "file_extension": ".py",
   "mimetype": "text/x-python",
   "name": "python",
   "nbconvert_exporter": "python",
   "pygments_lexer": "ipython3",
   "version": "3.9.6"
  }
 },
 "nbformat": 4,
 "nbformat_minor": 2
}
