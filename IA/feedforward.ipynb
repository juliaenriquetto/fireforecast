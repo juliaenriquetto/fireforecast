{
 "cells": [
  {
   "cell_type": "code",
   "execution_count": 67,
   "metadata": {},
   "outputs": [],
   "source": [
    "import numpy as np"
   ]
  },
  {
   "cell_type": "code",
   "execution_count": 68,
   "metadata": {},
   "outputs": [],
   "source": [
    "# Definindo a função sigmoid\n",
    "def sigmoid(x):\n",
    "    return 1 / (1 + np.exp(-x))\n",
    "\n",
    "# Derivada da função sigmoid\n",
    "def sigmoid_derivative(x):\n",
    "    return sigmoid(x) * (1 - sigmoid(x))"
   ]
  },
  {
   "cell_type": "code",
   "execution_count": 69,
   "metadata": {},
   "outputs": [],
   "source": [
    "# Inicializando os pesos e bias\n",
    "input_size = 6  # Usando 3 pares de latitude e longitude (6 valores)\n",
    "hidden_size = 10  # Pode ser ajustado\n",
    "output_size = 10  # Prevê 5 pares de latitude e longitude (10 valores)\n",
    "\n",
    "W1 = np.random.randn(input_size, hidden_size)\n",
    "b1 = np.random.randn(hidden_size)\n",
    "\n",
    "W2 = np.random.randn(hidden_size, output_size)\n",
    "b2 = np.random.randn(output_size)"
   ]
  },
  {
   "cell_type": "code",
   "execution_count": 70,
   "metadata": {},
   "outputs": [],
   "source": [
    "# Função de forward pass\n",
    "def forward(X):\n",
    "    z1 = np.dot(X, W1) + b1\n",
    "    a1 = sigmoid(z1)\n",
    "    z2 = np.dot(a1, W2) + b2\n",
    "    output = z2\n",
    "    return output, a1"
   ]
  },
  {
   "cell_type": "code",
   "execution_count": 71,
   "metadata": {},
   "outputs": [],
   "source": [
    "# Função de perda (Erro quadrático médio)\n",
    "def mse_loss(y_true, y_pred):\n",
    "    return np.mean((y_true - y_pred) ** 2)"
   ]
  },
  {
   "cell_type": "code",
   "execution_count": 72,
   "metadata": {},
   "outputs": [],
   "source": [
    "# Gerando dados fictícios de latitude e longitude\n",
    "data = [\n",
    "    (-0.5730, -62.6640),\n",
    "    (-0.5690 , -62.6360),\n",
    "    (-0.5210 , -62.6160),\n",
    "    (-0.5210 , -62.6230),\n",
    "    (-0.4710 , -64.4570),\n",
    "]"
   ]
  },
  {
   "cell_type": "code",
   "execution_count": 73,
   "metadata": {},
   "outputs": [],
   "source": [
    "X = []\n",
    "y = []\n",
    "\n",
    "for i in range(len(data) - 3):\n",
    "    X.append(np.array(data[i:i+3]).flatten())  # Achata a sequência em um vetor 1D\n",
    "    \n",
    "    # Prever os próximos pares futuros (até onde os dados permitem)\n",
    "    future_points = np.array(data[i+3:min(i+8, len(data))]).flatten()\n",
    "    \n",
    "    # Se não houver pares suficientes, preencher com zeros\n",
    "    if len(future_points) < 10:\n",
    "        future_points = np.pad(future_points, (0, 10 - len(future_points)), mode='constant')\n",
    "    \n",
    "    y.append(future_points)\n",
    "\n",
    "X = np.array(X)\n",
    "y = np.array(y)"
   ]
  },
  {
   "cell_type": "code",
   "execution_count": 74,
   "metadata": {},
   "outputs": [
    {
     "name": "stdout",
     "output_type": "stream",
     "text": [
      "Shape de X: (2, 6)\n",
      "Shape de y: (2, 10)\n"
     ]
    }
   ],
   "source": [
    "# Verificação para garantir que os dados foram preparados corretamente\n",
    "print(f\"Shape de X: {X.shape}\")\n",
    "print(f\"Shape de y: {y.shape}\")"
   ]
  },
  {
   "cell_type": "code",
   "execution_count": 75,
   "metadata": {},
   "outputs": [
    {
     "name": "stdout",
     "output_type": "stream",
     "text": [
      "Epoch 0, Loss: 700.4948786739981\n",
      "Epoch 100, Loss: 103.95731864999998\n",
      "Epoch 200, Loss: 103.95731864999998\n",
      "Epoch 300, Loss: 103.95731864999998\n",
      "Epoch 400, Loss: 103.95731864999998\n",
      "Epoch 500, Loss: 103.95731864999998\n",
      "Epoch 600, Loss: 103.95731864999998\n",
      "Epoch 700, Loss: 103.95731864999998\n",
      "Epoch 800, Loss: 103.95731864999998\n",
      "Epoch 900, Loss: 103.95731864999998\n"
     ]
    },
    {
     "name": "stderr",
     "output_type": "stream",
     "text": [
      "/var/folders/34/gby6tkr103xfh0fy_017m5grcjxgrv/T/ipykernel_8365/2059585555.py:3: RuntimeWarning: overflow encountered in exp\n",
      "  return 1 / (1 + np.exp(-x))\n"
     ]
    }
   ],
   "source": [
    "# Backpropagation e treino\n",
    "learning_rate = 0.01\n",
    "for epoch in range(1000):\n",
    "    # Passo para frente\n",
    "    y_pred, a1 = forward(X)\n",
    "    \n",
    "    # Cálculo do erro\n",
    "    loss = mse_loss(y, y_pred)\n",
    "    \n",
    "    # Backpropagation\n",
    "    dL_dy_pred = -2 * (y - y_pred) / len(y)\n",
    "    \n",
    "    # Gradientes para W2 e b2\n",
    "    dL_dW2 = np.dot(a1.T, dL_dy_pred)\n",
    "    dL_db2 = np.sum(dL_dy_pred, axis=0)\n",
    "    \n",
    "    # Gradientes para a camada oculta\n",
    "    dL_da1 = np.dot(dL_dy_pred, W2.T) * sigmoid_derivative(a1)\n",
    "    \n",
    "    dL_dW1 = np.dot(X.T, dL_da1)\n",
    "    dL_db1 = np.sum(dL_da1, axis=0)\n",
    "    \n",
    "    # Atualizando os pesos e biases\n",
    "    W2 -= learning_rate * dL_dW2\n",
    "    b2 -= learning_rate * dL_db2\n",
    "    W1 -= learning_rate * dL_dW1\n",
    "    b1 -= learning_rate * dL_db1\n",
    "    \n",
    "    if epoch % 100 == 0:\n",
    "        print(f\"Epoch {epoch}, Loss: {loss}\")"
   ]
  },
  {
   "cell_type": "code",
   "execution_count": 76,
   "metadata": {},
   "outputs": [],
   "source": [
    "# Limites para latitude e longitude\n",
    "# Aqui preciso colocar o limite do Brasil\n",
    "# Evitar para que caia na água \n",
    "latitude_min, latitude_max = -22.9068, 0.80700 # altura do Brasil \n",
    "longitude_min, longitude_max = -34.79389, -73.99222 # Largura do Brasil"
   ]
  },
  {
   "cell_type": "code",
   "execution_count": 80,
   "metadata": {},
   "outputs": [
    {
     "name": "stdout",
     "output_type": "stream",
     "text": [
      "Next predicted latitudes and longitudes:\n",
      "Prediction 1: [ -0.496 -63.54 ]\n",
      "Prediction 2: [ -0.2355 -32.2285]\n",
      "Prediction 3: [0.00000000e+00 6.66133815e-16]\n",
      "Prediction 4: [ 6.66133815e-16 -2.77555756e-17]\n",
      "Prediction 5: [0. 0.]\n"
     ]
    },
    {
     "name": "stderr",
     "output_type": "stream",
     "text": [
      "/var/folders/34/gby6tkr103xfh0fy_017m5grcjxgrv/T/ipykernel_8365/2059585555.py:3: RuntimeWarning: overflow encountered in exp\n",
      "  return 1 / (1 + np.exp(-x))\n"
     ]
    }
   ],
   "source": [
    "# Prever os próximos pares de coordenadas (se existirem)\n",
    "if len(data) >= 3:\n",
    "    new_sequence = np.array(data[-3:]).flatten()  # Usar os últimos 3 pares de coordenadas\n",
    "    predicted_values, _ = forward(new_sequence)\n",
    "\n",
    "    # Reformatar a previsão para pares de coordenadas\n",
    "    predictions = predicted_values.reshape(-1, 2)\n",
    "\n",
    "    print(\"Next predicted latitudes and longitudes:\")\n",
    "    for i, pred in enumerate(predictions):\n",
    "        print(f\"Prediction {i + 1}: {pred}\")"
   ]
  }
 ],
 "metadata": {
  "kernelspec": {
   "display_name": "Python 3",
   "language": "python",
   "name": "python3"
  },
  "language_info": {
   "codemirror_mode": {
    "name": "ipython",
    "version": 3
   },
   "file_extension": ".py",
   "mimetype": "text/x-python",
   "name": "python",
   "nbconvert_exporter": "python",
   "pygments_lexer": "ipython3",
   "version": "3.9.6"
  }
 },
 "nbformat": 4,
 "nbformat_minor": 2
}
