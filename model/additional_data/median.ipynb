{
 "cells": [
  {
   "cell_type": "code",
   "execution_count": 1,
   "metadata": {},
   "outputs": [],
   "source": [
    "import pandas"
   ]
  },
  {
   "cell_type": "code",
   "execution_count": 2,
   "metadata": {},
   "outputs": [],
   "source": [
    "# path where the CSVs are stored\n",
    "dataset = pandas.read_csv(\"2024/df_2024.csv\", sep=\",\", encoding=\"ISO-8859-1\")"
   ]
  },
  {
   "cell_type": "code",
   "execution_count": 3,
   "metadata": {},
   "outputs": [
    {
     "data": {
      "text/html": [
       "<div>\n",
       "<style scoped>\n",
       "    .dataframe tbody tr th:only-of-type {\n",
       "        vertical-align: middle;\n",
       "    }\n",
       "\n",
       "    .dataframe tbody tr th {\n",
       "        vertical-align: top;\n",
       "    }\n",
       "\n",
       "    .dataframe thead th {\n",
       "        text-align: right;\n",
       "    }\n",
       "</style>\n",
       "<table border=\"1\" class=\"dataframe\">\n",
       "  <thead>\n",
       "    <tr style=\"text-align: right;\">\n",
       "      <th></th>\n",
       "      <th>Data</th>\n",
       "      <th>latitude</th>\n",
       "      <th>longitude</th>\n",
       "      <th>PRECIPITACAO TOTAL, HORARIO (mm)</th>\n",
       "      <th>PRESSAO ATMOSFERICA AO NIVEL DA ESTACAO, HORARIA (mB)</th>\n",
       "      <th>RADIACAO GLOBAL (KJ/m2)</th>\n",
       "      <th>TEMPERATURA DO AR - BULBO SECO, HORARIA (0C)</th>\n",
       "      <th>UMIDADE RELATIVA DO AR, HORARIA (%)</th>\n",
       "      <th>VENTO, RAJADA MAXIMA (m/s)</th>\n",
       "    </tr>\n",
       "  </thead>\n",
       "  <tbody>\n",
       "    <tr>\n",
       "      <th>0</th>\n",
       "      <td>2024-01-01</td>\n",
       "      <td>-15,78944444</td>\n",
       "      <td>-47,92583332</td>\n",
       "      <td>35.6</td>\n",
       "      <td>885.42</td>\n",
       "      <td>1094.39</td>\n",
       "      <td>22.00</td>\n",
       "      <td>82.54</td>\n",
       "      <td>4.15</td>\n",
       "    </tr>\n",
       "    <tr>\n",
       "      <th>1</th>\n",
       "      <td>2024-01-02</td>\n",
       "      <td>-15,78944444</td>\n",
       "      <td>-47,92583332</td>\n",
       "      <td>23.2</td>\n",
       "      <td>884.20</td>\n",
       "      <td>1171.95</td>\n",
       "      <td>21.19</td>\n",
       "      <td>91.00</td>\n",
       "      <td>4.42</td>\n",
       "    </tr>\n",
       "    <tr>\n",
       "      <th>2</th>\n",
       "      <td>2024-01-03</td>\n",
       "      <td>-15,78944444</td>\n",
       "      <td>-47,92583332</td>\n",
       "      <td>48.8</td>\n",
       "      <td>884.17</td>\n",
       "      <td>724.32</td>\n",
       "      <td>20.54</td>\n",
       "      <td>93.38</td>\n",
       "      <td>5.05</td>\n",
       "    </tr>\n",
       "    <tr>\n",
       "      <th>3</th>\n",
       "      <td>2024-01-04</td>\n",
       "      <td>-15,78944444</td>\n",
       "      <td>-47,92583332</td>\n",
       "      <td>7.6</td>\n",
       "      <td>884.82</td>\n",
       "      <td>590.89</td>\n",
       "      <td>20.38</td>\n",
       "      <td>94.75</td>\n",
       "      <td>5.72</td>\n",
       "    </tr>\n",
       "    <tr>\n",
       "      <th>4</th>\n",
       "      <td>2024-01-05</td>\n",
       "      <td>-15,78944444</td>\n",
       "      <td>-47,92583332</td>\n",
       "      <td>2.4</td>\n",
       "      <td>885.10</td>\n",
       "      <td>833.61</td>\n",
       "      <td>20.40</td>\n",
       "      <td>92.12</td>\n",
       "      <td>6.04</td>\n",
       "    </tr>\n",
       "  </tbody>\n",
       "</table>\n",
       "</div>"
      ],
      "text/plain": [
       "         Data      latitude     longitude  PRECIPITACAO TOTAL, HORARIO (mm)  \\\n",
       "0  2024-01-01  -15,78944444  -47,92583332                              35.6   \n",
       "1  2024-01-02  -15,78944444  -47,92583332                              23.2   \n",
       "2  2024-01-03  -15,78944444  -47,92583332                              48.8   \n",
       "3  2024-01-04  -15,78944444  -47,92583332                               7.6   \n",
       "4  2024-01-05  -15,78944444  -47,92583332                               2.4   \n",
       "\n",
       "   PRESSAO ATMOSFERICA AO NIVEL DA ESTACAO, HORARIA (mB)  \\\n",
       "0                                             885.42       \n",
       "1                                             884.20       \n",
       "2                                             884.17       \n",
       "3                                             884.82       \n",
       "4                                             885.10       \n",
       "\n",
       "   RADIACAO GLOBAL (KJ/m2)  TEMPERATURA DO AR - BULBO SECO, HORARIA (0C)  \\\n",
       "0                  1094.39                                         22.00   \n",
       "1                  1171.95                                         21.19   \n",
       "2                   724.32                                         20.54   \n",
       "3                   590.89                                         20.38   \n",
       "4                   833.61                                         20.40   \n",
       "\n",
       "   UMIDADE RELATIVA DO AR, HORARIA (%)  VENTO, RAJADA MAXIMA (m/s)  \n",
       "0                                82.54                        4.15  \n",
       "1                                91.00                        4.42  \n",
       "2                                93.38                        5.05  \n",
       "3                                94.75                        5.72  \n",
       "4                                92.12                        6.04  "
      ]
     },
     "execution_count": 3,
     "metadata": {},
     "output_type": "execute_result"
    }
   ],
   "source": [
    "dataset.head()"
   ]
  },
  {
   "cell_type": "code",
   "execution_count": 4,
   "metadata": {},
   "outputs": [
    {
     "name": "stdout",
     "output_type": "stream",
     "text": [
      "<class 'pandas.core.frame.DataFrame'>\n",
      "RangeIndex: 5946 entries, 0 to 5945\n",
      "Data columns (total 9 columns):\n",
      " #   Column                                                 Non-Null Count  Dtype  \n",
      "---  ------                                                 --------------  -----  \n",
      " 0   Data                                                   5946 non-null   object \n",
      " 1   latitude                                               5946 non-null   object \n",
      " 2   longitude                                              5946 non-null   object \n",
      " 3   PRECIPITACAO TOTAL, HORARIO (mm)                       5946 non-null   float64\n",
      " 4   PRESSAO ATMOSFERICA AO NIVEL DA ESTACAO, HORARIA (mB)  5887 non-null   float64\n",
      " 5   RADIACAO GLOBAL (KJ/m2)                                5743 non-null   float64\n",
      " 6   TEMPERATURA DO AR - BULBO SECO, HORARIA (0C)           5672 non-null   float64\n",
      " 7   UMIDADE RELATIVA DO AR, HORARIA (%)                    5448 non-null   float64\n",
      " 8   VENTO, RAJADA MAXIMA (m/s)                             5869 non-null   float64\n",
      "dtypes: float64(6), object(3)\n",
      "memory usage: 418.2+ KB\n"
     ]
    }
   ],
   "source": [
    "dataset.info()"
   ]
  },
  {
   "cell_type": "code",
   "execution_count": 24,
   "metadata": {},
   "outputs": [
    {
     "data": {
      "text/plain": [
       "Data                                                     0\n",
       "latitude                                                 0\n",
       "longitude                                                0\n",
       "PRECIPITACAO TOTAL, HORARIO (mm)                         0\n",
       "PRESSAO ATMOSFERICA AO NIVEL DA ESTACAO, HORARIA (mB)    0\n",
       "RADIACAO GLOBAL (KJ/m2)                                  0\n",
       "TEMPERATURA DO AR - BULBO SECO, HORARIA (0C)             0\n",
       "UMIDADE RELATIVA DO AR, HORARIA (%)                      0\n",
       "VENTO, RAJADA MAXIMA (m/s)                               0\n",
       "dtype: int64"
      ]
     },
     "execution_count": 24,
     "metadata": {},
     "output_type": "execute_result"
    }
   ],
   "source": [
    "dataset.isna().sum() # na == None"
   ]
  },
  {
   "cell_type": "code",
   "execution_count": 6,
   "metadata": {},
   "outputs": [
    {
     "name": "stdout",
     "output_type": "stream",
     "text": [
      "Mediana : 1003.89\n"
     ]
    }
   ],
   "source": [
    "# dados faltantes importantes - preencher usando mediana, media, etc \n",
    "pressao_input_value = dataset['PRESSAO ATMOSFERICA AO NIVEL DA ESTACAO, HORARIA (mB)'].median()\n",
    "print(f\"Mediana : {pressao_input_value}\")"
   ]
  },
  {
   "cell_type": "code",
   "execution_count": 7,
   "metadata": {},
   "outputs": [],
   "source": [
    "dataset['PRESSAO ATMOSFERICA AO NIVEL DA ESTACAO, HORARIA (mB)'] = dataset['PRESSAO ATMOSFERICA AO NIVEL DA ESTACAO, HORARIA (mB)'].fillna(pressao_input_value)"
   ]
  },
  {
   "cell_type": "code",
   "execution_count": 9,
   "metadata": {},
   "outputs": [
    {
     "name": "stdout",
     "output_type": "stream",
     "text": [
      "Mediana : 1243.4\n"
     ]
    }
   ],
   "source": [
    "# dados faltantes importantes - preencher usando mediana, media, etc \n",
    "radiacao_input_value = dataset['RADIACAO GLOBAL (KJ/m2)'].median()\n",
    "print(f\"Mediana : {radiacao_input_value}\")"
   ]
  },
  {
   "cell_type": "code",
   "execution_count": 10,
   "metadata": {},
   "outputs": [],
   "source": [
    "dataset['RADIACAO GLOBAL (KJ/m2)'] = dataset['RADIACAO GLOBAL (KJ/m2)'].fillna(radiacao_input_value)"
   ]
  },
  {
   "cell_type": "code",
   "execution_count": 12,
   "metadata": {},
   "outputs": [
    {
     "name": "stdout",
     "output_type": "stream",
     "text": [
      "Mediana : 26.4\n"
     ]
    }
   ],
   "source": [
    "# dados faltantes importantes - preencher usando mediana, media, etc \n",
    "temperatura_input_value = dataset['TEMPERATURA DO AR - BULBO SECO, HORARIA (0C)'].median()\n",
    "print(f\"Mediana : {temperatura_input_value}\")"
   ]
  },
  {
   "cell_type": "code",
   "execution_count": 13,
   "metadata": {},
   "outputs": [],
   "source": [
    "dataset['TEMPERATURA DO AR - BULBO SECO, HORARIA (0C)'] = dataset['TEMPERATURA DO AR - BULBO SECO, HORARIA (0C)'].fillna(temperatura_input_value)"
   ]
  },
  {
   "cell_type": "code",
   "execution_count": 16,
   "metadata": {},
   "outputs": [
    {
     "name": "stdout",
     "output_type": "stream",
     "text": [
      "Mediana : 75.19\n"
     ]
    }
   ],
   "source": [
    "# dados faltantes importantes - preencher usando mediana, media, etc \n",
    "umidade_input_value = dataset['UMIDADE RELATIVA DO AR, HORARIA (%)'].median()\n",
    "print(f\"Mediana : {umidade_input_value}\")"
   ]
  },
  {
   "cell_type": "code",
   "execution_count": 18,
   "metadata": {},
   "outputs": [],
   "source": [
    "dataset['UMIDADE RELATIVA DO AR, HORARIA (%)'] = dataset['UMIDADE RELATIVA DO AR, HORARIA (%)'].fillna(umidade_input_value)"
   ]
  },
  {
   "cell_type": "code",
   "execution_count": 22,
   "metadata": {},
   "outputs": [
    {
     "name": "stdout",
     "output_type": "stream",
     "text": [
      "Mediana : 4.37\n"
     ]
    }
   ],
   "source": [
    "# dados faltantes importantes - preencher usando mediana, media, etc \n",
    "vento_input_value = dataset['VENTO, RAJADA MAXIMA (m/s)'].median()\n",
    "print(f\"Mediana : {vento_input_value}\")"
   ]
  },
  {
   "cell_type": "code",
   "execution_count": 23,
   "metadata": {},
   "outputs": [],
   "source": [
    "dataset['VENTO, RAJADA MAXIMA (m/s)'] = dataset['VENTO, RAJADA MAXIMA (m/s)'].fillna(vento_input_value)"
   ]
  },
  {
   "cell_type": "code",
   "execution_count": null,
   "metadata": {},
   "outputs": [],
   "source": [
    "# Salva as alterações no arquivo CSV\n",
    "dataset.to_csv(\"2024/df_2024.csv\", sep=\",\", encoding=\"ISO-8859-1\", index=False)"
   ]
  }
 ],
 "metadata": {
  "kernelspec": {
   "display_name": "Python 3",
   "language": "python",
   "name": "python3"
  },
  "language_info": {
   "codemirror_mode": {
    "name": "ipython",
    "version": 3
   },
   "file_extension": ".py",
   "mimetype": "text/x-python",
   "name": "python",
   "nbconvert_exporter": "python",
   "pygments_lexer": "ipython3",
   "version": "3.9.6"
  }
 },
 "nbformat": 4,
 "nbformat_minor": 2
}
