{
 "cells": [
  {
   "cell_type": "code",
   "execution_count": 26,
   "metadata": {},
   "outputs": [],
   "source": [
    "import pandas"
   ]
  },
  {
   "cell_type": "code",
   "execution_count": 27,
   "metadata": {},
   "outputs": [],
   "source": [
    "# path where the CSVs are stored\n",
    "dataset = pandas.read_csv(\"2023/df_2023.csv\", sep=\",\", encoding=\"ISO-8859-1\")"
   ]
  },
  {
   "cell_type": "code",
   "execution_count": 28,
   "metadata": {},
   "outputs": [
    {
     "data": {
      "text/html": [
       "<div>\n",
       "<style scoped>\n",
       "    .dataframe tbody tr th:only-of-type {\n",
       "        vertical-align: middle;\n",
       "    }\n",
       "\n",
       "    .dataframe tbody tr th {\n",
       "        vertical-align: top;\n",
       "    }\n",
       "\n",
       "    .dataframe thead th {\n",
       "        text-align: right;\n",
       "    }\n",
       "</style>\n",
       "<table border=\"1\" class=\"dataframe\">\n",
       "  <thead>\n",
       "    <tr style=\"text-align: right;\">\n",
       "      <th></th>\n",
       "      <th>Data</th>\n",
       "      <th>latitude</th>\n",
       "      <th>longitude</th>\n",
       "      <th>PRECIPITACAO TOTAL, HORARIO (mm)</th>\n",
       "      <th>PRESSAO ATMOSFERICA AO NIVEL DA ESTACAO, HORARIA (mB)</th>\n",
       "      <th>RADIACAO GLOBAL (KJ/m2)</th>\n",
       "      <th>TEMPERATURA DO AR - BULBO SECO, HORARIA (0C)</th>\n",
       "      <th>UMIDADE RELATIVA DO AR, HORARIA (%)</th>\n",
       "      <th>VENTO, RAJADA MAXIMA (m/s)</th>\n",
       "    </tr>\n",
       "  </thead>\n",
       "  <tbody>\n",
       "    <tr>\n",
       "      <th>0</th>\n",
       "      <td>2023-01-01</td>\n",
       "      <td>2,81694443</td>\n",
       "      <td>-60,69083333</td>\n",
       "      <td>0.8</td>\n",
       "      <td>1001.96</td>\n",
       "      <td>1435.64</td>\n",
       "      <td>27.37</td>\n",
       "      <td>64.67</td>\n",
       "      <td>5.25</td>\n",
       "    </tr>\n",
       "    <tr>\n",
       "      <th>1</th>\n",
       "      <td>2023-01-02</td>\n",
       "      <td>2,81694443</td>\n",
       "      <td>-60,69083333</td>\n",
       "      <td>0.0</td>\n",
       "      <td>1001.92</td>\n",
       "      <td>1646.66</td>\n",
       "      <td>27.20</td>\n",
       "      <td>64.96</td>\n",
       "      <td>4.33</td>\n",
       "    </tr>\n",
       "    <tr>\n",
       "      <th>2</th>\n",
       "      <td>2023-01-03</td>\n",
       "      <td>2,81694443</td>\n",
       "      <td>-60,69083333</td>\n",
       "      <td>0.0</td>\n",
       "      <td>1001.62</td>\n",
       "      <td>1859.79</td>\n",
       "      <td>28.00</td>\n",
       "      <td>60.17</td>\n",
       "      <td>5.33</td>\n",
       "    </tr>\n",
       "    <tr>\n",
       "      <th>3</th>\n",
       "      <td>2023-01-04</td>\n",
       "      <td>2,81694443</td>\n",
       "      <td>-60,69083333</td>\n",
       "      <td>0.0</td>\n",
       "      <td>1002.36</td>\n",
       "      <td>1175.60</td>\n",
       "      <td>27.28</td>\n",
       "      <td>64.79</td>\n",
       "      <td>4.54</td>\n",
       "    </tr>\n",
       "    <tr>\n",
       "      <th>4</th>\n",
       "      <td>2023-01-05</td>\n",
       "      <td>2,81694443</td>\n",
       "      <td>-60,69083333</td>\n",
       "      <td>3.2</td>\n",
       "      <td>1002.91</td>\n",
       "      <td>1340.53</td>\n",
       "      <td>25.95</td>\n",
       "      <td>71.46</td>\n",
       "      <td>5.75</td>\n",
       "    </tr>\n",
       "  </tbody>\n",
       "</table>\n",
       "</div>"
      ],
      "text/plain": [
       "         Data    latitude     longitude  PRECIPITACAO TOTAL, HORARIO (mm)  \\\n",
       "0  2023-01-01  2,81694443  -60,69083333                               0.8   \n",
       "1  2023-01-02  2,81694443  -60,69083333                               0.0   \n",
       "2  2023-01-03  2,81694443  -60,69083333                               0.0   \n",
       "3  2023-01-04  2,81694443  -60,69083333                               0.0   \n",
       "4  2023-01-05  2,81694443  -60,69083333                               3.2   \n",
       "\n",
       "   PRESSAO ATMOSFERICA AO NIVEL DA ESTACAO, HORARIA (mB)  \\\n",
       "0                                            1001.96       \n",
       "1                                            1001.92       \n",
       "2                                            1001.62       \n",
       "3                                            1002.36       \n",
       "4                                            1002.91       \n",
       "\n",
       "   RADIACAO GLOBAL (KJ/m2)  TEMPERATURA DO AR - BULBO SECO, HORARIA (0C)  \\\n",
       "0                  1435.64                                         27.37   \n",
       "1                  1646.66                                         27.20   \n",
       "2                  1859.79                                         28.00   \n",
       "3                  1175.60                                         27.28   \n",
       "4                  1340.53                                         25.95   \n",
       "\n",
       "   UMIDADE RELATIVA DO AR, HORARIA (%)  VENTO, RAJADA MAXIMA (m/s)  \n",
       "0                                64.67                        5.25  \n",
       "1                                64.96                        4.33  \n",
       "2                                60.17                        5.33  \n",
       "3                                64.79                        4.54  \n",
       "4                                71.46                        5.75  "
      ]
     },
     "execution_count": 28,
     "metadata": {},
     "output_type": "execute_result"
    }
   ],
   "source": [
    "dataset.head()"
   ]
  },
  {
   "cell_type": "code",
   "execution_count": 29,
   "metadata": {},
   "outputs": [
    {
     "name": "stdout",
     "output_type": "stream",
     "text": [
      "<class 'pandas.core.frame.DataFrame'>\n",
      "RangeIndex: 8325 entries, 0 to 8324\n",
      "Data columns (total 9 columns):\n",
      " #   Column                                                 Non-Null Count  Dtype  \n",
      "---  ------                                                 --------------  -----  \n",
      " 0   Data                                                   8325 non-null   object \n",
      " 1   latitude                                               8325 non-null   object \n",
      " 2   longitude                                              8325 non-null   object \n",
      " 3   PRECIPITACAO TOTAL, HORARIO (mm)                       8325 non-null   float64\n",
      " 4   PRESSAO ATMOSFERICA AO NIVEL DA ESTACAO, HORARIA (mB)  8325 non-null   float64\n",
      " 5   RADIACAO GLOBAL (KJ/m2)                                8319 non-null   float64\n",
      " 6   TEMPERATURA DO AR - BULBO SECO, HORARIA (0C)           8325 non-null   float64\n",
      " 7   UMIDADE RELATIVA DO AR, HORARIA (%)                    8014 non-null   float64\n",
      " 8   VENTO, RAJADA MAXIMA (m/s)                             8176 non-null   float64\n",
      "dtypes: float64(6), object(3)\n",
      "memory usage: 585.5+ KB\n"
     ]
    }
   ],
   "source": [
    "dataset.info()"
   ]
  },
  {
   "cell_type": "code",
   "execution_count": 39,
   "metadata": {},
   "outputs": [
    {
     "data": {
      "text/plain": [
       "Data                                                     0\n",
       "latitude                                                 0\n",
       "longitude                                                0\n",
       "PRECIPITACAO TOTAL, HORARIO (mm)                         0\n",
       "PRESSAO ATMOSFERICA AO NIVEL DA ESTACAO, HORARIA (mB)    0\n",
       "RADIACAO GLOBAL (KJ/m2)                                  0\n",
       "TEMPERATURA DO AR - BULBO SECO, HORARIA (0C)             0\n",
       "UMIDADE RELATIVA DO AR, HORARIA (%)                      0\n",
       "VENTO, RAJADA MAXIMA (m/s)                               0\n",
       "dtype: int64"
      ]
     },
     "execution_count": 39,
     "metadata": {},
     "output_type": "execute_result"
    }
   ],
   "source": [
    "dataset.isna().sum() # na == None"
   ]
  },
  {
   "cell_type": "code",
   "execution_count": 6,
   "metadata": {},
   "outputs": [
    {
     "name": "stdout",
     "output_type": "stream",
     "text": [
      "Mediana : 1003.89\n"
     ]
    }
   ],
   "source": [
    "# dados faltantes importantes - preencher usando mediana, media, etc \n",
    "pressao_input_value = dataset['PRESSAO ATMOSFERICA AO NIVEL DA ESTACAO, HORARIA (mB)'].median()\n",
    "print(f\"Mediana : {pressao_input_value}\")"
   ]
  },
  {
   "cell_type": "code",
   "execution_count": 7,
   "metadata": {},
   "outputs": [],
   "source": [
    "dataset['PRESSAO ATMOSFERICA AO NIVEL DA ESTACAO, HORARIA (mB)'] = dataset['PRESSAO ATMOSFERICA AO NIVEL DA ESTACAO, HORARIA (mB)'].fillna(pressao_input_value)"
   ]
  },
  {
   "cell_type": "code",
   "execution_count": 9,
   "metadata": {},
   "outputs": [
    {
     "name": "stdout",
     "output_type": "stream",
     "text": [
      "Mediana : 1243.4\n"
     ]
    }
   ],
   "source": [
    "# dados faltantes importantes - preencher usando mediana, media, etc \n",
    "radiacao_input_value = dataset['RADIACAO GLOBAL (KJ/m2)'].median()\n",
    "print(f\"Mediana : {radiacao_input_value}\")"
   ]
  },
  {
   "cell_type": "code",
   "execution_count": 37,
   "metadata": {},
   "outputs": [],
   "source": [
    "dataset['RADIACAO GLOBAL (KJ/m2)'] = dataset['RADIACAO GLOBAL (KJ/m2)'].fillna(radiacao_input_value)"
   ]
  },
  {
   "cell_type": "code",
   "execution_count": 38,
   "metadata": {},
   "outputs": [
    {
     "name": "stdout",
     "output_type": "stream",
     "text": [
      "Mediana : 26.08\n"
     ]
    }
   ],
   "source": [
    "# dados faltantes importantes - preencher usando mediana, media, etc \n",
    "temperatura_input_value = dataset['TEMPERATURA DO AR - BULBO SECO, HORARIA (0C)'].median()\n",
    "print(f\"Mediana : {temperatura_input_value}\")"
   ]
  },
  {
   "cell_type": "code",
   "execution_count": 13,
   "metadata": {},
   "outputs": [],
   "source": [
    "dataset['TEMPERATURA DO AR - BULBO SECO, HORARIA (0C)'] = dataset['TEMPERATURA DO AR - BULBO SECO, HORARIA (0C)'].fillna(temperatura_input_value)"
   ]
  },
  {
   "cell_type": "code",
   "execution_count": 31,
   "metadata": {},
   "outputs": [
    {
     "name": "stdout",
     "output_type": "stream",
     "text": [
      "Mediana : 74.62\n"
     ]
    }
   ],
   "source": [
    "# dados faltantes importantes - preencher usando mediana, media, etc \n",
    "umidade_input_value = dataset['UMIDADE RELATIVA DO AR, HORARIA (%)'].median()\n",
    "print(f\"Mediana : {umidade_input_value}\")"
   ]
  },
  {
   "cell_type": "code",
   "execution_count": 32,
   "metadata": {},
   "outputs": [],
   "source": [
    "dataset['UMIDADE RELATIVA DO AR, HORARIA (%)'] = dataset['UMIDADE RELATIVA DO AR, HORARIA (%)'].fillna(umidade_input_value)"
   ]
  },
  {
   "cell_type": "code",
   "execution_count": 34,
   "metadata": {},
   "outputs": [
    {
     "name": "stdout",
     "output_type": "stream",
     "text": [
      "Mediana : 4.43\n"
     ]
    }
   ],
   "source": [
    "# dados faltantes importantes - preencher usando mediana, media, etc \n",
    "vento_input_value = dataset['VENTO, RAJADA MAXIMA (m/s)'].median()\n",
    "print(f\"Mediana : {vento_input_value}\")"
   ]
  },
  {
   "cell_type": "code",
   "execution_count": 35,
   "metadata": {},
   "outputs": [],
   "source": [
    "dataset['VENTO, RAJADA MAXIMA (m/s)'] = dataset['VENTO, RAJADA MAXIMA (m/s)'].fillna(vento_input_value)"
   ]
  },
  {
   "cell_type": "code",
   "execution_count": 25,
   "metadata": {},
   "outputs": [],
   "source": [
    "# Salva as alterações no arquivo CSV\n",
    "dataset.to_csv(\"2023/df_2023.csv\", sep=\",\", encoding=\"ISO-8859-1\", index=False)"
   ]
  }
 ],
 "metadata": {
  "kernelspec": {
   "display_name": "Python 3",
   "language": "python",
   "name": "python3"
  },
  "language_info": {
   "codemirror_mode": {
    "name": "ipython",
    "version": 3
   },
   "file_extension": ".py",
   "mimetype": "text/x-python",
   "name": "python",
   "nbconvert_exporter": "python",
   "pygments_lexer": "ipython3",
   "version": "3.9.6"
  }
 },
 "nbformat": 4,
 "nbformat_minor": 2
}
