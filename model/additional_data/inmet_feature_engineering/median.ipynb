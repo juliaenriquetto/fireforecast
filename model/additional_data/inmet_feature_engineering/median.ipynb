{
 "cells": [
  {
   "cell_type": "code",
   "execution_count": 41,
   "metadata": {},
   "outputs": [],
   "source": [
    "import pandas"
   ]
  },
  {
   "cell_type": "code",
   "execution_count": 99,
   "metadata": {},
   "outputs": [],
   "source": [
    "# path where the CSV is stored\n",
    "dataset = pandas.read_csv(\"2019/df_2019.csv\", sep=\",\", encoding=\"ISO-8859-1\")"
   ]
  },
  {
   "cell_type": "code",
   "execution_count": 100,
   "metadata": {},
   "outputs": [
    {
     "data": {
      "text/html": [
       "<div>\n",
       "<style scoped>\n",
       "    .dataframe tbody tr th:only-of-type {\n",
       "        vertical-align: middle;\n",
       "    }\n",
       "\n",
       "    .dataframe tbody tr th {\n",
       "        vertical-align: top;\n",
       "    }\n",
       "\n",
       "    .dataframe thead th {\n",
       "        text-align: right;\n",
       "    }\n",
       "</style>\n",
       "<table border=\"1\" class=\"dataframe\">\n",
       "  <thead>\n",
       "    <tr style=\"text-align: right;\">\n",
       "      <th></th>\n",
       "      <th>Data</th>\n",
       "      <th>latitude</th>\n",
       "      <th>longitude</th>\n",
       "      <th>PRECIPITACAO TOTAL, HORARIO (mm)</th>\n",
       "      <th>PRESSAO ATMOSFERICA AO NIVEL DA ESTACAO, HORARIA (mB)</th>\n",
       "      <th>RADIACAO GLOBAL (KJ/m2)</th>\n",
       "      <th>TEMPERATURA DO AR - BULBO SECO, HORARIA (0C)</th>\n",
       "      <th>UMIDADE RELATIVA DO AR, HORARIA (%)</th>\n",
       "      <th>VENTO, RAJADA MAXIMA (m/s)</th>\n",
       "    </tr>\n",
       "  </thead>\n",
       "  <tbody>\n",
       "    <tr>\n",
       "      <th>0</th>\n",
       "      <td>2019-01-01</td>\n",
       "      <td>-15,789343</td>\n",
       "      <td>-47,925756</td>\n",
       "      <td>1.4</td>\n",
       "      <td>888.02</td>\n",
       "      <td>1192.79</td>\n",
       "      <td>20.52</td>\n",
       "      <td>82.21</td>\n",
       "      <td>3.72</td>\n",
       "    </tr>\n",
       "    <tr>\n",
       "      <th>1</th>\n",
       "      <td>2019-01-02</td>\n",
       "      <td>-15,789343</td>\n",
       "      <td>-47,925756</td>\n",
       "      <td>0.0</td>\n",
       "      <td>888.80</td>\n",
       "      <td>2300.98</td>\n",
       "      <td>22.72</td>\n",
       "      <td>71.04</td>\n",
       "      <td>4.84</td>\n",
       "    </tr>\n",
       "    <tr>\n",
       "      <th>2</th>\n",
       "      <td>2019-01-03</td>\n",
       "      <td>-15,789343</td>\n",
       "      <td>-47,925756</td>\n",
       "      <td>0.0</td>\n",
       "      <td>887.62</td>\n",
       "      <td>2053.05</td>\n",
       "      <td>24.34</td>\n",
       "      <td>56.21</td>\n",
       "      <td>4.86</td>\n",
       "    </tr>\n",
       "    <tr>\n",
       "      <th>3</th>\n",
       "      <td>2019-01-04</td>\n",
       "      <td>-15,789343</td>\n",
       "      <td>-47,925756</td>\n",
       "      <td>0.0</td>\n",
       "      <td>887.54</td>\n",
       "      <td>1704.60</td>\n",
       "      <td>23.42</td>\n",
       "      <td>61.38</td>\n",
       "      <td>4.27</td>\n",
       "    </tr>\n",
       "    <tr>\n",
       "      <th>4</th>\n",
       "      <td>2019-01-05</td>\n",
       "      <td>-15,789343</td>\n",
       "      <td>-47,925756</td>\n",
       "      <td>1.0</td>\n",
       "      <td>887.96</td>\n",
       "      <td>886.91</td>\n",
       "      <td>20.87</td>\n",
       "      <td>77.25</td>\n",
       "      <td>3.70</td>\n",
       "    </tr>\n",
       "  </tbody>\n",
       "</table>\n",
       "</div>"
      ],
      "text/plain": [
       "         Data    latitude   longitude  PRECIPITACAO TOTAL, HORARIO (mm)  \\\n",
       "0  2019-01-01  -15,789343  -47,925756                               1.4   \n",
       "1  2019-01-02  -15,789343  -47,925756                               0.0   \n",
       "2  2019-01-03  -15,789343  -47,925756                               0.0   \n",
       "3  2019-01-04  -15,789343  -47,925756                               0.0   \n",
       "4  2019-01-05  -15,789343  -47,925756                               1.0   \n",
       "\n",
       "   PRESSAO ATMOSFERICA AO NIVEL DA ESTACAO, HORARIA (mB)  \\\n",
       "0                                             888.02       \n",
       "1                                             888.80       \n",
       "2                                             887.62       \n",
       "3                                             887.54       \n",
       "4                                             887.96       \n",
       "\n",
       "   RADIACAO GLOBAL (KJ/m2)  TEMPERATURA DO AR - BULBO SECO, HORARIA (0C)  \\\n",
       "0                  1192.79                                         20.52   \n",
       "1                  2300.98                                         22.72   \n",
       "2                  2053.05                                         24.34   \n",
       "3                  1704.60                                         23.42   \n",
       "4                   886.91                                         20.87   \n",
       "\n",
       "   UMIDADE RELATIVA DO AR, HORARIA (%)  VENTO, RAJADA MAXIMA (m/s)  \n",
       "0                                82.21                        3.72  \n",
       "1                                71.04                        4.84  \n",
       "2                                56.21                        4.86  \n",
       "3                                61.38                        4.27  \n",
       "4                                77.25                        3.70  "
      ]
     },
     "execution_count": 100,
     "metadata": {},
     "output_type": "execute_result"
    }
   ],
   "source": [
    "# Display the first five rows of the DataFrame to inspect the data structure and content\n",
    "dataset.head() "
   ]
  },
  {
   "cell_type": "code",
   "execution_count": 101,
   "metadata": {},
   "outputs": [
    {
     "name": "stdout",
     "output_type": "stream",
     "text": [
      "<class 'pandas.core.frame.DataFrame'>\n",
      "RangeIndex: 9380 entries, 0 to 9379\n",
      "Data columns (total 9 columns):\n",
      " #   Column                                                 Non-Null Count  Dtype  \n",
      "---  ------                                                 --------------  -----  \n",
      " 0   Data                                                   9380 non-null   object \n",
      " 1   latitude                                               9380 non-null   object \n",
      " 2   longitude                                              9380 non-null   object \n",
      " 3   PRECIPITACAO TOTAL, HORARIO (mm)                       9380 non-null   float64\n",
      " 4   PRESSAO ATMOSFERICA AO NIVEL DA ESTACAO, HORARIA (mB)  9380 non-null   float64\n",
      " 5   RADIACAO GLOBAL (KJ/m2)                                9312 non-null   float64\n",
      " 6   TEMPERATURA DO AR - BULBO SECO, HORARIA (0C)           9380 non-null   float64\n",
      " 7   UMIDADE RELATIVA DO AR, HORARIA (%)                    9256 non-null   float64\n",
      " 8   VENTO, RAJADA MAXIMA (m/s)                             8980 non-null   float64\n",
      "dtypes: float64(6), object(3)\n",
      "memory usage: 659.7+ KB\n"
     ]
    }
   ],
   "source": [
    "# Display a summary of the DataFrame, including the number of entries, column names, non-null counts, data types, and memory usage\n",
    "dataset.info()"
   ]
  },
  {
   "cell_type": "code",
   "execution_count": 108,
   "metadata": {},
   "outputs": [
    {
     "data": {
      "text/plain": [
       "Data                                                       0\n",
       "latitude                                                   0\n",
       "longitude                                                  0\n",
       "PRECIPITACAO TOTAL, HORARIO (mm)                           0\n",
       "PRESSAO ATMOSFERICA AO NIVEL DA ESTACAO, HORARIA (mB)      0\n",
       "RADIACAO GLOBAL (KJ/m2)                                    0\n",
       "TEMPERATURA DO AR - BULBO SECO, HORARIA (0C)               0\n",
       "UMIDADE RELATIVA DO AR, HORARIA (%)                        0\n",
       "VENTO, RAJADA MAXIMA (m/s)                               400\n",
       "dtype: int64"
      ]
     },
     "execution_count": 108,
     "metadata": {},
     "output_type": "execute_result"
    }
   ],
   "source": [
    "# Sum the number of missing values (NaN) in each column of the DataFrame\n",
    "dataset.isna().sum() # na == null"
   ]
  },
  {
   "cell_type": "code",
   "execution_count": 74,
   "metadata": {},
   "outputs": [
    {
     "name": "stdout",
     "output_type": "stream",
     "text": [
      "Mediana : 1005.26\n"
     ]
    }
   ],
   "source": [
    "# Calculate the median of the 'PRESSAO ATMOSFERICA AO NIVEL DA ESTACAO, HORARIA (mB)' column, round it to two decimal places, and store it in pressao_input_value\n",
    "pressao_input_value = round(dataset['PRESSAO ATMOSFERICA AO NIVEL DA ESTACAO, HORARIA (mB)'].median(), 2)\n",
    "print(f\"Mediana : {pressao_input_value}\")"
   ]
  },
  {
   "cell_type": "code",
   "execution_count": 75,
   "metadata": {},
   "outputs": [],
   "source": [
    "# Fill missing values (NaN) in the 'PRESSAO ATMOSFERICA AO NIVEL DA ESTACAO, HORARIA (mB)' column with the previously calculated median value\n",
    "dataset['PRESSAO ATMOSFERICA AO NIVEL DA ESTACAO, HORARIA (mB)'] = dataset['PRESSAO ATMOSFERICA AO NIVEL DA ESTACAO, HORARIA (mB)'].fillna(pressao_input_value)"
   ]
  },
  {
   "cell_type": "code",
   "execution_count": 103,
   "metadata": {},
   "outputs": [
    {
     "name": "stdout",
     "output_type": "stream",
     "text": [
      "Mediana : 1286.22\n"
     ]
    }
   ],
   "source": [
    "# Calculate the median of the 'RADIACAO GLOBAL (KJ/m2)' column, round it to two decimal places, and store it in radiacao_input_value\n",
    "radiacao_input_value = round(dataset['RADIACAO GLOBAL (KJ/m2)'].median(), 2)\n",
    "print(f\"Mediana : {radiacao_input_value}\")"
   ]
  },
  {
   "cell_type": "code",
   "execution_count": 104,
   "metadata": {},
   "outputs": [],
   "source": [
    "# Fill missing values (NaN) in the 'RADIACAO GLOBAL (KJ/m2)' column with the previously calculated median value\n",
    "dataset['RADIACAO GLOBAL (KJ/m2)'] = dataset['RADIACAO GLOBAL (KJ/m2)'].fillna(radiacao_input_value)"
   ]
  },
  {
   "cell_type": "code",
   "execution_count": 64,
   "metadata": {},
   "outputs": [
    {
     "name": "stdout",
     "output_type": "stream",
     "text": [
      "Mediana : 25.58\n"
     ]
    }
   ],
   "source": [
    "# Calculate the median of the 'TEMPERATURA DO AR - BULBO SECO, HORARIA (0C)' column, round it to two decimal places, and store it in temperatura_input_value\n",
    "temperatura_input_value = round(dataset['TEMPERATURA DO AR - BULBO SECO, HORARIA (0C)'].median(), 2)\n",
    "print(f\"Mediana : {temperatura_input_value}\")"
   ]
  },
  {
   "cell_type": "code",
   "execution_count": 65,
   "metadata": {},
   "outputs": [],
   "source": [
    "# Fill missing values (NaN) in the 'TEMPERATURA DO AR - BULBO SECO, HORARIA (0C)' column with the previously calculated median value\n",
    "dataset['TEMPERATURA DO AR - BULBO SECO, HORARIA (0C)'] = dataset['TEMPERATURA DO AR - BULBO SECO, HORARIA (0C)'].fillna(temperatura_input_value)"
   ]
  },
  {
   "cell_type": "code",
   "execution_count": 106,
   "metadata": {},
   "outputs": [
    {
     "name": "stdout",
     "output_type": "stream",
     "text": [
      "Mediana : 75.04\n"
     ]
    }
   ],
   "source": [
    "# Calculate the median of the 'UMIDADE RELATIVA DO AR, HORARIA (%)' column, round it to two decimal places, and store it in umidade_input_value\n",
    "umidade_input_value = round(dataset['UMIDADE RELATIVA DO AR, HORARIA (%)'].median(), 2)\n",
    "print(f\"Mediana : {umidade_input_value}\")"
   ]
  },
  {
   "cell_type": "code",
   "execution_count": 107,
   "metadata": {},
   "outputs": [],
   "source": [
    "# Fill missing values (NaN) in the 'UMIDADE RELATIVA DO AR, HORARIA (%)' column with the previously calculated median value\n",
    "dataset['UMIDADE RELATIVA DO AR, HORARIA (%)'] = dataset['UMIDADE RELATIVA DO AR, HORARIA (%)'].fillna(umidade_input_value)"
   ]
  },
  {
   "cell_type": "code",
   "execution_count": 109,
   "metadata": {},
   "outputs": [
    {
     "name": "stdout",
     "output_type": "stream",
     "text": [
      "Mediana : 4.81\n"
     ]
    }
   ],
   "source": [
    "# Calculate the median of the 'VENTO, RAJADA MAXIMA (m/s)' column, round it to two decimal places, and store it in vento_input_value\n",
    "vento_input_value = round(dataset['VENTO, RAJADA MAXIMA (m/s)'].median(), 2)\n",
    "print(f\"Mediana : {vento_input_value}\")"
   ]
  },
  {
   "cell_type": "code",
   "execution_count": 110,
   "metadata": {},
   "outputs": [],
   "source": [
    "# Fill missing values (NaN) in the 'VENTO, RAJADA MAXIMA (m/s)' column with the previously calculated median value\n",
    "dataset['VENTO, RAJADA MAXIMA (m/s)'] = dataset['VENTO, RAJADA MAXIMA (m/s)'].fillna(vento_input_value)"
   ]
  },
  {
   "cell_type": "code",
   "execution_count": 111,
   "metadata": {},
   "outputs": [],
   "source": [
    "# Save the changes made to the csv file\n",
    "dataset.to_csv(\"2019/df_2019.csv\", sep=\",\", encoding=\"ISO-8859-1\", index=False)"
   ]
  }
 ],
 "metadata": {
  "kernelspec": {
   "display_name": "Python 3",
   "language": "python",
   "name": "python3"
  },
  "language_info": {
   "codemirror_mode": {
    "name": "ipython",
    "version": 3
   },
   "file_extension": ".py",
   "mimetype": "text/x-python",
   "name": "python",
   "nbconvert_exporter": "python",
   "pygments_lexer": "ipython3",
   "version": "3.9.6"
  }
 },
 "nbformat": 4,
 "nbformat_minor": 2
}
