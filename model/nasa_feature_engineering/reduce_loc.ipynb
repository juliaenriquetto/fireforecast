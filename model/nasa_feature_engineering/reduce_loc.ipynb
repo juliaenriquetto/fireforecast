{
 "cells": [
  {
   "cell_type": "code",
   "execution_count": 1,
   "metadata": {},
   "outputs": [
    {
     "name": "stderr",
     "output_type": "stream",
     "text": [
      "/var/folders/34/gby6tkr103xfh0fy_017m5grcjxgrv/T/ipykernel_29003/4080736814.py:1: DeprecationWarning: \n",
      "Pyarrow will become a required dependency of pandas in the next major release of pandas (pandas 3.0),\n",
      "(to allow more performant data types, such as the Arrow string type, and better interoperability with other libraries)\n",
      "but was not found to be installed on your system.\n",
      "If this would cause problems for you,\n",
      "please provide us feedback at https://github.com/pandas-dev/pandas/issues/54466\n",
      "        \n",
      "  import pandas as pd\n"
     ]
    }
   ],
   "source": [
    "import pandas as pd"
   ]
  },
  {
   "cell_type": "code",
   "execution_count": null,
   "metadata": {},
   "outputs": [],
   "source": [
    "# Reading the original file\n",
    "dados = pd.read_csv(\"modis_2019_Brazil.csv\")\n",
    "dados.head() # Displaying the first few rows of the dataset"
   ]
  },
  {
   "cell_type": "code",
   "execution_count": null,
   "metadata": {},
   "outputs": [],
   "source": [
    "# Reducing similar latitude and longitude values\n",
    "dadosMenores = pd.read_csv('modis_2019.csv')\n",
    "\n",
    "def similar_location(dadosMenores, threshold=0.01): \n",
    "    # Calculating nearby latitude values\n",
    "    # Grouping values that have the first three decimal equal places\n",
    "    dadosMenores[\"new_lat\"] = dadosMenores[\"latitude\"].apply(lambda x: round(x,2))\n",
    "    dadosMenores[\"new_lon\"] = dadosMenores[\"longitude\"].apply(lambda x: round(x,2))\n",
    "\n",
    "    # Grouping by latitude and longitude and calculating the mean for each group\n",
    "    dadosFinais = dadosMenores.groupby([\"new_lat\", \"new_lon\"]).mean()\n",
    "\n",
    "    return dadosFinais\n",
    "\n",
    "dadosFinais = similar_location(dadosMenores)\n",
    "# Saving the final dataset to a CSV file without the index\n",
    "dadosFinais.to_csv(\"modisFinal_2019.csv\", index=False)"
   ]
  }
 ],
 "metadata": {
  "kernelspec": {
   "display_name": "Python 3",
   "language": "python",
   "name": "python3"
  },
  "language_info": {
   "codemirror_mode": {
    "name": "ipython",
    "version": 3
   },
   "file_extension": ".py",
   "mimetype": "text/x-python",
   "name": "python",
   "nbconvert_exporter": "python",
   "pygments_lexer": "ipython3",
   "version": "3.9.6"
  }
 },
 "nbformat": 4,
 "nbformat_minor": 2
}
