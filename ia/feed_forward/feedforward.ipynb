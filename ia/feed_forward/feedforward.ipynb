{
 "cells": [
  {
   "cell_type": "code",
   "execution_count": null,
   "metadata": {},
   "outputs": [],
   "source": [
    "import pandas as pd\n",
    "import numpy as np\n",
    "from sklearn.neighbors import NearestNeighbors\n",
    "from sklearn.model_selection import train_test_split\n",
    "\n",
    "from keras.models import Sequential\n",
    "from keras.layers import Dense"
   ]
  },
  {
   "cell_type": "code",
   "execution_count": null,
   "metadata": {},
   "outputs": [],
   "source": [
    "data_inmet = pd.read_csv('../../model/additional_data/datasets/inmet_2019_2024.csv')\n",
    "data_modis = pd.read_csv('../../model/data/modisTodos.csv')"
   ]
  },
  {
   "cell_type": "code",
   "execution_count": 5,
   "metadata": {},
   "outputs": [
    {
     "name": "stdout",
     "output_type": "stream",
     "text": [
      "Tipos de dados em data_inmet:\n",
      "Data                                                      object\n",
      "latitude                                                  object\n",
      "longitude                                                 object\n",
      "PRECIPITACAO TOTAL, HORARIO (mm)                         float64\n",
      "PRESSAO ATMOSFERICA AO NIVEL DA ESTACAO, HORARIA (mB)    float64\n",
      "RADIACAO GLOBAL (KJ/m2)                                  float64\n",
      "TEMPERATURA DO AR - BULBO SECO, HORARIA (0C)             float64\n",
      "UMIDADE RELATIVA DO AR, HORARIA (%)                      float64\n",
      "VENTO, RAJADA MAXIMA (m/s)                               float64\n",
      "dtype: object\n",
      "\n",
      "Tipos de dados em data_modis:\n",
      "latitude      float64\n",
      "longitude     float64\n",
      "confidence    float64\n",
      "dtype: object\n"
     ]
    }
   ],
   "source": [
    "# Verificar os tipos de dados das colunas de latitude e longitude\n",
    "print(\"Tipos de dados em data_inmet:\")\n",
    "print(data_inmet.dtypes)\n",
    "print(\"\\nTipos de dados em data_modis:\")\n",
    "print(data_modis.dtypes)"
   ]
  },
  {
   "cell_type": "code",
   "execution_count": 6,
   "metadata": {},
   "outputs": [
    {
     "name": "stdout",
     "output_type": "stream",
     "text": [
      "\n",
      "Valores nulos em data_inmet:\n",
      "latitude     0\n",
      "longitude    0\n",
      "dtype: int64\n",
      "\n",
      "Valores nulos em data_modis:\n",
      "latitude     0\n",
      "longitude    0\n",
      "dtype: int64\n"
     ]
    }
   ],
   "source": [
    "# Verificar se há valores nulos\n",
    "print(\"\\nValores nulos em data_inmet:\")\n",
    "print(data_inmet[['latitude', 'longitude']].isnull().sum())\n",
    "print(\"\\nValores nulos em data_modis:\")\n",
    "print(data_modis[['latitude', 'longitude']].isnull().sum())"
   ]
  },
  {
   "cell_type": "code",
   "execution_count": 7,
   "metadata": {},
   "outputs": [],
   "source": [
    "# Converter as colunas para string, se necessário\n",
    "data_inmet['latitude'] = data_inmet['latitude'].astype(str).str.replace(',', '.')\n",
    "data_inmet['longitude'] = data_inmet['longitude'].astype(str).str.replace(',', '.')\n",
    "\n",
    "data_modis['latitude'] = data_modis['latitude'].astype(str).str.replace(',', '.')\n",
    "data_modis['longitude'] = data_modis['longitude'].astype(str).str.replace(',', '.')"
   ]
  },
  {
   "cell_type": "code",
   "execution_count": 8,
   "metadata": {},
   "outputs": [],
   "source": [
    "# Ajustar os tipos de dados para latitude e longitude\n",
    "data_inmet['latitude'] = data_inmet['latitude'].astype(float)\n",
    "data_inmet['longitude'] = data_inmet['longitude'].astype(float)\n",
    "data_modis['latitude'] = data_modis['latitude'].astype(float)\n",
    "data_modis['longitude'] = data_modis['longitude'].astype(float)"
   ]
  },
  {
   "cell_type": "code",
   "execution_count": 9,
   "metadata": {},
   "outputs": [],
   "source": [
    "# Arredondar coordenadas para combinar dados com tolerância\n",
    "data_inmet['latitude'] = data_inmet['latitude'].round(4)\n",
    "data_inmet['longitude'] = data_inmet['longitude'].round(4)\n",
    "data_modis['latitude'] = data_modis['latitude'].round(4)\n",
    "data_modis['longitude'] = data_modis['longitude'].round(4)"
   ]
  },
  {
   "cell_type": "code",
   "execution_count": 10,
   "metadata": {},
   "outputs": [],
   "source": [
    "# Preparar os dados para Nearest Neighbors\n",
    "inmet_coords = data_inmet[['latitude', 'longitude']].values\n",
    "modis_coords = data_modis[['latitude', 'longitude']].values\n",
    "nbrs = NearestNeighbors(n_neighbors=1, radius=0.01).fit(modis_coords)\n",
    "distances, indices = nbrs.kneighbors(inmet_coords)"
   ]
  },
  {
   "cell_type": "code",
   "execution_count": 11,
   "metadata": {},
   "outputs": [],
   "source": [
    "# Adicionar índice de correspondência e distância ao DataFrame do INMET\n",
    "data_inmet['modis_index'] = indices.flatten()\n",
    "data_inmet['distance'] = distances.flatten()"
   ]
  },
  {
   "cell_type": "code",
   "execution_count": 12,
   "metadata": {},
   "outputs": [],
   "source": [
    "# Filtrar correspondências dentro da tolerância\n",
    "tolerance = 0.1\n",
    "filtered_inmet = data_inmet[data_inmet['distance'] < tolerance]"
   ]
  },
  {
   "cell_type": "code",
   "execution_count": 13,
   "metadata": {},
   "outputs": [
    {
     "name": "stdout",
     "output_type": "stream",
     "text": [
      "DataFrame Combinado com Tolerância:\n",
      "         Data  latitude_x  longitude_x  PRECIPITACAO TOTAL, HORARIO (mm)  \\\n",
      "0  2019-01-01    -15.7893     -47.9258                               1.4   \n",
      "1  2019-01-02    -15.7893     -47.9258                               0.0   \n",
      "2  2019-01-03    -15.7893     -47.9258                               0.0   \n",
      "3  2019-01-04    -15.7893     -47.9258                               0.0   \n",
      "4  2019-01-05    -15.7893     -47.9258                               1.0   \n",
      "\n",
      "   PRESSAO ATMOSFERICA AO NIVEL DA ESTACAO, HORARIA (mB)  \\\n",
      "0                                             888.02       \n",
      "1                                             888.80       \n",
      "2                                             887.62       \n",
      "3                                             887.54       \n",
      "4                                             887.96       \n",
      "\n",
      "   RADIACAO GLOBAL (KJ/m2)  TEMPERATURA DO AR - BULBO SECO, HORARIA (0C)  \\\n",
      "0                  1192.79                                         20.52   \n",
      "1                  2300.98                                         22.72   \n",
      "2                  2053.05                                         24.34   \n",
      "3                  1704.60                                         23.42   \n",
      "4                   886.91                                         20.87   \n",
      "\n",
      "   UMIDADE RELATIVA DO AR, HORARIA (%)  VENTO, RAJADA MAXIMA (m/s)  \\\n",
      "0                                82.21                        3.72   \n",
      "1                                71.04                        4.84   \n",
      "2                                56.21                        4.86   \n",
      "3                                61.38                        4.27   \n",
      "4                                77.25                        3.70   \n",
      "\n",
      "   modis_index  distance  latitude_y  longitude_y  confidence  \n",
      "0       343669  0.011666    -15.7864     -47.9371        84.0  \n",
      "1       343669  0.011666    -15.7864     -47.9371        84.0  \n",
      "2       343669  0.011666    -15.7864     -47.9371        84.0  \n",
      "3       343669  0.011666    -15.7864     -47.9371        84.0  \n",
      "4       343669  0.011666    -15.7864     -47.9371        84.0  \n"
     ]
    }
   ],
   "source": [
    "# Fazer o merge\n",
    "combined_data_tolerance = pd.merge(filtered_inmet, data_modis, left_on='modis_index', right_index=True, how='inner')\n",
    "\n",
    "# Verifique o DataFrame combinado com tolerância\n",
    "print(\"DataFrame Combinado com Tolerância:\")\n",
    "print(combined_data_tolerance.head())"
   ]
  },
  {
   "cell_type": "code",
   "execution_count": 14,
   "metadata": {},
   "outputs": [],
   "source": [
    "# Definir X e y para treinamento (usando variáveis importantes como latitude, longitude e outros dados climáticos)\n",
    "X = combined_data_tolerance[['latitude_x', 'longitude_x']]\n",
    "y = combined_data_tolerance['confidence']  # Defina a coluna correta de saída"
   ]
  },
  {
   "cell_type": "code",
   "execution_count": 15,
   "metadata": {},
   "outputs": [],
   "source": [
    "# Divida os dados em conjuntos de treinamento e teste\n",
    "X_train, X_test, y_train, y_test = train_test_split(X, y, test_size=0.2, random_state=42)"
   ]
  },
  {
   "cell_type": "code",
   "execution_count": 16,
   "metadata": {},
   "outputs": [
    {
     "ename": "NameError",
     "evalue": "name 'Sequential' is not defined",
     "output_type": "error",
     "traceback": [
      "\u001b[1;31m---------------------------------------------------------------------------\u001b[0m",
      "\u001b[1;31mNameError\u001b[0m                                 Traceback (most recent call last)",
      "Cell \u001b[1;32mIn[16], line 2\u001b[0m\n\u001b[0;32m      1\u001b[0m \u001b[38;5;66;03m# Criar o modelo Feedforward\u001b[39;00m\n\u001b[1;32m----> 2\u001b[0m model \u001b[38;5;241m=\u001b[39m \u001b[43mSequential\u001b[49m()\n\u001b[0;32m      3\u001b[0m model\u001b[38;5;241m.\u001b[39madd(Dense(\u001b[38;5;241m64\u001b[39m, input_dim\u001b[38;5;241m=\u001b[39mX_train\u001b[38;5;241m.\u001b[39mshape[\u001b[38;5;241m1\u001b[39m], activation\u001b[38;5;241m=\u001b[39m\u001b[38;5;124m'\u001b[39m\u001b[38;5;124mrelu\u001b[39m\u001b[38;5;124m'\u001b[39m))\n\u001b[0;32m      4\u001b[0m model\u001b[38;5;241m.\u001b[39madd(Dense(\u001b[38;5;241m32\u001b[39m, activation\u001b[38;5;241m=\u001b[39m\u001b[38;5;124m'\u001b[39m\u001b[38;5;124mrelu\u001b[39m\u001b[38;5;124m'\u001b[39m))\n",
      "\u001b[1;31mNameError\u001b[0m: name 'Sequential' is not defined"
     ]
    }
   ],
   "source": [
    "# Criar o modelo Feedforward\n",
    "model = Sequential()\n",
    "model.add(Dense(64, input_dim=X_train.shape[1], activation='relu'))\n",
    "model.add(Dense(32, activation='relu'))\n",
    "model.add(Dense(1, activation='linear'))\n",
    "model.compile(loss='mean_squared_error', optimizer='adam')\n",
    "model.fit(X_train, y_train, epochs=100, batch_size=10, verbose=1)"
   ]
  },
  {
   "cell_type": "code",
   "execution_count": null,
   "metadata": {},
   "outputs": [
    {
     "name": "stdout",
     "output_type": "stream",
     "text": [
      "Epoch 1/100\n",
      "\u001b[1m3739/3739\u001b[0m \u001b[32m━━━━━━━━━━━━━━━━━━━━\u001b[0m\u001b[37m\u001b[0m \u001b[1m1s\u001b[0m 315us/step - loss: 1718.4664\n",
      "Epoch 2/100\n",
      "\u001b[1m3739/3739\u001b[0m \u001b[32m━━━━━━━━━━━━━━━━━━━━\u001b[0m\u001b[37m\u001b[0m \u001b[1m1s\u001b[0m 304us/step - loss: 868.7367\n",
      "Epoch 3/100\n",
      "\u001b[1m3739/3739\u001b[0m \u001b[32m━━━━━━━━━━━━━━━━━━━━\u001b[0m\u001b[37m\u001b[0m \u001b[1m1s\u001b[0m 323us/step - loss: 834.3995\n",
      "Epoch 4/100\n",
      "\u001b[1m3739/3739\u001b[0m \u001b[32m━━━━━━━━━━━━━━━━━━━━\u001b[0m\u001b[37m\u001b[0m \u001b[1m1s\u001b[0m 300us/step - loss: 819.9442\n",
      "Epoch 5/100\n",
      "\u001b[1m3739/3739\u001b[0m \u001b[32m━━━━━━━━━━━━━━━━━━━━\u001b[0m\u001b[37m\u001b[0m \u001b[1m1s\u001b[0m 300us/step - loss: 811.8189\n",
      "Epoch 6/100\n",
      "\u001b[1m3739/3739\u001b[0m \u001b[32m━━━━━━━━━━━━━━━━━━━━\u001b[0m\u001b[37m\u001b[0m \u001b[1m1s\u001b[0m 298us/step - loss: 814.2697\n",
      "Epoch 7/100\n",
      "\u001b[1m3739/3739\u001b[0m \u001b[32m━━━━━━━━━━━━━━━━━━━━\u001b[0m\u001b[37m\u001b[0m \u001b[1m1s\u001b[0m 299us/step - loss: 808.2418\n",
      "Epoch 8/100\n",
      "\u001b[1m3739/3739\u001b[0m \u001b[32m━━━━━━━━━━━━━━━━━━━━\u001b[0m\u001b[37m\u001b[0m \u001b[1m1s\u001b[0m 301us/step - loss: 798.2357\n",
      "Epoch 9/100\n",
      "\u001b[1m3739/3739\u001b[0m \u001b[32m━━━━━━━━━━━━━━━━━━━━\u001b[0m\u001b[37m\u001b[0m \u001b[1m1s\u001b[0m 300us/step - loss: 809.6699\n",
      "Epoch 10/100\n",
      "\u001b[1m3739/3739\u001b[0m \u001b[32m━━━━━━━━━━━━━━━━━━━━\u001b[0m\u001b[37m\u001b[0m \u001b[1m1s\u001b[0m 300us/step - loss: 791.7117\n",
      "Epoch 11/100\n",
      "\u001b[1m3739/3739\u001b[0m \u001b[32m━━━━━━━━━━━━━━━━━━━━\u001b[0m\u001b[37m\u001b[0m \u001b[1m1s\u001b[0m 300us/step - loss: 789.5043\n",
      "Epoch 12/100\n",
      "\u001b[1m3739/3739\u001b[0m \u001b[32m━━━━━━━━━━━━━━━━━━━━\u001b[0m\u001b[37m\u001b[0m \u001b[1m1s\u001b[0m 301us/step - loss: 785.4346\n",
      "Epoch 13/100\n",
      "\u001b[1m3739/3739\u001b[0m \u001b[32m━━━━━━━━━━━━━━━━━━━━\u001b[0m\u001b[37m\u001b[0m \u001b[1m1s\u001b[0m 322us/step - loss: 782.5067\n",
      "Epoch 14/100\n",
      "\u001b[1m3739/3739\u001b[0m \u001b[32m━━━━━━━━━━━━━━━━━━━━\u001b[0m\u001b[37m\u001b[0m \u001b[1m1s\u001b[0m 298us/step - loss: 780.1790\n",
      "Epoch 15/100\n",
      "\u001b[1m3739/3739\u001b[0m \u001b[32m━━━━━━━━━━━━━━━━━━━━\u001b[0m\u001b[37m\u001b[0m \u001b[1m1s\u001b[0m 301us/step - loss: 774.5475\n",
      "Epoch 16/100\n",
      "\u001b[1m3739/3739\u001b[0m \u001b[32m━━━━━━━━━━━━━━━━━━━━\u001b[0m\u001b[37m\u001b[0m \u001b[1m1s\u001b[0m 300us/step - loss: 784.4353\n",
      "Epoch 17/100\n",
      "\u001b[1m3739/3739\u001b[0m \u001b[32m━━━━━━━━━━━━━━━━━━━━\u001b[0m\u001b[37m\u001b[0m \u001b[1m1s\u001b[0m 301us/step - loss: 766.8294\n",
      "Epoch 18/100\n",
      "\u001b[1m3739/3739\u001b[0m \u001b[32m━━━━━━━━━━━━━━━━━━━━\u001b[0m\u001b[37m\u001b[0m \u001b[1m1s\u001b[0m 299us/step - loss: 759.8043\n",
      "Epoch 19/100\n",
      "\u001b[1m3739/3739\u001b[0m \u001b[32m━━━━━━━━━━━━━━━━━━━━\u001b[0m\u001b[37m\u001b[0m \u001b[1m1s\u001b[0m 300us/step - loss: 749.1120\n",
      "Epoch 20/100\n",
      "\u001b[1m3739/3739\u001b[0m \u001b[32m━━━━━━━━━━━━━━━━━━━━\u001b[0m\u001b[37m\u001b[0m \u001b[1m1s\u001b[0m 301us/step - loss: 750.9796\n",
      "Epoch 21/100\n",
      "\u001b[1m3739/3739\u001b[0m \u001b[32m━━━━━━━━━━━━━━━━━━━━\u001b[0m\u001b[37m\u001b[0m \u001b[1m1s\u001b[0m 299us/step - loss: 747.0234\n",
      "Epoch 22/100\n",
      "\u001b[1m3739/3739\u001b[0m \u001b[32m━━━━━━━━━━━━━━━━━━━━\u001b[0m\u001b[37m\u001b[0m \u001b[1m1s\u001b[0m 303us/step - loss: 745.1857\n",
      "Epoch 23/100\n",
      "\u001b[1m3739/3739\u001b[0m \u001b[32m━━━━━━━━━━━━━━━━━━━━\u001b[0m\u001b[37m\u001b[0m \u001b[1m1s\u001b[0m 324us/step - loss: 751.1210\n",
      "Epoch 24/100\n",
      "\u001b[1m3739/3739\u001b[0m \u001b[32m━━━━━━━━━━━━━━━━━━━━\u001b[0m\u001b[37m\u001b[0m \u001b[1m1s\u001b[0m 304us/step - loss: 751.4279\n",
      "Epoch 25/100\n",
      "\u001b[1m3739/3739\u001b[0m \u001b[32m━━━━━━━━━━━━━━━━━━━━\u001b[0m\u001b[37m\u001b[0m \u001b[1m1s\u001b[0m 303us/step - loss: 746.3896\n",
      "Epoch 26/100\n",
      "\u001b[1m3739/3739\u001b[0m \u001b[32m━━━━━━━━━━━━━━━━━━━━\u001b[0m\u001b[37m\u001b[0m \u001b[1m1s\u001b[0m 299us/step - loss: 746.6756\n",
      "Epoch 27/100\n",
      "\u001b[1m3739/3739\u001b[0m \u001b[32m━━━━━━━━━━━━━━━━━━━━\u001b[0m\u001b[37m\u001b[0m \u001b[1m1s\u001b[0m 301us/step - loss: 746.2415\n",
      "Epoch 28/100\n",
      "\u001b[1m3739/3739\u001b[0m \u001b[32m━━━━━━━━━━━━━━━━━━━━\u001b[0m\u001b[37m\u001b[0m \u001b[1m1s\u001b[0m 300us/step - loss: 738.5803\n",
      "Epoch 29/100\n",
      "\u001b[1m3739/3739\u001b[0m \u001b[32m━━━━━━━━━━━━━━━━━━━━\u001b[0m\u001b[37m\u001b[0m \u001b[1m1s\u001b[0m 301us/step - loss: 740.4821\n",
      "Epoch 30/100\n",
      "\u001b[1m3739/3739\u001b[0m \u001b[32m━━━━━━━━━━━━━━━━━━━━\u001b[0m\u001b[37m\u001b[0m \u001b[1m1s\u001b[0m 300us/step - loss: 736.2424\n",
      "Epoch 31/100\n",
      "\u001b[1m3739/3739\u001b[0m \u001b[32m━━━━━━━━━━━━━━━━━━━━\u001b[0m\u001b[37m\u001b[0m \u001b[1m1s\u001b[0m 300us/step - loss: 740.1486\n",
      "Epoch 32/100\n",
      "\u001b[1m3739/3739\u001b[0m \u001b[32m━━━━━━━━━━━━━━━━━━━━\u001b[0m\u001b[37m\u001b[0m \u001b[1m1s\u001b[0m 327us/step - loss: 731.8248\n",
      "Epoch 33/100\n",
      "\u001b[1m3739/3739\u001b[0m \u001b[32m━━━━━━━━━━━━━━━━━━━━\u001b[0m\u001b[37m\u001b[0m \u001b[1m1s\u001b[0m 299us/step - loss: 744.1177\n",
      "Epoch 34/100\n",
      "\u001b[1m3739/3739\u001b[0m \u001b[32m━━━━━━━━━━━━━━━━━━━━\u001b[0m\u001b[37m\u001b[0m \u001b[1m1s\u001b[0m 303us/step - loss: 737.0172\n",
      "Epoch 35/100\n",
      "\u001b[1m3739/3739\u001b[0m \u001b[32m━━━━━━━━━━━━━━━━━━━━\u001b[0m\u001b[37m\u001b[0m \u001b[1m1s\u001b[0m 298us/step - loss: 737.9858\n",
      "Epoch 36/100\n",
      "\u001b[1m3739/3739\u001b[0m \u001b[32m━━━━━━━━━━━━━━━━━━━━\u001b[0m\u001b[37m\u001b[0m \u001b[1m1s\u001b[0m 298us/step - loss: 744.2201\n",
      "Epoch 37/100\n",
      "\u001b[1m3739/3739\u001b[0m \u001b[32m━━━━━━━━━━━━━━━━━━━━\u001b[0m\u001b[37m\u001b[0m \u001b[1m1s\u001b[0m 302us/step - loss: 728.1630\n",
      "Epoch 38/100\n",
      "\u001b[1m3739/3739\u001b[0m \u001b[32m━━━━━━━━━━━━━━━━━━━━\u001b[0m\u001b[37m\u001b[0m \u001b[1m1s\u001b[0m 324us/step - loss: 729.7955\n",
      "Epoch 39/100\n",
      "\u001b[1m3739/3739\u001b[0m \u001b[32m━━━━━━━━━━━━━━━━━━━━\u001b[0m\u001b[37m\u001b[0m \u001b[1m1s\u001b[0m 301us/step - loss: 737.6410\n",
      "Epoch 40/100\n",
      "\u001b[1m3739/3739\u001b[0m \u001b[32m━━━━━━━━━━━━━━━━━━━━\u001b[0m\u001b[37m\u001b[0m \u001b[1m1s\u001b[0m 299us/step - loss: 737.4506\n",
      "Epoch 41/100\n",
      "\u001b[1m3739/3739\u001b[0m \u001b[32m━━━━━━━━━━━━━━━━━━━━\u001b[0m\u001b[37m\u001b[0m \u001b[1m1s\u001b[0m 299us/step - loss: 729.9136\n",
      "Epoch 42/100\n",
      "\u001b[1m3739/3739\u001b[0m \u001b[32m━━━━━━━━━━━━━━━━━━━━\u001b[0m\u001b[37m\u001b[0m \u001b[1m1s\u001b[0m 301us/step - loss: 727.0618\n",
      "Epoch 43/100\n",
      "\u001b[1m3739/3739\u001b[0m \u001b[32m━━━━━━━━━━━━━━━━━━━━\u001b[0m\u001b[37m\u001b[0m \u001b[1m1s\u001b[0m 299us/step - loss: 732.0085\n",
      "Epoch 44/100\n",
      "\u001b[1m3739/3739\u001b[0m \u001b[32m━━━━━━━━━━━━━━━━━━━━\u001b[0m\u001b[37m\u001b[0m \u001b[1m1s\u001b[0m 300us/step - loss: 730.2277\n",
      "Epoch 45/100\n",
      "\u001b[1m3739/3739\u001b[0m \u001b[32m━━━━━━━━━━━━━━━━━━━━\u001b[0m\u001b[37m\u001b[0m \u001b[1m1s\u001b[0m 298us/step - loss: 732.3277\n",
      "Epoch 46/100\n",
      "\u001b[1m3739/3739\u001b[0m \u001b[32m━━━━━━━━━━━━━━━━━━━━\u001b[0m\u001b[37m\u001b[0m \u001b[1m1s\u001b[0m 297us/step - loss: 732.7597\n",
      "Epoch 47/100\n",
      "\u001b[1m3739/3739\u001b[0m \u001b[32m━━━━━━━━━━━━━━━━━━━━\u001b[0m\u001b[37m\u001b[0m \u001b[1m1s\u001b[0m 320us/step - loss: 721.3771\n",
      "Epoch 48/100\n",
      "\u001b[1m3739/3739\u001b[0m \u001b[32m━━━━━━━━━━━━━━━━━━━━\u001b[0m\u001b[37m\u001b[0m \u001b[1m1s\u001b[0m 298us/step - loss: 727.3665\n",
      "Epoch 49/100\n",
      "\u001b[1m3739/3739\u001b[0m \u001b[32m━━━━━━━━━━━━━━━━━━━━\u001b[0m\u001b[37m\u001b[0m \u001b[1m1s\u001b[0m 301us/step - loss: 711.7362\n",
      "Epoch 50/100\n",
      "\u001b[1m3739/3739\u001b[0m \u001b[32m━━━━━━━━━━━━━━━━━━━━\u001b[0m\u001b[37m\u001b[0m \u001b[1m1s\u001b[0m 302us/step - loss: 727.6080\n",
      "Epoch 51/100\n",
      "\u001b[1m3739/3739\u001b[0m \u001b[32m━━━━━━━━━━━━━━━━━━━━\u001b[0m\u001b[37m\u001b[0m \u001b[1m1s\u001b[0m 300us/step - loss: 715.5882\n",
      "Epoch 52/100\n",
      "\u001b[1m3739/3739\u001b[0m \u001b[32m━━━━━━━━━━━━━━━━━━━━\u001b[0m\u001b[37m\u001b[0m \u001b[1m1s\u001b[0m 300us/step - loss: 727.6752\n",
      "Epoch 53/100\n",
      "\u001b[1m3739/3739\u001b[0m \u001b[32m━━━━━━━━━━━━━━━━━━━━\u001b[0m\u001b[37m\u001b[0m \u001b[1m1s\u001b[0m 307us/step - loss: 720.5085\n",
      "Epoch 54/100\n",
      "\u001b[1m3739/3739\u001b[0m \u001b[32m━━━━━━━━━━━━━━━━━━━━\u001b[0m\u001b[37m\u001b[0m \u001b[1m1s\u001b[0m 310us/step - loss: 721.3734\n",
      "Epoch 55/100\n",
      "\u001b[1m3739/3739\u001b[0m \u001b[32m━━━━━━━━━━━━━━━━━━━━\u001b[0m\u001b[37m\u001b[0m \u001b[1m1s\u001b[0m 308us/step - loss: 712.7802\n",
      "Epoch 56/100\n",
      "\u001b[1m3739/3739\u001b[0m \u001b[32m━━━━━━━━━━━━━━━━━━━━\u001b[0m\u001b[37m\u001b[0m \u001b[1m1s\u001b[0m 301us/step - loss: 721.1920\n",
      "Epoch 57/100\n",
      "\u001b[1m3739/3739\u001b[0m \u001b[32m━━━━━━━━━━━━━━━━━━━━\u001b[0m\u001b[37m\u001b[0m \u001b[1m1s\u001b[0m 299us/step - loss: 722.1097\n",
      "Epoch 58/100\n",
      "\u001b[1m3739/3739\u001b[0m \u001b[32m━━━━━━━━━━━━━━━━━━━━\u001b[0m\u001b[37m\u001b[0m \u001b[1m1s\u001b[0m 299us/step - loss: 715.5239\n",
      "Epoch 59/100\n",
      "\u001b[1m3739/3739\u001b[0m \u001b[32m━━━━━━━━━━━━━━━━━━━━\u001b[0m\u001b[37m\u001b[0m \u001b[1m1s\u001b[0m 301us/step - loss: 715.1180\n",
      "Epoch 60/100\n",
      "\u001b[1m3739/3739\u001b[0m \u001b[32m━━━━━━━━━━━━━━━━━━━━\u001b[0m\u001b[37m\u001b[0m \u001b[1m1s\u001b[0m 303us/step - loss: 733.1123\n",
      "Epoch 61/100\n",
      "\u001b[1m3739/3739\u001b[0m \u001b[32m━━━━━━━━━━━━━━━━━━━━\u001b[0m\u001b[37m\u001b[0m \u001b[1m1s\u001b[0m 301us/step - loss: 707.2136\n",
      "Epoch 62/100\n",
      "\u001b[1m3739/3739\u001b[0m \u001b[32m━━━━━━━━━━━━━━━━━━━━\u001b[0m\u001b[37m\u001b[0m \u001b[1m1s\u001b[0m 320us/step - loss: 708.6609\n",
      "Epoch 63/100\n",
      "\u001b[1m3739/3739\u001b[0m \u001b[32m━━━━━━━━━━━━━━━━━━━━\u001b[0m\u001b[37m\u001b[0m \u001b[1m1s\u001b[0m 298us/step - loss: 716.2383\n",
      "Epoch 64/100\n",
      "\u001b[1m3739/3739\u001b[0m \u001b[32m━━━━━━━━━━━━━━━━━━━━\u001b[0m\u001b[37m\u001b[0m \u001b[1m1s\u001b[0m 300us/step - loss: 709.2650\n",
      "Epoch 65/100\n",
      "\u001b[1m3739/3739\u001b[0m \u001b[32m━━━━━━━━━━━━━━━━━━━━\u001b[0m\u001b[37m\u001b[0m \u001b[1m1s\u001b[0m 300us/step - loss: 723.6279\n",
      "Epoch 66/100\n",
      "\u001b[1m3739/3739\u001b[0m \u001b[32m━━━━━━━━━━━━━━━━━━━━\u001b[0m\u001b[37m\u001b[0m \u001b[1m1s\u001b[0m 301us/step - loss: 710.7294\n",
      "Epoch 67/100\n",
      "\u001b[1m3739/3739\u001b[0m \u001b[32m━━━━━━━━━━━━━━━━━━━━\u001b[0m\u001b[37m\u001b[0m \u001b[1m1s\u001b[0m 299us/step - loss: 709.4691\n",
      "Epoch 68/100\n",
      "\u001b[1m3739/3739\u001b[0m \u001b[32m━━━━━━━━━━━━━━━━━━━━\u001b[0m\u001b[37m\u001b[0m \u001b[1m1s\u001b[0m 298us/step - loss: 711.1168\n",
      "Epoch 69/100\n",
      "\u001b[1m3739/3739\u001b[0m \u001b[32m━━━━━━━━━━━━━━━━━━━━\u001b[0m\u001b[37m\u001b[0m \u001b[1m1s\u001b[0m 328us/step - loss: 707.9212\n",
      "Epoch 70/100\n",
      "\u001b[1m3739/3739\u001b[0m \u001b[32m━━━━━━━━━━━━━━━━━━━━\u001b[0m\u001b[37m\u001b[0m \u001b[1m1s\u001b[0m 300us/step - loss: 705.8748\n",
      "Epoch 71/100\n",
      "\u001b[1m3739/3739\u001b[0m \u001b[32m━━━━━━━━━━━━━━━━━━━━\u001b[0m\u001b[37m\u001b[0m \u001b[1m1s\u001b[0m 310us/step - loss: 706.2248\n",
      "Epoch 72/100\n",
      "\u001b[1m3739/3739\u001b[0m \u001b[32m━━━━━━━━━━━━━━━━━━━━\u001b[0m\u001b[37m\u001b[0m \u001b[1m1s\u001b[0m 297us/step - loss: 701.6807\n",
      "Epoch 73/100\n",
      "\u001b[1m3739/3739\u001b[0m \u001b[32m━━━━━━━━━━━━━━━━━━━━\u001b[0m\u001b[37m\u001b[0m \u001b[1m1s\u001b[0m 299us/step - loss: 702.2081\n",
      "Epoch 74/100\n",
      "\u001b[1m3739/3739\u001b[0m \u001b[32m━━━━━━━━━━━━━━━━━━━━\u001b[0m\u001b[37m\u001b[0m \u001b[1m1s\u001b[0m 301us/step - loss: 705.4119\n",
      "Epoch 75/100\n",
      "\u001b[1m3739/3739\u001b[0m \u001b[32m━━━━━━━━━━━━━━━━━━━━\u001b[0m\u001b[37m\u001b[0m \u001b[1m1s\u001b[0m 306us/step - loss: 702.2712\n",
      "Epoch 76/100\n",
      "\u001b[1m3739/3739\u001b[0m \u001b[32m━━━━━━━━━━━━━━━━━━━━\u001b[0m\u001b[37m\u001b[0m \u001b[1m1s\u001b[0m 327us/step - loss: 702.3480\n",
      "Epoch 77/100\n",
      "\u001b[1m3739/3739\u001b[0m \u001b[32m━━━━━━━━━━━━━━━━━━━━\u001b[0m\u001b[37m\u001b[0m \u001b[1m1s\u001b[0m 299us/step - loss: 702.8900\n",
      "Epoch 78/100\n",
      "\u001b[1m3739/3739\u001b[0m \u001b[32m━━━━━━━━━━━━━━━━━━━━\u001b[0m\u001b[37m\u001b[0m \u001b[1m1s\u001b[0m 301us/step - loss: 698.1454\n",
      "Epoch 79/100\n",
      "\u001b[1m3739/3739\u001b[0m \u001b[32m━━━━━━━━━━━━━━━━━━━━\u001b[0m\u001b[37m\u001b[0m \u001b[1m1s\u001b[0m 297us/step - loss: 707.0258\n",
      "Epoch 80/100\n",
      "\u001b[1m3739/3739\u001b[0m \u001b[32m━━━━━━━━━━━━━━━━━━━━\u001b[0m\u001b[37m\u001b[0m \u001b[1m1s\u001b[0m 300us/step - loss: 698.4960\n",
      "Epoch 81/100\n",
      "\u001b[1m3739/3739\u001b[0m \u001b[32m━━━━━━━━━━━━━━━━━━━━\u001b[0m\u001b[37m\u001b[0m \u001b[1m1s\u001b[0m 298us/step - loss: 699.9985\n",
      "Epoch 82/100\n",
      "\u001b[1m3739/3739\u001b[0m \u001b[32m━━━━━━━━━━━━━━━━━━━━\u001b[0m\u001b[37m\u001b[0m \u001b[1m1s\u001b[0m 315us/step - loss: 700.7436\n",
      "Epoch 83/100\n",
      "\u001b[1m3739/3739\u001b[0m \u001b[32m━━━━━━━━━━━━━━━━━━━━\u001b[0m\u001b[37m\u001b[0m \u001b[1m1s\u001b[0m 330us/step - loss: 688.9161\n",
      "Epoch 84/100\n",
      "\u001b[1m3739/3739\u001b[0m \u001b[32m━━━━━━━━━━━━━━━━━━━━\u001b[0m\u001b[37m\u001b[0m \u001b[1m1s\u001b[0m 299us/step - loss: 694.9730\n",
      "Epoch 85/100\n",
      "\u001b[1m3739/3739\u001b[0m \u001b[32m━━━━━━━━━━━━━━━━━━━━\u001b[0m\u001b[37m\u001b[0m \u001b[1m1s\u001b[0m 300us/step - loss: 694.6584\n",
      "Epoch 86/100\n",
      "\u001b[1m3739/3739\u001b[0m \u001b[32m━━━━━━━━━━━━━━━━━━━━\u001b[0m\u001b[37m\u001b[0m \u001b[1m1s\u001b[0m 298us/step - loss: 693.8350\n",
      "Epoch 87/100\n",
      "\u001b[1m3739/3739\u001b[0m \u001b[32m━━━━━━━━━━━━━━━━━━━━\u001b[0m\u001b[37m\u001b[0m \u001b[1m1s\u001b[0m 299us/step - loss: 695.7693\n",
      "Epoch 88/100\n",
      "\u001b[1m3739/3739\u001b[0m \u001b[32m━━━━━━━━━━━━━━━━━━━━\u001b[0m\u001b[37m\u001b[0m \u001b[1m1s\u001b[0m 301us/step - loss: 688.8098\n",
      "Epoch 89/100\n",
      "\u001b[1m3739/3739\u001b[0m \u001b[32m━━━━━━━━━━━━━━━━━━━━\u001b[0m\u001b[37m\u001b[0m \u001b[1m1s\u001b[0m 321us/step - loss: 686.6121\n",
      "Epoch 90/100\n",
      "\u001b[1m3739/3739\u001b[0m \u001b[32m━━━━━━━━━━━━━━━━━━━━\u001b[0m\u001b[37m\u001b[0m \u001b[1m1s\u001b[0m 300us/step - loss: 686.2850\n",
      "Epoch 91/100\n",
      "\u001b[1m3739/3739\u001b[0m \u001b[32m━━━━━━━━━━━━━━━━━━━━\u001b[0m\u001b[37m\u001b[0m \u001b[1m1s\u001b[0m 299us/step - loss: 684.3345\n",
      "Epoch 92/100\n",
      "\u001b[1m3739/3739\u001b[0m \u001b[32m━━━━━━━━━━━━━━━━━━━━\u001b[0m\u001b[37m\u001b[0m \u001b[1m1s\u001b[0m 299us/step - loss: 689.2621\n",
      "Epoch 93/100\n",
      "\u001b[1m3739/3739\u001b[0m \u001b[32m━━━━━━━━━━━━━━━━━━━━\u001b[0m\u001b[37m\u001b[0m \u001b[1m1s\u001b[0m 301us/step - loss: 688.7748\n",
      "Epoch 94/100\n",
      "\u001b[1m3739/3739\u001b[0m \u001b[32m━━━━━━━━━━━━━━━━━━━━\u001b[0m\u001b[37m\u001b[0m \u001b[1m1s\u001b[0m 298us/step - loss: 682.4391\n",
      "Epoch 95/100\n",
      "\u001b[1m3739/3739\u001b[0m \u001b[32m━━━━━━━━━━━━━━━━━━━━\u001b[0m\u001b[37m\u001b[0m \u001b[1m1s\u001b[0m 327us/step - loss: 684.8405\n",
      "Epoch 96/100\n",
      "\u001b[1m3739/3739\u001b[0m \u001b[32m━━━━━━━━━━━━━━━━━━━━\u001b[0m\u001b[37m\u001b[0m \u001b[1m1s\u001b[0m 308us/step - loss: 685.1141\n",
      "Epoch 97/100\n",
      "\u001b[1m3739/3739\u001b[0m \u001b[32m━━━━━━━━━━━━━━━━━━━━\u001b[0m\u001b[37m\u001b[0m \u001b[1m1s\u001b[0m 298us/step - loss: 683.4376\n",
      "Epoch 98/100\n",
      "\u001b[1m3739/3739\u001b[0m \u001b[32m━━━━━━━━━━━━━━━━━━━━\u001b[0m\u001b[37m\u001b[0m \u001b[1m1s\u001b[0m 300us/step - loss: 689.5948\n",
      "Epoch 99/100\n",
      "\u001b[1m3739/3739\u001b[0m \u001b[32m━━━━━━━━━━━━━━━━━━━━\u001b[0m\u001b[37m\u001b[0m \u001b[1m1s\u001b[0m 297us/step - loss: 682.8312\n",
      "Epoch 100/100\n",
      "\u001b[1m3739/3739\u001b[0m \u001b[32m━━━━━━━━━━━━━━━━━━━━\u001b[0m\u001b[37m\u001b[0m \u001b[1m1s\u001b[0m 301us/step - loss: 684.3719\n"
     ]
    },
    {
     "data": {
      "text/plain": [
       "<keras.src.callbacks.history.History at 0x106c1de80>"
      ]
     },
     "execution_count": 33,
     "metadata": {},
     "output_type": "execute_result"
    }
   ],
   "source": [
    "# Fazer previsões\n",
    "predictions = model.predict(X_test).flatten()"
   ]
  },
  {
   "cell_type": "code",
   "execution_count": null,
   "metadata": {},
   "outputs": [
    {
     "name": "stdout",
     "output_type": "stream",
     "text": [
      "\u001b[1m293/293\u001b[0m \u001b[32m━━━━━━━━━━━━━━━━━━━━\u001b[0m\u001b[37m\u001b[0m \u001b[1m0s\u001b[0m 520us/step\n"
     ]
    }
   ],
   "source": [
    "# Gerar datas futuras a partir de hoje\n",
    "hoje = pd.to_datetime(\"2024-11-04\")\n",
    "datas_futuras = pd.date_range(hoje, periods=len(predictions), freq='D')\n",
    "datas_repetidas = np.tile(datas_futuras, int(np.ceil(len(predictions) / len(datas_futuras))))[:len(predictions)]"
   ]
  },
  {
   "cell_type": "code",
   "execution_count": null,
   "metadata": {},
   "outputs": [],
   "source": [
    "# Verifique se o DataFrame combinado não está vazio\n",
    "if not combined_data_tolerance.empty:\n",
    "    # Copiar as latitudes e longitudes combinadas para o DataFrame final\n",
    "    final_df = combined_data_tolerance[['latitude_x', 'longitude_x']].iloc[:len(predictions)].copy()\n",
    "\n",
    "    # Ajuste de `predictions` e `datas_repetidas` para o tamanho correto\n",
    "    if len(predictions) < len(final_df):\n",
    "        repeated_predictions = np.tile(predictions, int(np.ceil(len(final_df) / len(predictions))))[:len(final_df)]\n",
    "    else:\n",
    "        repeated_predictions = predictions[:len(final_df)]\n",
    "\n",
    "    if len(datas_repetidas) < len(final_df):\n",
    "        repeated_dates = np.tile(datas_repetidas, int(np.ceil(len(final_df) / len(datas_repetidas))))[:len(final_df)]\n",
    "    else:\n",
    "        repeated_dates = datas_repetidas[:len(final_df)]\n",
    "\n",
    "    # Adicionar colunas de previsões e datas ao DataFrame final\n",
    "    final_df['predicted_confidence'] = repeated_predictions\n",
    "    final_df['Data'] = repeated_dates\n",
    "\n",
    "    # Resetar o índice do DataFrame final\n",
    "    final_df.reset_index(drop=True, inplace=True)\n",
    "\n",
    "    # Reorganizar colunas para que 'Data' fique em primeiro lugar\n",
    "    final_df = final_df[['Data', 'latitude_x', 'longitude_x', 'predicted_confidence']]\n",
    "\n",
    "    # Exibir o DataFrame final\n",
    "    print(\"DataFrame final com latitude, longitude, predicted_confidence e data:\")\n",
    "    print(final_df.head())\n",
    "else:\n",
    "    print(\"O DataFrame combinado está vazio. Não há dados para criar o DataFrame final.\")"
   ]
  },
  {
   "cell_type": "code",
   "execution_count": null,
   "metadata": {},
   "outputs": [
    {
     "name": "stdout",
     "output_type": "stream",
     "text": [
      "             data  latitude_x  longitude_x  PRECIPITACAO TOTAL, HORARIO (mm)  \\\n",
      "0      2019-01-01    -15.7893     -47.9258                               1.4   \n",
      "1      2019-01-02    -15.7893     -47.9258                               0.0   \n",
      "2      2019-01-03    -15.7893     -47.9258                               0.0   \n",
      "3      2019-01-04    -15.7893     -47.9258                               0.0   \n",
      "4      2019-01-05    -15.7893     -47.9258                               1.0   \n",
      "...           ...         ...          ...                               ...   \n",
      "48803  2024-08-27    -27.6025     -48.6200                               0.0   \n",
      "48804  2024-08-28    -27.6025     -48.6200                               0.0   \n",
      "48805  2024-08-29    -27.6025     -48.6200                               0.0   \n",
      "48806  2024-08-30    -27.6025     -48.6200                               0.0   \n",
      "48807  2024-08-31    -27.6025     -48.6200                               0.0   \n",
      "\n",
      "       PRESSAO ATMOSFERICA AO NIVEL DA ESTACAO, HORARIA (mB)  \\\n",
      "0                                                 888.02       \n",
      "1                                                 888.80       \n",
      "2                                                 887.62       \n",
      "3                                                 887.54       \n",
      "4                                                 887.96       \n",
      "...                                                  ...       \n",
      "48803                                            1026.78       \n",
      "48804                                            1027.09       \n",
      "48805                                            1024.60       \n",
      "48806                                            1020.41       \n",
      "48807                                            1021.05       \n",
      "\n",
      "       RADIACAO GLOBAL (KJ/m2)  TEMPERATURA DO AR - BULBO SECO, HORARIA (0C)  \\\n",
      "0                      1192.79                                         20.52   \n",
      "1                      2300.98                                         22.72   \n",
      "2                      2053.05                                         24.34   \n",
      "3                      1704.60                                         23.42   \n",
      "4                       886.91                                         20.87   \n",
      "...                        ...                                           ...   \n",
      "48803                  1659.76                                         74.67   \n",
      "48804                   795.39                                         73.92   \n",
      "48805                  1424.48                                         71.29   \n",
      "48806                  1430.21                                         78.71   \n",
      "48807                   836.22                                         78.96   \n",
      "\n",
      "       UMIDADE RELATIVA DO AR, HORARIA (%)  VENTO, RAJADA MAXIMA (m/s)  \\\n",
      "0                                    82.21                        3.72   \n",
      "1                                    71.04                        4.84   \n",
      "2                                    56.21                        4.86   \n",
      "3                                    61.38                        4.27   \n",
      "4                                    77.25                        3.70   \n",
      "...                                    ...                         ...   \n",
      "48803                                74.67                        3.52   \n",
      "48804                                73.92                        3.29   \n",
      "48805                                71.29                        5.03   \n",
      "48806                                78.71                        4.28   \n",
      "48807                                78.96                        3.90   \n",
      "\n",
      "       modis_index  distance  latitude_y  longitude_y  confidence  \n",
      "0           343669  0.011666    -15.7864     -47.9371        84.0  \n",
      "1           343669  0.011666    -15.7864     -47.9371        84.0  \n",
      "2           343669  0.011666    -15.7864     -47.9371        84.0  \n",
      "3           343669  0.011666    -15.7864     -47.9371        84.0  \n",
      "4           343669  0.011666    -15.7864     -47.9371        84.0  \n",
      "...            ...       ...         ...          ...         ...  \n",
      "48803      1033210  0.046034    -27.6122     -48.6650        63.0  \n",
      "48804      1033210  0.046034    -27.6122     -48.6650        63.0  \n",
      "48805      1033210  0.046034    -27.6122     -48.6650        63.0  \n",
      "48806      1033210  0.046034    -27.6122     -48.6650        63.0  \n",
      "48807      1033210  0.046034    -27.6122     -48.6650        63.0  \n",
      "\n",
      "[46738 rows x 14 columns]\n"
     ]
    }
   ],
   "source": [
    "# Salvar o DataFrame em um arquivo CSV\n",
    "final_df.to_csv('previsao_confidence_feedforward.csv', index=False)"
   ]
  },
  {
   "cell_type": "code",
   "execution_count": null,
   "metadata": {},
   "outputs": [
    {
     "name": "stdout",
     "output_type": "stream",
     "text": [
      "DataFrame final com latitude, longitude e predicted_confidence:\n",
      "   latitude_x  longitude_x  predicted_confidence\n",
      "0    -15.7893     -47.9258             29.565857\n",
      "1    -15.7893     -47.9258             45.698273\n",
      "2    -15.7893     -47.9258             34.051170\n",
      "3    -15.7893     -47.9258             27.683376\n",
      "4    -15.7893     -47.9258             38.915058\n"
     ]
    }
   ],
   "source": [
    "import matplotlib.pyplot as plt\n",
    "import seaborn as sns"
   ]
  },
  {
   "cell_type": "code",
   "execution_count": null,
   "metadata": {},
   "outputs": [],
   "source": [
    "# Carregar os dados\n",
    "data_modis = pd.read_csv('../../model/data/modisTodos.csv')\n",
    "data_inmet = pd.read_csv('../../model/additional_data/datasets/inmet_2019_2024.csv')\n",
    "resultados_novos = pd.read_csv('./previsao_confidence_feedforward.csv')"
   ]
  },
  {
   "cell_type": "code",
   "execution_count": null,
   "metadata": {},
   "outputs": [],
   "source": [
    "# Configuração de estilo\n",
    "sns.set(style=\"whitegrid\")"
   ]
  },
  {
   "cell_type": "code",
   "execution_count": null,
   "metadata": {},
   "outputs": [],
   "source": [
    "# Garantindo que as datas estão no formato correto e ordenando os dados\n",
    "resultados_novos['Data'] = pd.to_datetime(resultados_novos['Data'])\n",
    "resultados_novos = resultados_novos.sort_values(by='Data')\n",
    "\n",
    "# Configuração do gráfico\n",
    "plt.figure(figsize=(10, 6))\n",
    "# Use 'predicted_confidence' se esse for o nome correto da coluna\n",
    "sns.lineplot(data=resultados_novos, x='Data', y='predicted_confidence', color='red', ci=None)  # ci=None remove as margens\n",
    "\n",
    "# Ajuste dos títulos e eixos\n",
    "plt.title('Previsões de Probabilidade de Queimada - Modelo FeedForward')\n",
    "plt.xlabel('Data')\n",
    "plt.ylabel('Probabilidade de Queimada')\n",
    "\n",
    "# Exibir o gráfico\n",
    "plt.xticks(rotation=45)  # Rotaciona as datas para melhor legibilidade\n",
    "plt.tight_layout()  # Ajusta o layout\n",
    "plt.show()"
   ]
  }
 ],
 "metadata": {
  "kernelspec": {
   "display_name": ".venv",
   "language": "python",
   "name": "python3"
  },
  "language_info": {
   "codemirror_mode": {
    "name": "ipython",
    "version": 3
   },
   "file_extension": ".py",
   "mimetype": "text/x-python",
   "name": "python",
   "nbconvert_exporter": "python",
   "pygments_lexer": "ipython3",
   "version": "3.13.0"
  }
 },
 "nbformat": 4,
 "nbformat_minor": 2
}
