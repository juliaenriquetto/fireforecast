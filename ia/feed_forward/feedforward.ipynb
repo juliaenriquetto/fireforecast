{
 "cells": [
  {
   "cell_type": "code",
   "execution_count": 1,
   "metadata": {},
   "outputs": [
    {
     "name": "stderr",
     "output_type": "stream",
     "text": [
      "/var/folders/34/gby6tkr103xfh0fy_017m5grcjxgrv/T/ipykernel_32180/642822870.py:1: DeprecationWarning: \n",
      "Pyarrow will become a required dependency of pandas in the next major release of pandas (pandas 3.0),\n",
      "(to allow more performant data types, such as the Arrow string type, and better interoperability with other libraries)\n",
      "but was not found to be installed on your system.\n",
      "If this would cause problems for you,\n",
      "please provide us feedback at https://github.com/pandas-dev/pandas/issues/54466\n",
      "        \n",
      "  import pandas as pd\n",
      "/Users/u22124/Library/Python/3.9/lib/python/site-packages/urllib3/__init__.py:35: NotOpenSSLWarning: urllib3 v2 only supports OpenSSL 1.1.1+, currently the 'ssl' module is compiled with 'LibreSSL 2.8.3'. See: https://github.com/urllib3/urllib3/issues/3020\n",
      "  warnings.warn(\n"
     ]
    }
   ],
   "source": [
    "import pandas as pd\n",
    "import numpy as np\n",
    "from sklearn.neighbors import NearestNeighbors\n",
    "from sklearn.model_selection import train_test_split\n",
    "\n",
    "from keras.models import Sequential\n",
    "from keras.layers import Dense"
   ]
  },
  {
   "cell_type": "code",
   "execution_count": 2,
   "metadata": {},
   "outputs": [],
   "source": [
    "data_inmet = pd.read_csv('../../model/additional_data/datasets/inmet_2019_2024.csv')\n",
    "data_modis = pd.read_csv('../../model/data/modisTodos.csv')"
   ]
  },
  {
   "cell_type": "code",
   "execution_count": 16,
   "metadata": {},
   "outputs": [
    {
     "name": "stdout",
     "output_type": "stream",
     "text": [
      "Tipos de dados em data_inmet:\n",
      "data                                                      object\n",
      "latitude                                                 float64\n",
      "longitude                                                float64\n",
      "PRECIPITACAO TOTAL, HORARIO (mm)                         float64\n",
      "PRESSAO ATMOSFERICA AO NIVEL DA ESTACAO, HORARIA (mB)    float64\n",
      "RADIACAO GLOBAL (KJ/m2)                                  float64\n",
      "TEMPERATURA DO AR - BULBO SECO, HORARIA (0C)             float64\n",
      "UMIDADE RELATIVA DO AR, HORARIA (%)                      float64\n",
      "VENTO, RAJADA MAXIMA (m/s)                               float64\n",
      "dtype: object\n",
      "\n",
      "Tipos de dados em data_modis:\n",
      "latitude      float64\n",
      "longitude     float64\n",
      "confidence    float64\n",
      "dtype: object\n"
     ]
    }
   ],
   "source": [
    "# Verificar os tipos de dados das colunas de latitude e longitude\n",
    "print(\"Tipos de dados em data_inmet:\")\n",
    "print(data_inmet.dtypes)\n",
    "print(\"\\nTipos de dados em data_modis:\")\n",
    "print(data_modis.dtypes)"
   ]
  },
  {
   "cell_type": "code",
   "execution_count": 17,
   "metadata": {},
   "outputs": [
    {
     "name": "stdout",
     "output_type": "stream",
     "text": [
      "\n",
      "Valores nulos em data_inmet:\n",
      "latitude     0\n",
      "longitude    0\n",
      "dtype: int64\n",
      "\n",
      "Valores nulos em data_modis:\n",
      "latitude     0\n",
      "longitude    0\n",
      "dtype: int64\n"
     ]
    }
   ],
   "source": [
    "# Verificar se há valores nulos\n",
    "print(\"\\nValores nulos em data_inmet:\")\n",
    "print(data_inmet[['latitude', 'longitude']].isnull().sum())\n",
    "print(\"\\nValores nulos em data_modis:\")\n",
    "print(data_modis[['latitude', 'longitude']].isnull().sum())"
   ]
  },
  {
   "cell_type": "code",
   "execution_count": 18,
   "metadata": {},
   "outputs": [],
   "source": [
    "# Converter as colunas para string, se necessário\n",
    "data_inmet['latitude'] = data_inmet['latitude'].astype(str).str.replace(',', '.')\n",
    "data_inmet['longitude'] = data_inmet['longitude'].astype(str).str.replace(',', '.')\n",
    "\n",
    "data_modis['latitude'] = data_modis['latitude'].astype(str).str.replace(',', '.')\n",
    "data_modis['longitude'] = data_modis['longitude'].astype(str).str.replace(',', '.')"
   ]
  },
  {
   "cell_type": "code",
   "execution_count": 19,
   "metadata": {},
   "outputs": [],
   "source": [
    "# Ajustar os tipos de dados para latitude e longitude\n",
    "data_inmet['latitude'] = data_inmet['latitude'].astype(float)\n",
    "data_inmet['longitude'] = data_inmet['longitude'].astype(float)\n",
    "data_modis['latitude'] = data_modis['latitude'].astype(float)\n",
    "data_modis['longitude'] = data_modis['longitude'].astype(float)"
   ]
  },
  {
   "cell_type": "code",
   "execution_count": 20,
   "metadata": {},
   "outputs": [],
   "source": [
    "# Arredondar coordenadas para combinar dados com tolerância\n",
    "data_inmet['latitude'] = data_inmet['latitude'].round(4)\n",
    "data_inmet['longitude'] = data_inmet['longitude'].round(4)\n",
    "data_modis['latitude'] = data_modis['latitude'].round(4)\n",
    "data_modis['longitude'] = data_modis['longitude'].round(4)"
   ]
  },
  {
   "cell_type": "code",
   "execution_count": 21,
   "metadata": {},
   "outputs": [],
   "source": [
    "# Preparar os dados para Nearest Neighbors\n",
    "inmet_coords = data_inmet[['latitude', 'longitude']].values\n",
    "modis_coords = data_modis[['latitude', 'longitude']].values\n",
    "nbrs = NearestNeighbors(n_neighbors=1, radius=0.01).fit(modis_coords)\n",
    "distances, indices = nbrs.kneighbors(inmet_coords)"
   ]
  },
  {
   "cell_type": "code",
   "execution_count": 22,
   "metadata": {},
   "outputs": [],
   "source": [
    "# Adicionar índice de correspondência e distância ao DataFrame do INMET\n",
    "data_inmet['modis_index'] = indices.flatten()\n",
    "data_inmet['distance'] = distances.flatten()"
   ]
  },
  {
   "cell_type": "code",
   "execution_count": 23,
   "metadata": {},
   "outputs": [],
   "source": [
    "# Filtrar correspondências dentro da tolerância\n",
    "tolerance = 0.1\n",
    "filtered_inmet = data_inmet[data_inmet['distance'] < tolerance]"
   ]
  },
  {
   "cell_type": "code",
   "execution_count": 24,
   "metadata": {},
   "outputs": [
    {
     "name": "stdout",
     "output_type": "stream",
     "text": [
      "DataFrame Combinado com Tolerância:\n",
      "         data  latitude_x  longitude_x  PRECIPITACAO TOTAL, HORARIO (mm)  \\\n",
      "0  2019-01-01    -15.7893     -47.9258                               1.4   \n",
      "1  2019-01-02    -15.7893     -47.9258                               0.0   \n",
      "2  2019-01-03    -15.7893     -47.9258                               0.0   \n",
      "3  2019-01-04    -15.7893     -47.9258                               0.0   \n",
      "4  2019-01-05    -15.7893     -47.9258                               1.0   \n",
      "\n",
      "   PRESSAO ATMOSFERICA AO NIVEL DA ESTACAO, HORARIA (mB)  \\\n",
      "0                                             888.02       \n",
      "1                                             888.80       \n",
      "2                                             887.62       \n",
      "3                                             887.54       \n",
      "4                                             887.96       \n",
      "\n",
      "   RADIACAO GLOBAL (KJ/m2)  TEMPERATURA DO AR - BULBO SECO, HORARIA (0C)  \\\n",
      "0                  1192.79                                         20.52   \n",
      "1                  2300.98                                         22.72   \n",
      "2                  2053.05                                         24.34   \n",
      "3                  1704.60                                         23.42   \n",
      "4                   886.91                                         20.87   \n",
      "\n",
      "   UMIDADE RELATIVA DO AR, HORARIA (%)  VENTO, RAJADA MAXIMA (m/s)  \\\n",
      "0                                82.21                        3.72   \n",
      "1                                71.04                        4.84   \n",
      "2                                56.21                        4.86   \n",
      "3                                61.38                        4.27   \n",
      "4                                77.25                        3.70   \n",
      "\n",
      "   modis_index  distance  latitude_y  longitude_y  confidence  \n",
      "0       343669  0.011666    -15.7864     -47.9371        84.0  \n",
      "1       343669  0.011666    -15.7864     -47.9371        84.0  \n",
      "2       343669  0.011666    -15.7864     -47.9371        84.0  \n",
      "3       343669  0.011666    -15.7864     -47.9371        84.0  \n",
      "4       343669  0.011666    -15.7864     -47.9371        84.0  \n"
     ]
    }
   ],
   "source": [
    "# Fazer o merge\n",
    "combined_data_tolerance = pd.merge(filtered_inmet, data_modis, left_on='modis_index', right_index=True, how='inner')\n",
    "\n",
    "# Verifique o DataFrame combinado com tolerância\n",
    "print(\"DataFrame Combinado com Tolerância:\")\n",
    "print(combined_data_tolerance.head())"
   ]
  },
  {
   "cell_type": "code",
   "execution_count": 30,
   "metadata": {},
   "outputs": [],
   "source": [
    "# Divida os dados em conjuntos de treinamento e teste\n",
    "X_train, X_test, y_train, y_test = train_test_split(X, y, test_size=0.2, random_state=42)"
   ]
  },
  {
   "cell_type": "code",
   "execution_count": 31,
   "metadata": {},
   "outputs": [
    {
     "name": "stderr",
     "output_type": "stream",
     "text": [
      "/Users/u22124/Library/Python/3.9/lib/python/site-packages/keras/src/layers/core/dense.py:87: UserWarning: Do not pass an `input_shape`/`input_dim` argument to a layer. When using Sequential models, prefer using an `Input(shape)` object as the first layer in the model instead.\n",
      "  super().__init__(activity_regularizer=activity_regularizer, **kwargs)\n"
     ]
    }
   ],
   "source": [
    "# Criar o modelo Feedforward\n",
    "model = Sequential()\n",
    "model.add(Dense(64, input_dim=X_train.shape[1], activation='relu'))\n",
    "model.add(Dense(32, activation='relu'))\n",
    "model.add(Dense(1, activation='linear'))"
   ]
  },
  {
   "cell_type": "code",
   "execution_count": 32,
   "metadata": {},
   "outputs": [],
   "source": [
    "# Compilar o modelo\n",
    "model.compile(loss='mean_squared_error', optimizer='adam')"
   ]
  },
  {
   "cell_type": "code",
   "execution_count": 33,
   "metadata": {},
   "outputs": [
    {
     "name": "stdout",
     "output_type": "stream",
     "text": [
      "Epoch 1/100\n",
      "\u001b[1m3739/3739\u001b[0m \u001b[32m━━━━━━━━━━━━━━━━━━━━\u001b[0m\u001b[37m\u001b[0m \u001b[1m1s\u001b[0m 315us/step - loss: 1718.4664\n",
      "Epoch 2/100\n",
      "\u001b[1m3739/3739\u001b[0m \u001b[32m━━━━━━━━━━━━━━━━━━━━\u001b[0m\u001b[37m\u001b[0m \u001b[1m1s\u001b[0m 304us/step - loss: 868.7367\n",
      "Epoch 3/100\n",
      "\u001b[1m3739/3739\u001b[0m \u001b[32m━━━━━━━━━━━━━━━━━━━━\u001b[0m\u001b[37m\u001b[0m \u001b[1m1s\u001b[0m 323us/step - loss: 834.3995\n",
      "Epoch 4/100\n",
      "\u001b[1m3739/3739\u001b[0m \u001b[32m━━━━━━━━━━━━━━━━━━━━\u001b[0m\u001b[37m\u001b[0m \u001b[1m1s\u001b[0m 300us/step - loss: 819.9442\n",
      "Epoch 5/100\n",
      "\u001b[1m3739/3739\u001b[0m \u001b[32m━━━━━━━━━━━━━━━━━━━━\u001b[0m\u001b[37m\u001b[0m \u001b[1m1s\u001b[0m 300us/step - loss: 811.8189\n",
      "Epoch 6/100\n",
      "\u001b[1m3739/3739\u001b[0m \u001b[32m━━━━━━━━━━━━━━━━━━━━\u001b[0m\u001b[37m\u001b[0m \u001b[1m1s\u001b[0m 298us/step - loss: 814.2697\n",
      "Epoch 7/100\n",
      "\u001b[1m3739/3739\u001b[0m \u001b[32m━━━━━━━━━━━━━━━━━━━━\u001b[0m\u001b[37m\u001b[0m \u001b[1m1s\u001b[0m 299us/step - loss: 808.2418\n",
      "Epoch 8/100\n",
      "\u001b[1m3739/3739\u001b[0m \u001b[32m━━━━━━━━━━━━━━━━━━━━\u001b[0m\u001b[37m\u001b[0m \u001b[1m1s\u001b[0m 301us/step - loss: 798.2357\n",
      "Epoch 9/100\n",
      "\u001b[1m3739/3739\u001b[0m \u001b[32m━━━━━━━━━━━━━━━━━━━━\u001b[0m\u001b[37m\u001b[0m \u001b[1m1s\u001b[0m 300us/step - loss: 809.6699\n",
      "Epoch 10/100\n",
      "\u001b[1m3739/3739\u001b[0m \u001b[32m━━━━━━━━━━━━━━━━━━━━\u001b[0m\u001b[37m\u001b[0m \u001b[1m1s\u001b[0m 300us/step - loss: 791.7117\n",
      "Epoch 11/100\n",
      "\u001b[1m3739/3739\u001b[0m \u001b[32m━━━━━━━━━━━━━━━━━━━━\u001b[0m\u001b[37m\u001b[0m \u001b[1m1s\u001b[0m 300us/step - loss: 789.5043\n",
      "Epoch 12/100\n",
      "\u001b[1m3739/3739\u001b[0m \u001b[32m━━━━━━━━━━━━━━━━━━━━\u001b[0m\u001b[37m\u001b[0m \u001b[1m1s\u001b[0m 301us/step - loss: 785.4346\n",
      "Epoch 13/100\n",
      "\u001b[1m3739/3739\u001b[0m \u001b[32m━━━━━━━━━━━━━━━━━━━━\u001b[0m\u001b[37m\u001b[0m \u001b[1m1s\u001b[0m 322us/step - loss: 782.5067\n",
      "Epoch 14/100\n",
      "\u001b[1m3739/3739\u001b[0m \u001b[32m━━━━━━━━━━━━━━━━━━━━\u001b[0m\u001b[37m\u001b[0m \u001b[1m1s\u001b[0m 298us/step - loss: 780.1790\n",
      "Epoch 15/100\n",
      "\u001b[1m3739/3739\u001b[0m \u001b[32m━━━━━━━━━━━━━━━━━━━━\u001b[0m\u001b[37m\u001b[0m \u001b[1m1s\u001b[0m 301us/step - loss: 774.5475\n",
      "Epoch 16/100\n",
      "\u001b[1m3739/3739\u001b[0m \u001b[32m━━━━━━━━━━━━━━━━━━━━\u001b[0m\u001b[37m\u001b[0m \u001b[1m1s\u001b[0m 300us/step - loss: 784.4353\n",
      "Epoch 17/100\n",
      "\u001b[1m3739/3739\u001b[0m \u001b[32m━━━━━━━━━━━━━━━━━━━━\u001b[0m\u001b[37m\u001b[0m \u001b[1m1s\u001b[0m 301us/step - loss: 766.8294\n",
      "Epoch 18/100\n",
      "\u001b[1m3739/3739\u001b[0m \u001b[32m━━━━━━━━━━━━━━━━━━━━\u001b[0m\u001b[37m\u001b[0m \u001b[1m1s\u001b[0m 299us/step - loss: 759.8043\n",
      "Epoch 19/100\n",
      "\u001b[1m3739/3739\u001b[0m \u001b[32m━━━━━━━━━━━━━━━━━━━━\u001b[0m\u001b[37m\u001b[0m \u001b[1m1s\u001b[0m 300us/step - loss: 749.1120\n",
      "Epoch 20/100\n",
      "\u001b[1m3739/3739\u001b[0m \u001b[32m━━━━━━━━━━━━━━━━━━━━\u001b[0m\u001b[37m\u001b[0m \u001b[1m1s\u001b[0m 301us/step - loss: 750.9796\n",
      "Epoch 21/100\n",
      "\u001b[1m3739/3739\u001b[0m \u001b[32m━━━━━━━━━━━━━━━━━━━━\u001b[0m\u001b[37m\u001b[0m \u001b[1m1s\u001b[0m 299us/step - loss: 747.0234\n",
      "Epoch 22/100\n",
      "\u001b[1m3739/3739\u001b[0m \u001b[32m━━━━━━━━━━━━━━━━━━━━\u001b[0m\u001b[37m\u001b[0m \u001b[1m1s\u001b[0m 303us/step - loss: 745.1857\n",
      "Epoch 23/100\n",
      "\u001b[1m3739/3739\u001b[0m \u001b[32m━━━━━━━━━━━━━━━━━━━━\u001b[0m\u001b[37m\u001b[0m \u001b[1m1s\u001b[0m 324us/step - loss: 751.1210\n",
      "Epoch 24/100\n",
      "\u001b[1m3739/3739\u001b[0m \u001b[32m━━━━━━━━━━━━━━━━━━━━\u001b[0m\u001b[37m\u001b[0m \u001b[1m1s\u001b[0m 304us/step - loss: 751.4279\n",
      "Epoch 25/100\n",
      "\u001b[1m3739/3739\u001b[0m \u001b[32m━━━━━━━━━━━━━━━━━━━━\u001b[0m\u001b[37m\u001b[0m \u001b[1m1s\u001b[0m 303us/step - loss: 746.3896\n",
      "Epoch 26/100\n",
      "\u001b[1m3739/3739\u001b[0m \u001b[32m━━━━━━━━━━━━━━━━━━━━\u001b[0m\u001b[37m\u001b[0m \u001b[1m1s\u001b[0m 299us/step - loss: 746.6756\n",
      "Epoch 27/100\n",
      "\u001b[1m3739/3739\u001b[0m \u001b[32m━━━━━━━━━━━━━━━━━━━━\u001b[0m\u001b[37m\u001b[0m \u001b[1m1s\u001b[0m 301us/step - loss: 746.2415\n",
      "Epoch 28/100\n",
      "\u001b[1m3739/3739\u001b[0m \u001b[32m━━━━━━━━━━━━━━━━━━━━\u001b[0m\u001b[37m\u001b[0m \u001b[1m1s\u001b[0m 300us/step - loss: 738.5803\n",
      "Epoch 29/100\n",
      "\u001b[1m3739/3739\u001b[0m \u001b[32m━━━━━━━━━━━━━━━━━━━━\u001b[0m\u001b[37m\u001b[0m \u001b[1m1s\u001b[0m 301us/step - loss: 740.4821\n",
      "Epoch 30/100\n",
      "\u001b[1m3739/3739\u001b[0m \u001b[32m━━━━━━━━━━━━━━━━━━━━\u001b[0m\u001b[37m\u001b[0m \u001b[1m1s\u001b[0m 300us/step - loss: 736.2424\n",
      "Epoch 31/100\n",
      "\u001b[1m3739/3739\u001b[0m \u001b[32m━━━━━━━━━━━━━━━━━━━━\u001b[0m\u001b[37m\u001b[0m \u001b[1m1s\u001b[0m 300us/step - loss: 740.1486\n",
      "Epoch 32/100\n",
      "\u001b[1m3739/3739\u001b[0m \u001b[32m━━━━━━━━━━━━━━━━━━━━\u001b[0m\u001b[37m\u001b[0m \u001b[1m1s\u001b[0m 327us/step - loss: 731.8248\n",
      "Epoch 33/100\n",
      "\u001b[1m3739/3739\u001b[0m \u001b[32m━━━━━━━━━━━━━━━━━━━━\u001b[0m\u001b[37m\u001b[0m \u001b[1m1s\u001b[0m 299us/step - loss: 744.1177\n",
      "Epoch 34/100\n",
      "\u001b[1m3739/3739\u001b[0m \u001b[32m━━━━━━━━━━━━━━━━━━━━\u001b[0m\u001b[37m\u001b[0m \u001b[1m1s\u001b[0m 303us/step - loss: 737.0172\n",
      "Epoch 35/100\n",
      "\u001b[1m3739/3739\u001b[0m \u001b[32m━━━━━━━━━━━━━━━━━━━━\u001b[0m\u001b[37m\u001b[0m \u001b[1m1s\u001b[0m 298us/step - loss: 737.9858\n",
      "Epoch 36/100\n",
      "\u001b[1m3739/3739\u001b[0m \u001b[32m━━━━━━━━━━━━━━━━━━━━\u001b[0m\u001b[37m\u001b[0m \u001b[1m1s\u001b[0m 298us/step - loss: 744.2201\n",
      "Epoch 37/100\n",
      "\u001b[1m3739/3739\u001b[0m \u001b[32m━━━━━━━━━━━━━━━━━━━━\u001b[0m\u001b[37m\u001b[0m \u001b[1m1s\u001b[0m 302us/step - loss: 728.1630\n",
      "Epoch 38/100\n",
      "\u001b[1m3739/3739\u001b[0m \u001b[32m━━━━━━━━━━━━━━━━━━━━\u001b[0m\u001b[37m\u001b[0m \u001b[1m1s\u001b[0m 324us/step - loss: 729.7955\n",
      "Epoch 39/100\n",
      "\u001b[1m3739/3739\u001b[0m \u001b[32m━━━━━━━━━━━━━━━━━━━━\u001b[0m\u001b[37m\u001b[0m \u001b[1m1s\u001b[0m 301us/step - loss: 737.6410\n",
      "Epoch 40/100\n",
      "\u001b[1m3739/3739\u001b[0m \u001b[32m━━━━━━━━━━━━━━━━━━━━\u001b[0m\u001b[37m\u001b[0m \u001b[1m1s\u001b[0m 299us/step - loss: 737.4506\n",
      "Epoch 41/100\n",
      "\u001b[1m3739/3739\u001b[0m \u001b[32m━━━━━━━━━━━━━━━━━━━━\u001b[0m\u001b[37m\u001b[0m \u001b[1m1s\u001b[0m 299us/step - loss: 729.9136\n",
      "Epoch 42/100\n",
      "\u001b[1m3739/3739\u001b[0m \u001b[32m━━━━━━━━━━━━━━━━━━━━\u001b[0m\u001b[37m\u001b[0m \u001b[1m1s\u001b[0m 301us/step - loss: 727.0618\n",
      "Epoch 43/100\n",
      "\u001b[1m3739/3739\u001b[0m \u001b[32m━━━━━━━━━━━━━━━━━━━━\u001b[0m\u001b[37m\u001b[0m \u001b[1m1s\u001b[0m 299us/step - loss: 732.0085\n",
      "Epoch 44/100\n",
      "\u001b[1m3739/3739\u001b[0m \u001b[32m━━━━━━━━━━━━━━━━━━━━\u001b[0m\u001b[37m\u001b[0m \u001b[1m1s\u001b[0m 300us/step - loss: 730.2277\n",
      "Epoch 45/100\n",
      "\u001b[1m3739/3739\u001b[0m \u001b[32m━━━━━━━━━━━━━━━━━━━━\u001b[0m\u001b[37m\u001b[0m \u001b[1m1s\u001b[0m 298us/step - loss: 732.3277\n",
      "Epoch 46/100\n",
      "\u001b[1m3739/3739\u001b[0m \u001b[32m━━━━━━━━━━━━━━━━━━━━\u001b[0m\u001b[37m\u001b[0m \u001b[1m1s\u001b[0m 297us/step - loss: 732.7597\n",
      "Epoch 47/100\n",
      "\u001b[1m3739/3739\u001b[0m \u001b[32m━━━━━━━━━━━━━━━━━━━━\u001b[0m\u001b[37m\u001b[0m \u001b[1m1s\u001b[0m 320us/step - loss: 721.3771\n",
      "Epoch 48/100\n",
      "\u001b[1m3739/3739\u001b[0m \u001b[32m━━━━━━━━━━━━━━━━━━━━\u001b[0m\u001b[37m\u001b[0m \u001b[1m1s\u001b[0m 298us/step - loss: 727.3665\n",
      "Epoch 49/100\n",
      "\u001b[1m3739/3739\u001b[0m \u001b[32m━━━━━━━━━━━━━━━━━━━━\u001b[0m\u001b[37m\u001b[0m \u001b[1m1s\u001b[0m 301us/step - loss: 711.7362\n",
      "Epoch 50/100\n",
      "\u001b[1m3739/3739\u001b[0m \u001b[32m━━━━━━━━━━━━━━━━━━━━\u001b[0m\u001b[37m\u001b[0m \u001b[1m1s\u001b[0m 302us/step - loss: 727.6080\n",
      "Epoch 51/100\n",
      "\u001b[1m3739/3739\u001b[0m \u001b[32m━━━━━━━━━━━━━━━━━━━━\u001b[0m\u001b[37m\u001b[0m \u001b[1m1s\u001b[0m 300us/step - loss: 715.5882\n",
      "Epoch 52/100\n",
      "\u001b[1m3739/3739\u001b[0m \u001b[32m━━━━━━━━━━━━━━━━━━━━\u001b[0m\u001b[37m\u001b[0m \u001b[1m1s\u001b[0m 300us/step - loss: 727.6752\n",
      "Epoch 53/100\n",
      "\u001b[1m3739/3739\u001b[0m \u001b[32m━━━━━━━━━━━━━━━━━━━━\u001b[0m\u001b[37m\u001b[0m \u001b[1m1s\u001b[0m 307us/step - loss: 720.5085\n",
      "Epoch 54/100\n",
      "\u001b[1m3739/3739\u001b[0m \u001b[32m━━━━━━━━━━━━━━━━━━━━\u001b[0m\u001b[37m\u001b[0m \u001b[1m1s\u001b[0m 310us/step - loss: 721.3734\n",
      "Epoch 55/100\n",
      "\u001b[1m3739/3739\u001b[0m \u001b[32m━━━━━━━━━━━━━━━━━━━━\u001b[0m\u001b[37m\u001b[0m \u001b[1m1s\u001b[0m 308us/step - loss: 712.7802\n",
      "Epoch 56/100\n",
      "\u001b[1m3739/3739\u001b[0m \u001b[32m━━━━━━━━━━━━━━━━━━━━\u001b[0m\u001b[37m\u001b[0m \u001b[1m1s\u001b[0m 301us/step - loss: 721.1920\n",
      "Epoch 57/100\n",
      "\u001b[1m3739/3739\u001b[0m \u001b[32m━━━━━━━━━━━━━━━━━━━━\u001b[0m\u001b[37m\u001b[0m \u001b[1m1s\u001b[0m 299us/step - loss: 722.1097\n",
      "Epoch 58/100\n",
      "\u001b[1m3739/3739\u001b[0m \u001b[32m━━━━━━━━━━━━━━━━━━━━\u001b[0m\u001b[37m\u001b[0m \u001b[1m1s\u001b[0m 299us/step - loss: 715.5239\n",
      "Epoch 59/100\n",
      "\u001b[1m3739/3739\u001b[0m \u001b[32m━━━━━━━━━━━━━━━━━━━━\u001b[0m\u001b[37m\u001b[0m \u001b[1m1s\u001b[0m 301us/step - loss: 715.1180\n",
      "Epoch 60/100\n",
      "\u001b[1m3739/3739\u001b[0m \u001b[32m━━━━━━━━━━━━━━━━━━━━\u001b[0m\u001b[37m\u001b[0m \u001b[1m1s\u001b[0m 303us/step - loss: 733.1123\n",
      "Epoch 61/100\n",
      "\u001b[1m3739/3739\u001b[0m \u001b[32m━━━━━━━━━━━━━━━━━━━━\u001b[0m\u001b[37m\u001b[0m \u001b[1m1s\u001b[0m 301us/step - loss: 707.2136\n",
      "Epoch 62/100\n",
      "\u001b[1m3739/3739\u001b[0m \u001b[32m━━━━━━━━━━━━━━━━━━━━\u001b[0m\u001b[37m\u001b[0m \u001b[1m1s\u001b[0m 320us/step - loss: 708.6609\n",
      "Epoch 63/100\n",
      "\u001b[1m3739/3739\u001b[0m \u001b[32m━━━━━━━━━━━━━━━━━━━━\u001b[0m\u001b[37m\u001b[0m \u001b[1m1s\u001b[0m 298us/step - loss: 716.2383\n",
      "Epoch 64/100\n",
      "\u001b[1m3739/3739\u001b[0m \u001b[32m━━━━━━━━━━━━━━━━━━━━\u001b[0m\u001b[37m\u001b[0m \u001b[1m1s\u001b[0m 300us/step - loss: 709.2650\n",
      "Epoch 65/100\n",
      "\u001b[1m3739/3739\u001b[0m \u001b[32m━━━━━━━━━━━━━━━━━━━━\u001b[0m\u001b[37m\u001b[0m \u001b[1m1s\u001b[0m 300us/step - loss: 723.6279\n",
      "Epoch 66/100\n",
      "\u001b[1m3739/3739\u001b[0m \u001b[32m━━━━━━━━━━━━━━━━━━━━\u001b[0m\u001b[37m\u001b[0m \u001b[1m1s\u001b[0m 301us/step - loss: 710.7294\n",
      "Epoch 67/100\n",
      "\u001b[1m3739/3739\u001b[0m \u001b[32m━━━━━━━━━━━━━━━━━━━━\u001b[0m\u001b[37m\u001b[0m \u001b[1m1s\u001b[0m 299us/step - loss: 709.4691\n",
      "Epoch 68/100\n",
      "\u001b[1m3739/3739\u001b[0m \u001b[32m━━━━━━━━━━━━━━━━━━━━\u001b[0m\u001b[37m\u001b[0m \u001b[1m1s\u001b[0m 298us/step - loss: 711.1168\n",
      "Epoch 69/100\n",
      "\u001b[1m3739/3739\u001b[0m \u001b[32m━━━━━━━━━━━━━━━━━━━━\u001b[0m\u001b[37m\u001b[0m \u001b[1m1s\u001b[0m 328us/step - loss: 707.9212\n",
      "Epoch 70/100\n",
      "\u001b[1m3739/3739\u001b[0m \u001b[32m━━━━━━━━━━━━━━━━━━━━\u001b[0m\u001b[37m\u001b[0m \u001b[1m1s\u001b[0m 300us/step - loss: 705.8748\n",
      "Epoch 71/100\n",
      "\u001b[1m3739/3739\u001b[0m \u001b[32m━━━━━━━━━━━━━━━━━━━━\u001b[0m\u001b[37m\u001b[0m \u001b[1m1s\u001b[0m 310us/step - loss: 706.2248\n",
      "Epoch 72/100\n",
      "\u001b[1m3739/3739\u001b[0m \u001b[32m━━━━━━━━━━━━━━━━━━━━\u001b[0m\u001b[37m\u001b[0m \u001b[1m1s\u001b[0m 297us/step - loss: 701.6807\n",
      "Epoch 73/100\n",
      "\u001b[1m3739/3739\u001b[0m \u001b[32m━━━━━━━━━━━━━━━━━━━━\u001b[0m\u001b[37m\u001b[0m \u001b[1m1s\u001b[0m 299us/step - loss: 702.2081\n",
      "Epoch 74/100\n",
      "\u001b[1m3739/3739\u001b[0m \u001b[32m━━━━━━━━━━━━━━━━━━━━\u001b[0m\u001b[37m\u001b[0m \u001b[1m1s\u001b[0m 301us/step - loss: 705.4119\n",
      "Epoch 75/100\n",
      "\u001b[1m3739/3739\u001b[0m \u001b[32m━━━━━━━━━━━━━━━━━━━━\u001b[0m\u001b[37m\u001b[0m \u001b[1m1s\u001b[0m 306us/step - loss: 702.2712\n",
      "Epoch 76/100\n",
      "\u001b[1m3739/3739\u001b[0m \u001b[32m━━━━━━━━━━━━━━━━━━━━\u001b[0m\u001b[37m\u001b[0m \u001b[1m1s\u001b[0m 327us/step - loss: 702.3480\n",
      "Epoch 77/100\n",
      "\u001b[1m3739/3739\u001b[0m \u001b[32m━━━━━━━━━━━━━━━━━━━━\u001b[0m\u001b[37m\u001b[0m \u001b[1m1s\u001b[0m 299us/step - loss: 702.8900\n",
      "Epoch 78/100\n",
      "\u001b[1m3739/3739\u001b[0m \u001b[32m━━━━━━━━━━━━━━━━━━━━\u001b[0m\u001b[37m\u001b[0m \u001b[1m1s\u001b[0m 301us/step - loss: 698.1454\n",
      "Epoch 79/100\n",
      "\u001b[1m3739/3739\u001b[0m \u001b[32m━━━━━━━━━━━━━━━━━━━━\u001b[0m\u001b[37m\u001b[0m \u001b[1m1s\u001b[0m 297us/step - loss: 707.0258\n",
      "Epoch 80/100\n",
      "\u001b[1m3739/3739\u001b[0m \u001b[32m━━━━━━━━━━━━━━━━━━━━\u001b[0m\u001b[37m\u001b[0m \u001b[1m1s\u001b[0m 300us/step - loss: 698.4960\n",
      "Epoch 81/100\n",
      "\u001b[1m3739/3739\u001b[0m \u001b[32m━━━━━━━━━━━━━━━━━━━━\u001b[0m\u001b[37m\u001b[0m \u001b[1m1s\u001b[0m 298us/step - loss: 699.9985\n",
      "Epoch 82/100\n",
      "\u001b[1m3739/3739\u001b[0m \u001b[32m━━━━━━━━━━━━━━━━━━━━\u001b[0m\u001b[37m\u001b[0m \u001b[1m1s\u001b[0m 315us/step - loss: 700.7436\n",
      "Epoch 83/100\n",
      "\u001b[1m3739/3739\u001b[0m \u001b[32m━━━━━━━━━━━━━━━━━━━━\u001b[0m\u001b[37m\u001b[0m \u001b[1m1s\u001b[0m 330us/step - loss: 688.9161\n",
      "Epoch 84/100\n",
      "\u001b[1m3739/3739\u001b[0m \u001b[32m━━━━━━━━━━━━━━━━━━━━\u001b[0m\u001b[37m\u001b[0m \u001b[1m1s\u001b[0m 299us/step - loss: 694.9730\n",
      "Epoch 85/100\n",
      "\u001b[1m3739/3739\u001b[0m \u001b[32m━━━━━━━━━━━━━━━━━━━━\u001b[0m\u001b[37m\u001b[0m \u001b[1m1s\u001b[0m 300us/step - loss: 694.6584\n",
      "Epoch 86/100\n",
      "\u001b[1m3739/3739\u001b[0m \u001b[32m━━━━━━━━━━━━━━━━━━━━\u001b[0m\u001b[37m\u001b[0m \u001b[1m1s\u001b[0m 298us/step - loss: 693.8350\n",
      "Epoch 87/100\n",
      "\u001b[1m3739/3739\u001b[0m \u001b[32m━━━━━━━━━━━━━━━━━━━━\u001b[0m\u001b[37m\u001b[0m \u001b[1m1s\u001b[0m 299us/step - loss: 695.7693\n",
      "Epoch 88/100\n",
      "\u001b[1m3739/3739\u001b[0m \u001b[32m━━━━━━━━━━━━━━━━━━━━\u001b[0m\u001b[37m\u001b[0m \u001b[1m1s\u001b[0m 301us/step - loss: 688.8098\n",
      "Epoch 89/100\n",
      "\u001b[1m3739/3739\u001b[0m \u001b[32m━━━━━━━━━━━━━━━━━━━━\u001b[0m\u001b[37m\u001b[0m \u001b[1m1s\u001b[0m 321us/step - loss: 686.6121\n",
      "Epoch 90/100\n",
      "\u001b[1m3739/3739\u001b[0m \u001b[32m━━━━━━━━━━━━━━━━━━━━\u001b[0m\u001b[37m\u001b[0m \u001b[1m1s\u001b[0m 300us/step - loss: 686.2850\n",
      "Epoch 91/100\n",
      "\u001b[1m3739/3739\u001b[0m \u001b[32m━━━━━━━━━━━━━━━━━━━━\u001b[0m\u001b[37m\u001b[0m \u001b[1m1s\u001b[0m 299us/step - loss: 684.3345\n",
      "Epoch 92/100\n",
      "\u001b[1m3739/3739\u001b[0m \u001b[32m━━━━━━━━━━━━━━━━━━━━\u001b[0m\u001b[37m\u001b[0m \u001b[1m1s\u001b[0m 299us/step - loss: 689.2621\n",
      "Epoch 93/100\n",
      "\u001b[1m3739/3739\u001b[0m \u001b[32m━━━━━━━━━━━━━━━━━━━━\u001b[0m\u001b[37m\u001b[0m \u001b[1m1s\u001b[0m 301us/step - loss: 688.7748\n",
      "Epoch 94/100\n",
      "\u001b[1m3739/3739\u001b[0m \u001b[32m━━━━━━━━━━━━━━━━━━━━\u001b[0m\u001b[37m\u001b[0m \u001b[1m1s\u001b[0m 298us/step - loss: 682.4391\n",
      "Epoch 95/100\n",
      "\u001b[1m3739/3739\u001b[0m \u001b[32m━━━━━━━━━━━━━━━━━━━━\u001b[0m\u001b[37m\u001b[0m \u001b[1m1s\u001b[0m 327us/step - loss: 684.8405\n",
      "Epoch 96/100\n",
      "\u001b[1m3739/3739\u001b[0m \u001b[32m━━━━━━━━━━━━━━━━━━━━\u001b[0m\u001b[37m\u001b[0m \u001b[1m1s\u001b[0m 308us/step - loss: 685.1141\n",
      "Epoch 97/100\n",
      "\u001b[1m3739/3739\u001b[0m \u001b[32m━━━━━━━━━━━━━━━━━━━━\u001b[0m\u001b[37m\u001b[0m \u001b[1m1s\u001b[0m 298us/step - loss: 683.4376\n",
      "Epoch 98/100\n",
      "\u001b[1m3739/3739\u001b[0m \u001b[32m━━━━━━━━━━━━━━━━━━━━\u001b[0m\u001b[37m\u001b[0m \u001b[1m1s\u001b[0m 300us/step - loss: 689.5948\n",
      "Epoch 99/100\n",
      "\u001b[1m3739/3739\u001b[0m \u001b[32m━━━━━━━━━━━━━━━━━━━━\u001b[0m\u001b[37m\u001b[0m \u001b[1m1s\u001b[0m 297us/step - loss: 682.8312\n",
      "Epoch 100/100\n",
      "\u001b[1m3739/3739\u001b[0m \u001b[32m━━━━━━━━━━━━━━━━━━━━\u001b[0m\u001b[37m\u001b[0m \u001b[1m1s\u001b[0m 301us/step - loss: 684.3719\n"
     ]
    },
    {
     "data": {
      "text/plain": [
       "<keras.src.callbacks.history.History at 0x106c1de80>"
      ]
     },
     "execution_count": 33,
     "metadata": {},
     "output_type": "execute_result"
    }
   ],
   "source": [
    "# Treinar o modelo\n",
    "model.fit(X_train, y_train, epochs=100, batch_size=10, verbose=1)"
   ]
  },
  {
   "cell_type": "code",
   "execution_count": 34,
   "metadata": {},
   "outputs": [
    {
     "name": "stdout",
     "output_type": "stream",
     "text": [
      "\u001b[1m293/293\u001b[0m \u001b[32m━━━━━━━━━━━━━━━━━━━━\u001b[0m\u001b[37m\u001b[0m \u001b[1m0s\u001b[0m 520us/step\n"
     ]
    }
   ],
   "source": [
    "# Fazer previsões\n",
    "predictions = model.predict(X_test)"
   ]
  },
  {
   "cell_type": "code",
   "execution_count": 45,
   "metadata": {},
   "outputs": [],
   "source": [
    "# Adicionar as previsões ao DataFrame\n",
    "X_test = X_test.copy()\n",
    "X_test['predicted_confidence'] = predictions"
   ]
  },
  {
   "cell_type": "code",
   "execution_count": 49,
   "metadata": {},
   "outputs": [
    {
     "name": "stdout",
     "output_type": "stream",
     "text": [
      "             data  latitude_x  longitude_x  PRECIPITACAO TOTAL, HORARIO (mm)  \\\n",
      "0      2019-01-01    -15.7893     -47.9258                               1.4   \n",
      "1      2019-01-02    -15.7893     -47.9258                               0.0   \n",
      "2      2019-01-03    -15.7893     -47.9258                               0.0   \n",
      "3      2019-01-04    -15.7893     -47.9258                               0.0   \n",
      "4      2019-01-05    -15.7893     -47.9258                               1.0   \n",
      "...           ...         ...          ...                               ...   \n",
      "48803  2024-08-27    -27.6025     -48.6200                               0.0   \n",
      "48804  2024-08-28    -27.6025     -48.6200                               0.0   \n",
      "48805  2024-08-29    -27.6025     -48.6200                               0.0   \n",
      "48806  2024-08-30    -27.6025     -48.6200                               0.0   \n",
      "48807  2024-08-31    -27.6025     -48.6200                               0.0   \n",
      "\n",
      "       PRESSAO ATMOSFERICA AO NIVEL DA ESTACAO, HORARIA (mB)  \\\n",
      "0                                                 888.02       \n",
      "1                                                 888.80       \n",
      "2                                                 887.62       \n",
      "3                                                 887.54       \n",
      "4                                                 887.96       \n",
      "...                                                  ...       \n",
      "48803                                            1026.78       \n",
      "48804                                            1027.09       \n",
      "48805                                            1024.60       \n",
      "48806                                            1020.41       \n",
      "48807                                            1021.05       \n",
      "\n",
      "       RADIACAO GLOBAL (KJ/m2)  TEMPERATURA DO AR - BULBO SECO, HORARIA (0C)  \\\n",
      "0                      1192.79                                         20.52   \n",
      "1                      2300.98                                         22.72   \n",
      "2                      2053.05                                         24.34   \n",
      "3                      1704.60                                         23.42   \n",
      "4                       886.91                                         20.87   \n",
      "...                        ...                                           ...   \n",
      "48803                  1659.76                                         74.67   \n",
      "48804                   795.39                                         73.92   \n",
      "48805                  1424.48                                         71.29   \n",
      "48806                  1430.21                                         78.71   \n",
      "48807                   836.22                                         78.96   \n",
      "\n",
      "       UMIDADE RELATIVA DO AR, HORARIA (%)  VENTO, RAJADA MAXIMA (m/s)  \\\n",
      "0                                    82.21                        3.72   \n",
      "1                                    71.04                        4.84   \n",
      "2                                    56.21                        4.86   \n",
      "3                                    61.38                        4.27   \n",
      "4                                    77.25                        3.70   \n",
      "...                                    ...                         ...   \n",
      "48803                                74.67                        3.52   \n",
      "48804                                73.92                        3.29   \n",
      "48805                                71.29                        5.03   \n",
      "48806                                78.71                        4.28   \n",
      "48807                                78.96                        3.90   \n",
      "\n",
      "       modis_index  distance  latitude_y  longitude_y  confidence  \n",
      "0           343669  0.011666    -15.7864     -47.9371        84.0  \n",
      "1           343669  0.011666    -15.7864     -47.9371        84.0  \n",
      "2           343669  0.011666    -15.7864     -47.9371        84.0  \n",
      "3           343669  0.011666    -15.7864     -47.9371        84.0  \n",
      "4           343669  0.011666    -15.7864     -47.9371        84.0  \n",
      "...            ...       ...         ...          ...         ...  \n",
      "48803      1033210  0.046034    -27.6122     -48.6650        63.0  \n",
      "48804      1033210  0.046034    -27.6122     -48.6650        63.0  \n",
      "48805      1033210  0.046034    -27.6122     -48.6650        63.0  \n",
      "48806      1033210  0.046034    -27.6122     -48.6650        63.0  \n",
      "48807      1033210  0.046034    -27.6122     -48.6650        63.0  \n",
      "\n",
      "[46738 rows x 14 columns]\n"
     ]
    }
   ],
   "source": [
    "print(combined_data_tolerance)"
   ]
  },
  {
   "cell_type": "code",
   "execution_count": 50,
   "metadata": {},
   "outputs": [
    {
     "name": "stdout",
     "output_type": "stream",
     "text": [
      "DataFrame final com latitude, longitude e predicted_confidence:\n",
      "   latitude_x  longitude_x  predicted_confidence\n",
      "0    -15.7893     -47.9258             29.565857\n",
      "1    -15.7893     -47.9258             45.698273\n",
      "2    -15.7893     -47.9258             34.051170\n",
      "3    -15.7893     -47.9258             27.683376\n",
      "4    -15.7893     -47.9258             38.915058\n"
     ]
    }
   ],
   "source": [
    "# Verifique se o DataFrame combinado não está vazio\n",
    "if not combined_data_tolerance.empty:\n",
    "    # Obter as previsões (supondo que você já tenha feito a previsão e adicionado a coluna 'predicted_confidence')\n",
    "    final_df = combined_data_tolerance[['latitude_x', 'longitude_x']].copy()  # Copiar as latitudes e longitudes\n",
    "\n",
    "    # Adicionar a coluna de previsões de confiança\n",
    "    final_df['predicted_confidence'] = X_test['predicted_confidence'].reset_index(drop=True)\n",
    "\n",
    "    # Resetar o índice do DataFrame final\n",
    "    final_df.reset_index(drop=True, inplace=True)\n",
    "\n",
    "    # Exibir o DataFrame final\n",
    "    print(\"DataFrame final com latitude, longitude e predicted_confidence:\")\n",
    "    print(final_df.head())\n",
    "else:\n",
    "    print(\"O DataFrame combinado está vazio. Não há dados para criar o DataFrame final.\")"
   ]
  },
  {
   "cell_type": "code",
   "execution_count": null,
   "metadata": {},
   "outputs": [],
   "source": [
    "# Salvar o DataFrame em um arquivo CSV\n",
    "final_df.to_csv('previsao_confidence_feedforward.csv', index=False)"
   ]
  }
 ],
 "metadata": {
  "kernelspec": {
   "display_name": "Python 3",
   "language": "python",
   "name": "python3"
  },
  "language_info": {
   "codemirror_mode": {
    "name": "ipython",
    "version": 3
   },
   "file_extension": ".py",
   "mimetype": "text/x-python",
   "name": "python",
   "nbconvert_exporter": "python",
   "pygments_lexer": "ipython3",
   "version": "3.9.6"
  }
 },
 "nbformat": 4,
 "nbformat_minor": 2
}
