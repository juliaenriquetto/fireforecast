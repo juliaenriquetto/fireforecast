{
 "cells": [
  {
   "cell_type": "code",
   "execution_count": 58,
   "metadata": {},
   "outputs": [],
   "source": [
    "import pandas as pd\n",
    "from sklearn.linear_model import LinearRegression\n",
    "from sklearn.model_selection import train_test_split\n",
    "from sklearn.impute import KNNImputer\n",
    "from sklearn.neighbors import NearestNeighbors"
   ]
  },
  {
   "cell_type": "code",
   "execution_count": 49,
   "metadata": {},
   "outputs": [],
   "source": [
    "# Carregar previsões dos modelos\n",
    "feedforward_df = pd.read_csv('../feed_forward/previsao_confidence_feedforward.csv')\n",
    "boosting_df = pd.read_csv('../boosting/resultados_previsao_boosting.csv')\n",
    "decision_tree_df = pd.read_csv('../decision_tree/resultados_previsao_decisionTree.csv')"
   ]
  },
  {
   "cell_type": "code",
   "execution_count": 55,
   "metadata": {},
   "outputs": [],
   "source": [
    "# Remover qualquer valor nulo nas colunas de latitude e longitude\n",
    "boosting_df.dropna(subset=['latitude', 'longitude'], inplace=True)\n",
    "decision_tree_df.dropna(subset=['latitude', 'longitude'], inplace=True)\n",
    "feedforward_df.dropna(subset=['latitude', 'longitude'], inplace=True)"
   ]
  },
  {
   "cell_type": "code",
   "execution_count": 59,
   "metadata": {},
   "outputs": [],
   "source": [
    "# Inicializa o modelo KNN para encontrar os vizinhos mais próximos\n",
    "knn = NearestNeighbors(n_neighbors=1, metric='euclidean')\n",
    "\n",
    "# Função para combinar os DataFrames com base em vizinhos mais próximos\n",
    "def combine_with_knn(df1, df2):\n",
    "    # Concatenar as latitudes e longitudes para realizar o KNN\n",
    "    coords1 = df1[['latitude', 'longitude']].values\n",
    "    coords2 = df2[['latitude', 'longitude']].values\n",
    "\n",
    "    # Ajustar o modelo KNN para os dados do primeiro DataFrame (df1)\n",
    "    knn.fit(coords1)\n",
    "\n",
    "    # Encontrar os vizinhos mais próximos do segundo DataFrame (df2) no primeiro DataFrame\n",
    "    _, indices = knn.kneighbors(coords2)\n",
    "\n",
    "    # Associar as probabilidades de df1 com os dados de df2 usando os índices dos vizinhos\n",
    "    df2['probabilidade_boosting'] = df1.iloc[indices.flatten()]['probabilidade'].values\n",
    "    return df2\n"
   ]
  },
  {
   "cell_type": "code",
   "execution_count": 60,
   "metadata": {},
   "outputs": [],
   "source": [
    "# 1. Combine boosting_df com decision_tree_df usando o KNN\n",
    "combined_df = combine_with_knn(boosting_df, decision_tree_df)"
   ]
  },
  {
   "cell_type": "code",
   "execution_count": 61,
   "metadata": {},
   "outputs": [],
   "source": [
    "# 2. Combine o resultado com feedforward_df\n",
    "combined_df = combine_with_knn(combined_df, feedforward_df)"
   ]
  },
  {
   "cell_type": "code",
   "execution_count": 63,
   "metadata": {},
   "outputs": [],
   "source": [
    "# Agora o DataFrame combinado terá as probabilidades dos três modelos\n",
    "# 3. Criar a coluna de probabilidade final (ensemble) calculando a média das probabilidades\n",
    "combined_df['probabilidade_ensemble'] = combined_df[['probabilidade', 'probabilidade', 'probabilidade']].mean(axis=1)"
   ]
  },
  {
   "cell_type": "code",
   "execution_count": 64,
   "metadata": {},
   "outputs": [],
   "source": [
    "resultado_final = combined_df[['Data', 'latitude', 'longitude', 'probabilidade_ensemble']]"
   ]
  },
  {
   "cell_type": "code",
   "execution_count": 65,
   "metadata": {},
   "outputs": [],
   "source": [
    "# Salvar o resultado em um CSV\n",
    "resultado_final.to_csv('resultado_ensemble.csv', index=False)"
   ]
  },
  {
   "cell_type": "markdown",
   "metadata": {},
   "source": [
    "CALCULANDO A ACURÁCIA"
   ]
  },
  {
   "cell_type": "code",
   "execution_count": 68,
   "metadata": {},
   "outputs": [],
   "source": [
    "from sklearn.metrics import mean_absolute_error, mean_squared_error, r2_score\n",
    "import numpy as np"
   ]
  },
  {
   "cell_type": "code",
   "execution_count": 69,
   "metadata": {},
   "outputs": [],
   "source": [
    "# Suponha que você tenha os valores reais das probabilidades (por exemplo, da sua base de dados real)\n",
    "# Aqui vamos gerar um exemplo de dados reais para ilustrar. Substitua isso pelos seus valores reais.\n",
    "\n",
    "# Suponha que 'probabilidade_real' seja a coluna de probabilidades reais que você possui\n",
    "# Para o exemplo, vamos gerar uma variável fake de probabilidades reais\n",
    "real_probabilities = np.random.rand(len(resultado_final)) * 100  # Aqui substitua pelos seus valores reais\n",
    "\n",
    "# As probabilidades previstas do seu modelo de ensemble\n",
    "predicted_probabilities = resultado_final['probabilidade_ensemble']"
   ]
  },
  {
   "cell_type": "code",
   "execution_count": 70,
   "metadata": {},
   "outputs": [
    {
     "name": "stdout",
     "output_type": "stream",
     "text": [
      "Erro Médio Absoluto (MAE): 33.1754\n"
     ]
    }
   ],
   "source": [
    "# 1. Cálculo do Erro Médio Absoluto (MAE)\n",
    "mae = mean_absolute_error(real_probabilities, predicted_probabilities)\n",
    "print(f\"Erro Médio Absoluto (MAE): {mae:.4f}\")"
   ]
  },
  {
   "cell_type": "code",
   "execution_count": 71,
   "metadata": {},
   "outputs": [
    {
     "name": "stdout",
     "output_type": "stream",
     "text": [
      "Erro Quadrático Médio (RMSE): 40.7538\n"
     ]
    }
   ],
   "source": [
    "# 2. Cálculo do Erro Quadrático Médio (RMSE)\n",
    "rmse = np.sqrt(mean_squared_error(real_probabilities, predicted_probabilities))\n",
    "print(f\"Erro Quadrático Médio (RMSE): {rmse:.4f}\")"
   ]
  },
  {
   "cell_type": "code",
   "execution_count": 72,
   "metadata": {},
   "outputs": [
    {
     "name": "stdout",
     "output_type": "stream",
     "text": [
      "Coeficiente de Determinação (R²): -0.9934\n"
     ]
    }
   ],
   "source": [
    "# 3. Cálculo do Coeficiente de Determinação (R²)\n",
    "r2 = r2_score(real_probabilities, predicted_probabilities)\n",
    "print(f\"Coeficiente de Determinação (R²): {r2:.4f}\")"
   ]
  }
 ],
 "metadata": {
  "kernelspec": {
   "display_name": ".venv",
   "language": "python",
   "name": "python3"
  },
  "language_info": {
   "codemirror_mode": {
    "name": "ipython",
    "version": 3
   },
   "file_extension": ".py",
   "mimetype": "text/x-python",
   "name": "python",
   "nbconvert_exporter": "python",
   "pygments_lexer": "ipython3",
   "version": "3.13.0"
  }
 },
 "nbformat": 4,
 "nbformat_minor": 2
}
