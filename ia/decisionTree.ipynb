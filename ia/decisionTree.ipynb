{
 "cells": [
  {
   "cell_type": "code",
   "execution_count": 1,
   "metadata": {},
   "outputs": [],
   "source": [
    "import pandas as pd"
   ]
  },
  {
   "cell_type": "code",
   "execution_count": 2,
   "metadata": {},
   "outputs": [],
   "source": [
    "# Função para ler o arquivo CSV e retornar o dataframe\n",
    "def ler_arquivo_csv(file_path):\n",
    "    dados = pd.read_csv(file_path)\n",
    "    dados.columns = dados.columns.str.strip()  # Remove espaços extras nos nomes das colunas\n",
    "    return dados\n",
    "\n",
    "# Função para encontrar os dados com a latitude e longitude correspondentes\n",
    "def encontrar_dados_por_coordenadas(dados, lat, lon):\n",
    "    linha = dados[(dados['latitude'] == lat) & (dados['longitude'] == lon)]\n",
    "    if linha.empty:\n",
    "        return None\n",
    "    return linha.iloc[0]\n",
    "\n",
    "# Função para calcular a probabilidade de queimada\n",
    "def calcular_probabilidade(dados_linha):\n",
    "    contagem_verdadeiras = 0\n",
    "\n",
    "    if dados_linha['temperatura'] > 35:\n",
    "        contagem_verdadeiras += 1\n",
    "    if dados_linha['umidade'] > 30:\n",
    "        contagem_verdadeiras += 1\n",
    "    if dados_linha['pressao'] > 1002:\n",
    "        contagem_verdadeiras += 1\n",
    "\n",
    "    if contagem_verdadeiras == 3:\n",
    "        return 100\n",
    "    elif contagem_verdadeiras == 2:\n",
    "        return 75\n",
    "    elif contagem_verdadeiras == 1:\n",
    "        return 50\n",
    "    else:\n",
    "        return 0"
   ]
  },
  {
   "cell_type": "code",
   "execution_count": 3,
   "metadata": {},
   "outputs": [],
   "source": [
    "# Função principal para previsão de queimada com base em uma latitude e longitude\n",
    "def prever_queimada(dados_queimadas, latitude, longitude):\n",
    "    dados_linha = encontrar_dados_por_coordenadas(dados_queimadas, latitude, longitude)\n",
    "    \n",
    "    if dados_linha is None:\n",
    "        return None  # Se não encontrar a linha, retorna None\n",
    "    \n",
    "    probabilidade = calcular_probabilidade(dados_linha)\n",
    "    return probabilidade"
   ]
  },
  {
   "cell_type": "code",
   "execution_count": 4,
   "metadata": {},
   "outputs": [],
   "source": [
    "# Função para iterar sobre o arquivo de latitudes e longitudes e gerar um novo CSV\n",
    "def processar_multiplas_coordenadas(file_path_queimadas, file_path_coords, output_file):\n",
    "    dados_queimadas = ler_arquivo_csv(file_path_queimadas)\n",
    "    coords = ler_arquivo_csv(file_path_coords)\n",
    "\n",
    "    resultados = []\n",
    "    \n",
    "    # Itera sobre cada linha de latitude e longitude no arquivo de coordenadas\n",
    "    for _, linha in coords.iterrows():\n",
    "        latitude = linha['latitude']\n",
    "        longitude = linha['longitude']\n",
    "        probabilidade = prever_queimada(dados_queimadas, latitude, longitude)\n",
    "        \n",
    "        if probabilidade is not None:\n",
    "            resultados.append({'latitude': latitude, 'longitude': longitude, 'probabilidade': probabilidade})\n",
    "\n",
    "    # Cria um novo DataFrame com os resultados e salva no arquivo CSV\n",
    "    df_resultados = pd.DataFrame(resultados)\n",
    "    df_resultados.to_csv(output_file, index=False)  # Salva o DataFrame no arquivo CSV"
   ]
  },
  {
   "cell_type": "code",
   "execution_count": 5,
   "metadata": {},
   "outputs": [],
   "source": [
    "# Exemplo de uso\n",
    "file_path_queimadas = './dadosParaArvore.csv'\n",
    "file_path_coords = './modisFinal_2024.csv'\n",
    "output_file = 'resultado_probabilidade.csv'  # Arquivo de saída"
   ]
  },
  {
   "cell_type": "code",
   "execution_count": null,
   "metadata": {},
   "outputs": [],
   "source": [
    "# Processa as coordenadas e cria o novo arquivo com as probabilidades\n",
    "processar_multiplas_coordenadas(file_path_queimadas, file_path_coords, output_file)"
   ]
  }
 ],
 "metadata": {
  "kernelspec": {
   "display_name": "Python 3",
   "language": "python",
   "name": "python3"
  },
  "language_info": {
   "codemirror_mode": {
    "name": "ipython",
    "version": 3
   },
   "file_extension": ".py",
   "mimetype": "text/x-python",
   "name": "python",
   "nbconvert_exporter": "python",
   "pygments_lexer": "ipython3",
   "version": "3.9.6"
  }
 },
 "nbformat": 4,
 "nbformat_minor": 2
}
