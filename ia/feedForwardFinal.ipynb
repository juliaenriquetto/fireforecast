{
 "cells": [
  {
   "cell_type": "code",
   "execution_count": 27,
   "metadata": {},
   "outputs": [],
   "source": [
    "import tensorflow as tf\n",
    "from tensorflow import keras\n",
    "from tensorflow.keras import layers\n",
    "import pandas as pd\n",
    "import numpy as np\n",
    "from sklearn.model_selection import train_test_split\n",
    "from sklearn.preprocessing import StandardScaler"
   ]
  },
  {
   "cell_type": "code",
   "execution_count": 28,
   "metadata": {},
   "outputs": [
    {
     "data": {
      "text/html": [
       "<div>\n",
       "<style scoped>\n",
       "    .dataframe tbody tr th:only-of-type {\n",
       "        vertical-align: middle;\n",
       "    }\n",
       "\n",
       "    .dataframe tbody tr th {\n",
       "        vertical-align: top;\n",
       "    }\n",
       "\n",
       "    .dataframe thead th {\n",
       "        text-align: right;\n",
       "    }\n",
       "</style>\n",
       "<table border=\"1\" class=\"dataframe\">\n",
       "  <thead>\n",
       "    <tr style=\"text-align: right;\">\n",
       "      <th></th>\n",
       "      <th>latitude</th>\n",
       "      <th>longitude</th>\n",
       "      <th>confidence</th>\n",
       "    </tr>\n",
       "  </thead>\n",
       "  <tbody>\n",
       "    <tr>\n",
       "      <th>0</th>\n",
       "      <td>-33.7092</td>\n",
       "      <td>-53.3442</td>\n",
       "      <td>0.0</td>\n",
       "    </tr>\n",
       "    <tr>\n",
       "      <th>1</th>\n",
       "      <td>-33.6991</td>\n",
       "      <td>-53.3287</td>\n",
       "      <td>0.0</td>\n",
       "    </tr>\n",
       "    <tr>\n",
       "      <th>2</th>\n",
       "      <td>-33.3994</td>\n",
       "      <td>-52.9535</td>\n",
       "      <td>0.0</td>\n",
       "    </tr>\n",
       "    <tr>\n",
       "      <th>3</th>\n",
       "      <td>-33.3934</td>\n",
       "      <td>-52.9476</td>\n",
       "      <td>0.0</td>\n",
       "    </tr>\n",
       "    <tr>\n",
       "      <th>4</th>\n",
       "      <td>-33.3688</td>\n",
       "      <td>-52.9170</td>\n",
       "      <td>0.0</td>\n",
       "    </tr>\n",
       "  </tbody>\n",
       "</table>\n",
       "</div>"
      ],
      "text/plain": [
       "   latitude  longitude  confidence\n",
       "0  -33.7092   -53.3442         0.0\n",
       "1  -33.6991   -53.3287         0.0\n",
       "2  -33.3994   -52.9535         0.0\n",
       "3  -33.3934   -52.9476         0.0\n",
       "4  -33.3688   -52.9170         0.0"
      ]
     },
     "execution_count": 28,
     "metadata": {},
     "output_type": "execute_result"
    }
   ],
   "source": [
    "# Carregar os arquivos CSV combinados\n",
    "arq_combined = pd.read_csv('../model/data/modisTodos.csv')\n",
    "arq_combined.head()"
   ]
  },
  {
   "cell_type": "code",
   "execution_count": 29,
   "metadata": {},
   "outputs": [],
   "source": [
    "# Criar colunas futuras (latitude_futuro, longitude_futuro, confidence_futuro)\n",
    "arq_combined['latitude_futuro'] = arq_combined['latitude'].shift(-1)\n",
    "arq_combined['longitude_futuro'] = arq_combined['longitude'].shift(-1)\n",
    "arq_combined['confidence_futuro'] = arq_combined['confidence'].shift(-1)"
   ]
  },
  {
   "cell_type": "code",
   "execution_count": 30,
   "metadata": {},
   "outputs": [],
   "source": [
    "# Remover linhas com valores NaN\n",
    "arq_combined.dropna(inplace=True)"
   ]
  },
  {
   "cell_type": "code",
   "execution_count": 31,
   "metadata": {},
   "outputs": [],
   "source": [
    "# Separar as colunas de entrada (features) e saída (targets)\n",
    "X = arq_combined[['latitude', 'longitude', 'confidence']].values\n",
    "y = arq_combined[['latitude_futuro', 'longitude_futuro', 'confidence_futuro']].values"
   ]
  },
  {
   "cell_type": "code",
   "execution_count": 32,
   "metadata": {},
   "outputs": [],
   "source": [
    "# Dividir em conjuntos de treino e teste\n",
    "X_train, X_test, y_train, y_test = train_test_split(X, y, test_size=0.2, random_state=42)"
   ]
  },
  {
   "cell_type": "code",
   "execution_count": 33,
   "metadata": {},
   "outputs": [],
   "source": [
    "# Normalizar os dados\n",
    "scaler = StandardScaler()\n",
    "X_train = scaler.fit_transform(X_train)\n",
    "X_test = scaler.transform(X_test)"
   ]
  },
  {
   "cell_type": "code",
   "execution_count": 34,
   "metadata": {},
   "outputs": [
    {
     "name": "stderr",
     "output_type": "stream",
     "text": [
      "/Users/u22124/Library/Python/3.9/lib/python/site-packages/keras/src/layers/core/dense.py:87: UserWarning: Do not pass an `input_shape`/`input_dim` argument to a layer. When using Sequential models, prefer using an `Input(shape)` object as the first layer in the model instead.\n",
      "  super().__init__(activity_regularizer=activity_regularizer, **kwargs)\n"
     ]
    }
   ],
   "source": [
    "# Definir a arquitetura da rede neural\n",
    "model = tf.keras.Sequential([\n",
    "    layers.Dense(64, activation='relu', input_shape=(X_train.shape[1],)),\n",
    "    layers.Dense(128, activation='relu'),\n",
    "    layers.Dense(3)\n",
    "])"
   ]
  },
  {
   "cell_type": "code",
   "execution_count": 35,
   "metadata": {},
   "outputs": [],
   "source": [
    "# Compilar o modelo\n",
    "model.compile(optimizer='adam', loss='mse', metrics=['mae'])"
   ]
  },
  {
   "cell_type": "code",
   "execution_count": 36,
   "metadata": {},
   "outputs": [
    {
     "name": "stdout",
     "output_type": "stream",
     "text": [
      "Epoch 1/50\n",
      "\u001b[1m20975/20975\u001b[0m \u001b[32m━━━━━━━━━━━━━━━━━━━━\u001b[0m\u001b[37m\u001b[0m \u001b[1m10s\u001b[0m 460us/step - loss: 202.1483 - mae: 7.1317 - val_loss: 135.2585 - val_mae: 5.7217\n",
      "Epoch 2/50\n",
      "\u001b[1m20975/20975\u001b[0m \u001b[32m━━━━━━━━━━━━━━━━━━━━\u001b[0m\u001b[37m\u001b[0m \u001b[1m9s\u001b[0m 450us/step - loss: 134.1036 - mae: 5.6539 - val_loss: 133.1966 - val_mae: 5.6148\n",
      "Epoch 3/50\n",
      "\u001b[1m20975/20975\u001b[0m \u001b[32m━━━━━━━━━━━━━━━━━━━━\u001b[0m\u001b[37m\u001b[0m \u001b[1m10s\u001b[0m 457us/step - loss: 132.7583 - mae: 5.6160 - val_loss: 134.0683 - val_mae: 5.6910\n",
      "Epoch 4/50\n",
      "\u001b[1m20975/20975\u001b[0m \u001b[32m━━━━━━━━━━━━━━━━━━━━\u001b[0m\u001b[37m\u001b[0m \u001b[1m10s\u001b[0m 452us/step - loss: 133.1159 - mae: 5.6220 - val_loss: 132.7931 - val_mae: 5.6801\n",
      "Epoch 5/50\n",
      "\u001b[1m20975/20975\u001b[0m \u001b[32m━━━━━━━━━━━━━━━━━━━━\u001b[0m\u001b[37m\u001b[0m \u001b[1m10s\u001b[0m 453us/step - loss: 132.4817 - mae: 5.6005 - val_loss: 133.6315 - val_mae: 5.6308\n",
      "Epoch 6/50\n",
      "\u001b[1m20975/20975\u001b[0m \u001b[32m━━━━━━━━━━━━━━━━━━━━\u001b[0m\u001b[37m\u001b[0m \u001b[1m9s\u001b[0m 447us/step - loss: 132.8069 - mae: 5.5960 - val_loss: 133.3076 - val_mae: 5.5445\n",
      "Epoch 7/50\n",
      "\u001b[1m20975/20975\u001b[0m \u001b[32m━━━━━━━━━━━━━━━━━━━━\u001b[0m\u001b[37m\u001b[0m \u001b[1m10s\u001b[0m 454us/step - loss: 132.4419 - mae: 5.5850 - val_loss: 132.4704 - val_mae: 5.6773\n",
      "Epoch 8/50\n",
      "\u001b[1m20975/20975\u001b[0m \u001b[32m━━━━━━━━━━━━━━━━━━━━\u001b[0m\u001b[37m\u001b[0m \u001b[1m10s\u001b[0m 454us/step - loss: 132.3260 - mae: 5.5739 - val_loss: 132.8417 - val_mae: 5.6355\n",
      "Epoch 9/50\n",
      "\u001b[1m20975/20975\u001b[0m \u001b[32m━━━━━━━━━━━━━━━━━━━━\u001b[0m\u001b[37m\u001b[0m \u001b[1m10s\u001b[0m 452us/step - loss: 132.2811 - mae: 5.5716 - val_loss: 132.4005 - val_mae: 5.5208\n",
      "Epoch 10/50\n",
      "\u001b[1m20975/20975\u001b[0m \u001b[32m━━━━━━━━━━━━━━━━━━━━\u001b[0m\u001b[37m\u001b[0m \u001b[1m10s\u001b[0m 455us/step - loss: 131.9222 - mae: 5.5602 - val_loss: 134.1898 - val_mae: 5.5417\n",
      "Epoch 11/50\n",
      "\u001b[1m20975/20975\u001b[0m \u001b[32m━━━━━━━━━━━━━━━━━━━━\u001b[0m\u001b[37m\u001b[0m \u001b[1m10s\u001b[0m 467us/step - loss: 131.7594 - mae: 5.5501 - val_loss: 131.9583 - val_mae: 5.5126\n",
      "Epoch 12/50\n",
      "\u001b[1m20975/20975\u001b[0m \u001b[32m━━━━━━━━━━━━━━━━━━━━\u001b[0m\u001b[37m\u001b[0m \u001b[1m11s\u001b[0m 502us/step - loss: 132.1120 - mae: 5.5626 - val_loss: 132.5311 - val_mae: 5.5729\n",
      "Epoch 13/50\n",
      "\u001b[1m20975/20975\u001b[0m \u001b[32m━━━━━━━━━━━━━━━━━━━━\u001b[0m\u001b[37m\u001b[0m \u001b[1m10s\u001b[0m 467us/step - loss: 131.6808 - mae: 5.5445 - val_loss: 132.1796 - val_mae: 5.5853\n",
      "Epoch 14/50\n",
      "\u001b[1m20975/20975\u001b[0m \u001b[32m━━━━━━━━━━━━━━━━━━━━\u001b[0m\u001b[37m\u001b[0m \u001b[1m10s\u001b[0m 476us/step - loss: 131.7482 - mae: 5.5425 - val_loss: 133.0532 - val_mae: 5.6336\n",
      "Epoch 15/50\n",
      "\u001b[1m20975/20975\u001b[0m \u001b[32m━━━━━━━━━━━━━━━━━━━━\u001b[0m\u001b[37m\u001b[0m \u001b[1m10s\u001b[0m 462us/step - loss: 132.2412 - mae: 5.5426 - val_loss: 131.8870 - val_mae: 5.4953\n",
      "Epoch 16/50\n",
      "\u001b[1m20975/20975\u001b[0m \u001b[32m━━━━━━━━━━━━━━━━━━━━\u001b[0m\u001b[37m\u001b[0m \u001b[1m9s\u001b[0m 441us/step - loss: 131.8669 - mae: 5.5328 - val_loss: 132.0168 - val_mae: 5.5124\n",
      "Epoch 17/50\n",
      "\u001b[1m20975/20975\u001b[0m \u001b[32m━━━━━━━━━━━━━━━━━━━━\u001b[0m\u001b[37m\u001b[0m \u001b[1m9s\u001b[0m 445us/step - loss: 131.4701 - mae: 5.5238 - val_loss: 132.2444 - val_mae: 5.5377\n",
      "Epoch 18/50\n",
      "\u001b[1m20975/20975\u001b[0m \u001b[32m━━━━━━━━━━━━━━━━━━━━\u001b[0m\u001b[37m\u001b[0m \u001b[1m9s\u001b[0m 445us/step - loss: 131.9397 - mae: 5.5281 - val_loss: 131.9542 - val_mae: 5.4881\n",
      "Epoch 19/50\n",
      "\u001b[1m20975/20975\u001b[0m \u001b[32m━━━━━━━━━━━━━━━━━━━━\u001b[0m\u001b[37m\u001b[0m \u001b[1m10s\u001b[0m 453us/step - loss: 131.6347 - mae: 5.5245 - val_loss: 132.5289 - val_mae: 5.5267\n",
      "Epoch 20/50\n",
      "\u001b[1m20975/20975\u001b[0m \u001b[32m━━━━━━━━━━━━━━━━━━━━\u001b[0m\u001b[37m\u001b[0m \u001b[1m10s\u001b[0m 475us/step - loss: 131.6803 - mae: 5.5225 - val_loss: 132.2099 - val_mae: 5.5071\n",
      "Epoch 21/50\n",
      "\u001b[1m20975/20975\u001b[0m \u001b[32m━━━━━━━━━━━━━━━━━━━━\u001b[0m\u001b[37m\u001b[0m \u001b[1m10s\u001b[0m 459us/step - loss: 131.6812 - mae: 5.5135 - val_loss: 132.0756 - val_mae: 5.5568\n",
      "Epoch 22/50\n",
      "\u001b[1m20975/20975\u001b[0m \u001b[32m━━━━━━━━━━━━━━━━━━━━\u001b[0m\u001b[37m\u001b[0m \u001b[1m10s\u001b[0m 455us/step - loss: 131.9789 - mae: 5.5179 - val_loss: 131.9315 - val_mae: 5.4872\n",
      "Epoch 23/50\n",
      "\u001b[1m20975/20975\u001b[0m \u001b[32m━━━━━━━━━━━━━━━━━━━━\u001b[0m\u001b[37m\u001b[0m \u001b[1m10s\u001b[0m 454us/step - loss: 131.3278 - mae: 5.5074 - val_loss: 132.5169 - val_mae: 5.6393\n",
      "Epoch 24/50\n",
      "\u001b[1m20975/20975\u001b[0m \u001b[32m━━━━━━━━━━━━━━━━━━━━\u001b[0m\u001b[37m\u001b[0m \u001b[1m9s\u001b[0m 450us/step - loss: 131.6717 - mae: 5.5131 - val_loss: 132.0263 - val_mae: 5.5480\n",
      "Epoch 25/50\n",
      "\u001b[1m20975/20975\u001b[0m \u001b[32m━━━━━━━━━━━━━━━━━━━━\u001b[0m\u001b[37m\u001b[0m \u001b[1m10s\u001b[0m 455us/step - loss: 131.5439 - mae: 5.5083 - val_loss: 131.9043 - val_mae: 5.5018\n",
      "Epoch 26/50\n",
      "\u001b[1m20975/20975\u001b[0m \u001b[32m━━━━━━━━━━━━━━━━━━━━\u001b[0m\u001b[37m\u001b[0m \u001b[1m10s\u001b[0m 456us/step - loss: 131.4246 - mae: 5.5053 - val_loss: 132.2365 - val_mae: 5.5196\n",
      "Epoch 27/50\n",
      "\u001b[1m20975/20975\u001b[0m \u001b[32m━━━━━━━━━━━━━━━━━━━━\u001b[0m\u001b[37m\u001b[0m \u001b[1m10s\u001b[0m 456us/step - loss: 131.6072 - mae: 5.5030 - val_loss: 132.8830 - val_mae: 5.5769\n",
      "Epoch 28/50\n",
      "\u001b[1m20975/20975\u001b[0m \u001b[32m━━━━━━━━━━━━━━━━━━━━\u001b[0m\u001b[37m\u001b[0m \u001b[1m10s\u001b[0m 458us/step - loss: 131.2005 - mae: 5.4910 - val_loss: 131.8186 - val_mae: 5.4921\n",
      "Epoch 29/50\n",
      "\u001b[1m20975/20975\u001b[0m \u001b[32m━━━━━━━━━━━━━━━━━━━━\u001b[0m\u001b[37m\u001b[0m \u001b[1m10s\u001b[0m 455us/step - loss: 131.4812 - mae: 5.5020 - val_loss: 132.0031 - val_mae: 5.5046\n",
      "Epoch 30/50\n",
      "\u001b[1m20975/20975\u001b[0m \u001b[32m━━━━━━━━━━━━━━━━━━━━\u001b[0m\u001b[37m\u001b[0m \u001b[1m10s\u001b[0m 454us/step - loss: 131.0869 - mae: 5.4896 - val_loss: 132.1099 - val_mae: 5.5284\n",
      "Epoch 31/50\n",
      "\u001b[1m20975/20975\u001b[0m \u001b[32m━━━━━━━━━━━━━━━━━━━━\u001b[0m\u001b[37m\u001b[0m \u001b[1m9s\u001b[0m 450us/step - loss: 131.5157 - mae: 5.4994 - val_loss: 131.8507 - val_mae: 5.4334\n",
      "Epoch 32/50\n",
      "\u001b[1m20975/20975\u001b[0m \u001b[32m━━━━━━━━━━━━━━━━━━━━\u001b[0m\u001b[37m\u001b[0m \u001b[1m10s\u001b[0m 453us/step - loss: 130.9825 - mae: 5.4880 - val_loss: 131.5786 - val_mae: 5.4490\n",
      "Epoch 33/50\n",
      "\u001b[1m20975/20975\u001b[0m \u001b[32m━━━━━━━━━━━━━━━━━━━━\u001b[0m\u001b[37m\u001b[0m \u001b[1m10s\u001b[0m 456us/step - loss: 131.8589 - mae: 5.4979 - val_loss: 131.8460 - val_mae: 5.5101\n",
      "Epoch 34/50\n",
      "\u001b[1m20975/20975\u001b[0m \u001b[32m━━━━━━━━━━━━━━━━━━━━\u001b[0m\u001b[37m\u001b[0m \u001b[1m10s\u001b[0m 455us/step - loss: 131.2451 - mae: 5.4865 - val_loss: 131.9670 - val_mae: 5.5046\n",
      "Epoch 35/50\n",
      "\u001b[1m20975/20975\u001b[0m \u001b[32m━━━━━━━━━━━━━━━━━━━━\u001b[0m\u001b[37m\u001b[0m \u001b[1m10s\u001b[0m 466us/step - loss: 131.2407 - mae: 5.4861 - val_loss: 131.6189 - val_mae: 5.4860\n",
      "Epoch 36/50\n",
      "\u001b[1m20975/20975\u001b[0m \u001b[32m━━━━━━━━━━━━━━━━━━━━\u001b[0m\u001b[37m\u001b[0m \u001b[1m10s\u001b[0m 455us/step - loss: 131.1508 - mae: 5.4809 - val_loss: 132.2447 - val_mae: 5.5286\n",
      "Epoch 37/50\n",
      "\u001b[1m20975/20975\u001b[0m \u001b[32m━━━━━━━━━━━━━━━━━━━━\u001b[0m\u001b[37m\u001b[0m \u001b[1m10s\u001b[0m 462us/step - loss: 131.2814 - mae: 5.4847 - val_loss: 131.8203 - val_mae: 5.4842\n",
      "Epoch 38/50\n",
      "\u001b[1m20975/20975\u001b[0m \u001b[32m━━━━━━━━━━━━━━━━━━━━\u001b[0m\u001b[37m\u001b[0m \u001b[1m10s\u001b[0m 458us/step - loss: 131.6835 - mae: 5.4913 - val_loss: 132.2265 - val_mae: 5.5308\n",
      "Epoch 39/50\n",
      "\u001b[1m20975/20975\u001b[0m \u001b[32m━━━━━━━━━━━━━━━━━━━━\u001b[0m\u001b[37m\u001b[0m \u001b[1m10s\u001b[0m 463us/step - loss: 131.1865 - mae: 5.4798 - val_loss: 131.6757 - val_mae: 5.4722\n",
      "Epoch 40/50\n",
      "\u001b[1m20975/20975\u001b[0m \u001b[32m━━━━━━━━━━━━━━━━━━━━\u001b[0m\u001b[37m\u001b[0m \u001b[1m10s\u001b[0m 453us/step - loss: 131.4499 - mae: 5.4848 - val_loss: 132.1724 - val_mae: 5.5071\n",
      "Epoch 41/50\n",
      "\u001b[1m20975/20975\u001b[0m \u001b[32m━━━━━━━━━━━━━━━━━━━━\u001b[0m\u001b[37m\u001b[0m \u001b[1m10s\u001b[0m 454us/step - loss: 131.7491 - mae: 5.4976 - val_loss: 131.6420 - val_mae: 5.4532\n",
      "Epoch 42/50\n",
      "\u001b[1m20975/20975\u001b[0m \u001b[32m━━━━━━━━━━━━━━━━━━━━\u001b[0m\u001b[37m\u001b[0m \u001b[1m9s\u001b[0m 449us/step - loss: 131.2937 - mae: 5.4833 - val_loss: 132.0070 - val_mae: 5.4711\n",
      "Epoch 43/50\n",
      "\u001b[1m20975/20975\u001b[0m \u001b[32m━━━━━━━━━━━━━━━━━━━━\u001b[0m\u001b[37m\u001b[0m \u001b[1m10s\u001b[0m 453us/step - loss: 131.4307 - mae: 5.4823 - val_loss: 132.2609 - val_mae: 5.4931\n",
      "Epoch 44/50\n",
      "\u001b[1m20975/20975\u001b[0m \u001b[32m━━━━━━━━━━━━━━━━━━━━\u001b[0m\u001b[37m\u001b[0m \u001b[1m10s\u001b[0m 467us/step - loss: 131.6136 - mae: 5.4887 - val_loss: 131.9512 - val_mae: 5.4835\n",
      "Epoch 45/50\n",
      "\u001b[1m20975/20975\u001b[0m \u001b[32m━━━━━━━━━━━━━━━━━━━━\u001b[0m\u001b[37m\u001b[0m \u001b[1m10s\u001b[0m 454us/step - loss: 130.6982 - mae: 5.4679 - val_loss: 131.6180 - val_mae: 5.4698\n",
      "Epoch 46/50\n",
      "\u001b[1m20975/20975\u001b[0m \u001b[32m━━━━━━━━━━━━━━━━━━━━\u001b[0m\u001b[37m\u001b[0m \u001b[1m10s\u001b[0m 455us/step - loss: 131.3737 - mae: 5.4860 - val_loss: 131.5822 - val_mae: 5.4788\n",
      "Epoch 47/50\n",
      "\u001b[1m20975/20975\u001b[0m \u001b[32m━━━━━━━━━━━━━━━━━━━━\u001b[0m\u001b[37m\u001b[0m \u001b[1m10s\u001b[0m 458us/step - loss: 131.3173 - mae: 5.4801 - val_loss: 131.8848 - val_mae: 5.5277\n",
      "Epoch 48/50\n",
      "\u001b[1m20975/20975\u001b[0m \u001b[32m━━━━━━━━━━━━━━━━━━━━\u001b[0m\u001b[37m\u001b[0m \u001b[1m10s\u001b[0m 455us/step - loss: 131.2116 - mae: 5.4772 - val_loss: 132.0259 - val_mae: 5.4807\n",
      "Epoch 49/50\n",
      "\u001b[1m20975/20975\u001b[0m \u001b[32m━━━━━━━━━━━━━━━━━━━━\u001b[0m\u001b[37m\u001b[0m \u001b[1m10s\u001b[0m 470us/step - loss: 131.5080 - mae: 5.4756 - val_loss: 131.9362 - val_mae: 5.5049\n",
      "Epoch 50/50\n",
      "\u001b[1m20975/20975\u001b[0m \u001b[32m━━━━━━━━━━━━━━━━━━━━\u001b[0m\u001b[37m\u001b[0m \u001b[1m10s\u001b[0m 453us/step - loss: 130.8425 - mae: 5.4637 - val_loss: 131.7789 - val_mae: 5.5292\n"
     ]
    }
   ],
   "source": [
    "# Treinar o modelo\n",
    "history = model.fit(X_train, y_train, epochs=50, validation_split=0.2)"
   ]
  },
  {
   "cell_type": "code",
   "execution_count": 37,
   "metadata": {},
   "outputs": [
    {
     "name": "stdout",
     "output_type": "stream",
     "text": [
      "\u001b[1m6555/6555\u001b[0m \u001b[32m━━━━━━━━━━━━━━━━━━━━\u001b[0m\u001b[37m\u001b[0m \u001b[1m2s\u001b[0m 272us/step - loss: 132.0351 - mae: 5.5404\n",
      "Mean Absolute Error on Test Data: 5.532376766204834\n"
     ]
    }
   ],
   "source": [
    "# Avaliar o modelo no conjunto de teste\n",
    "test_loss, test_mae = model.evaluate(X_test, y_test)\n",
    "print(f'Mean Absolute Error on Test Data: {test_mae}')"
   ]
  },
  {
   "cell_type": "code",
   "execution_count": 38,
   "metadata": {},
   "outputs": [
    {
     "name": "stdout",
     "output_type": "stream",
     "text": [
      "\u001b[1m6555/6555\u001b[0m \u001b[32m━━━━━━━━━━━━━━━━━━━━\u001b[0m\u001b[37m\u001b[0m \u001b[1m2s\u001b[0m 252us/step\n"
     ]
    }
   ],
   "source": [
    "# Fazer previsões com novos dados\n",
    "y_pred = model.predict(X_test)\n",
    "final = y_pred[:100] # Exibir as primeiras 5 previsões"
   ]
  },
  {
   "cell_type": "code",
   "execution_count": 39,
   "metadata": {},
   "outputs": [],
   "source": [
    "# Criar um DataFrame do pandas com os dados\n",
    "final = pd.DataFrame(final, columns=['latitude_futuro', 'longitude_futuro', 'confidence_futuro'])\n",
    "\n",
    "# Salvar o DataFrame em um arquivo CSV\n",
    "final.to_csv('valores_futuros.csv', index=False)"
   ]
  }
 ],
 "metadata": {
  "kernelspec": {
   "display_name": "Python 3",
   "language": "python",
   "name": "python3"
  },
  "language_info": {
   "codemirror_mode": {
    "name": "ipython",
    "version": 3
   },
   "file_extension": ".py",
   "mimetype": "text/x-python",
   "name": "python",
   "nbconvert_exporter": "python",
   "pygments_lexer": "ipython3",
   "version": "3.9.6"
  }
 },
 "nbformat": 4,
 "nbformat_minor": 2
}
