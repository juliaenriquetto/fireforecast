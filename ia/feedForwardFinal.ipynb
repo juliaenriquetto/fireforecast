{
 "cells": [
  {
   "cell_type": "code",
   "execution_count": 1,
   "metadata": {},
   "outputs": [
    {
     "name": "stderr",
     "output_type": "stream",
     "text": [
      "/Users/u22124/Library/Python/3.9/lib/python/site-packages/urllib3/__init__.py:35: NotOpenSSLWarning: urllib3 v2 only supports OpenSSL 1.1.1+, currently the 'ssl' module is compiled with 'LibreSSL 2.8.3'. See: https://github.com/urllib3/urllib3/issues/3020\n",
      "  warnings.warn(\n"
     ]
    }
   ],
   "source": [
    "# Import TensorFlow and Keras libraries for building neural networks\n",
    "import tensorflow as tf\n",
    "from tensorflow import keras\n",
    "from tensorflow.keras import layers\n",
    "\n",
    "import pandas as pd\n",
    "import numpy as np\n",
    "\n",
    "# Import train_test_split from sklearn to split datasets into training and testing sets\n",
    "from sklearn.model_selection import train_test_split\n",
    "\n",
    "# Import StandardScaler from sklearn to standardize features by removing the mean and scaling to unit variance\n",
    "from sklearn.preprocessing import StandardScaler"
   ]
  },
  {
   "cell_type": "code",
   "execution_count": 2,
   "metadata": {},
   "outputs": [
    {
     "data": {
      "text/html": [
       "<div>\n",
       "<style scoped>\n",
       "    .dataframe tbody tr th:only-of-type {\n",
       "        vertical-align: middle;\n",
       "    }\n",
       "\n",
       "    .dataframe tbody tr th {\n",
       "        vertical-align: top;\n",
       "    }\n",
       "\n",
       "    .dataframe thead th {\n",
       "        text-align: right;\n",
       "    }\n",
       "</style>\n",
       "<table border=\"1\" class=\"dataframe\">\n",
       "  <thead>\n",
       "    <tr style=\"text-align: right;\">\n",
       "      <th></th>\n",
       "      <th>latitude</th>\n",
       "      <th>longitude</th>\n",
       "      <th>confidence</th>\n",
       "    </tr>\n",
       "  </thead>\n",
       "  <tbody>\n",
       "    <tr>\n",
       "      <th>0</th>\n",
       "      <td>-33.7092</td>\n",
       "      <td>-53.3442</td>\n",
       "      <td>0.0</td>\n",
       "    </tr>\n",
       "    <tr>\n",
       "      <th>1</th>\n",
       "      <td>-33.6991</td>\n",
       "      <td>-53.3287</td>\n",
       "      <td>0.0</td>\n",
       "    </tr>\n",
       "    <tr>\n",
       "      <th>2</th>\n",
       "      <td>-33.3994</td>\n",
       "      <td>-52.9535</td>\n",
       "      <td>0.0</td>\n",
       "    </tr>\n",
       "    <tr>\n",
       "      <th>3</th>\n",
       "      <td>-33.3934</td>\n",
       "      <td>-52.9476</td>\n",
       "      <td>0.0</td>\n",
       "    </tr>\n",
       "    <tr>\n",
       "      <th>4</th>\n",
       "      <td>-33.3688</td>\n",
       "      <td>-52.9170</td>\n",
       "      <td>0.0</td>\n",
       "    </tr>\n",
       "  </tbody>\n",
       "</table>\n",
       "</div>"
      ],
      "text/plain": [
       "   latitude  longitude  confidence\n",
       "0  -33.7092   -53.3442         0.0\n",
       "1  -33.6991   -53.3287         0.0\n",
       "2  -33.3994   -52.9535         0.0\n",
       "3  -33.3934   -52.9476         0.0\n",
       "4  -33.3688   -52.9170         0.0"
      ]
     },
     "execution_count": 2,
     "metadata": {},
     "output_type": "execute_result"
    }
   ],
   "source": [
    "# Read the CSV files\n",
    "arq_combined = pd.read_csv('../model/data/modisTodos.csv')\n",
    "# Display the first few rows of the DataFrame to inspect the data\n",
    "arq_combined.head() "
   ]
  },
  {
   "cell_type": "code",
   "execution_count": 3,
   "metadata": {},
   "outputs": [],
   "source": [
    "# Create future columns (latitude_futuro, longitude_futuro, confidence_futuro)\n",
    "# Shift the 'latitude' column up by one row to create the 'latitude_futuro' column\n",
    "arq_combined['latitude_futuro'] = arq_combined['latitude'].shift(-1)\n",
    "# Shift the 'longitude' column up by one row to create the 'longitude_futuro' column\n",
    "arq_combined['longitude_futuro'] = arq_combined['longitude'].shift(-1)\n",
    "# Shift the 'confidence' column up by one row to create the 'confidence_futuro' column\n",
    "arq_combined['confidence_futuro'] = arq_combined['confidence'].shift(-1)"
   ]
  },
  {
   "cell_type": "code",
   "execution_count": 4,
   "metadata": {},
   "outputs": [],
   "source": [
    "# Remove rows with NaN values from the DataFrame\n",
    "arq_combined.dropna(inplace=True)"
   ]
  },
  {
   "cell_type": "code",
   "execution_count": 5,
   "metadata": {},
   "outputs": [],
   "source": [
    "# Separate the input columns (features) and output columns (targets)\n",
    "X = arq_combined[['latitude', 'longitude', 'confidence']].values\n",
    "y = arq_combined[['latitude_futuro', 'longitude_futuro', 'confidence_futuro']].values"
   ]
  },
  {
   "cell_type": "code",
   "execution_count": 6,
   "metadata": {},
   "outputs": [],
   "source": [
    "# Split the dataset into training and testing sets\n",
    "# 80% of the data will be used for training and 20% for testing\n",
    "X_train, X_test, y_train, y_test = train_test_split(X, y, test_size=0.2, random_state=42)"
   ]
  },
  {
   "cell_type": "code",
   "execution_count": 7,
   "metadata": {},
   "outputs": [],
   "source": [
    "# Normalize the data using StandardScaler\n",
    "scaler = StandardScaler()\n",
    "# Fit the scaler on the training data and transform it\n",
    "X_train = scaler.fit_transform(X_train)\n",
    "# Transform the test data using the same scaler (without fitting again)\n",
    "X_test = scaler.transform(X_test)"
   ]
  },
  {
   "cell_type": "code",
   "execution_count": 8,
   "metadata": {},
   "outputs": [
    {
     "name": "stderr",
     "output_type": "stream",
     "text": [
      "/Users/u22124/Library/Python/3.9/lib/python/site-packages/keras/src/layers/core/dense.py:87: UserWarning: Do not pass an `input_shape`/`input_dim` argument to a layer. When using Sequential models, prefer using an `Input(shape)` object as the first layer in the model instead.\n",
      "  super().__init__(activity_regularizer=activity_regularizer, **kwargs)\n"
     ]
    }
   ],
   "source": [
    "# Define the architecture of the neural network\n",
    "model = tf.keras.Sequential([\n",
    "    # First hidden layer with 64 neurons and ReLU activation function\n",
    "    layers.Dense(64, activation='relu', input_shape=(X_train.shape[1],)),\n",
    "    # Second hidden layer with 128 neurons and ReLU activation function\n",
    "    layers.Dense(128, activation='relu'),\n",
    "    # Output layer with 3 neurons (for predicting future latitude, longitude, and confidence)\n",
    "    layers.Dense(3)\n",
    "])"
   ]
  },
  {
   "cell_type": "code",
   "execution_count": 9,
   "metadata": {},
   "outputs": [],
   "source": [
    "# Compile the model\n",
    "# Use the Adam optimizer, mean squared error (mse) as the loss function, and mean absolute error (mae) as a metric\n",
    "model.compile(optimizer='adam', loss='mse', metrics=['mae'])"
   ]
  },
  {
   "cell_type": "code",
   "execution_count": 10,
   "metadata": {},
   "outputs": [
    {
     "name": "stdout",
     "output_type": "stream",
     "text": [
      "Epoch 1/50\n",
      "\u001b[1m20975/20975\u001b[0m \u001b[32m━━━━━━━━━━━━━━━━━━━━\u001b[0m\u001b[37m\u001b[0m \u001b[1m10s\u001b[0m 460us/step - loss: 202.9103 - mae: 7.1489 - val_loss: 133.9125 - val_mae: 5.6437\n",
      "Epoch 2/50\n",
      "\u001b[1m20975/20975\u001b[0m \u001b[32m━━━━━━━━━━━━━━━━━━━━\u001b[0m\u001b[37m\u001b[0m \u001b[1m9s\u001b[0m 450us/step - loss: 133.6073 - mae: 5.6449 - val_loss: 133.7614 - val_mae: 5.5813\n",
      "Epoch 3/50\n",
      "\u001b[1m20975/20975\u001b[0m \u001b[32m━━━━━━━━━━━━━━━━━━━━\u001b[0m\u001b[37m\u001b[0m \u001b[1m10s\u001b[0m 468us/step - loss: 133.6569 - mae: 5.6320 - val_loss: 133.5922 - val_mae: 5.6437\n",
      "Epoch 4/50\n",
      "\u001b[1m20975/20975\u001b[0m \u001b[32m━━━━━━━━━━━━━━━━━━━━\u001b[0m\u001b[37m\u001b[0m \u001b[1m10s\u001b[0m 454us/step - loss: 132.8612 - mae: 5.6025 - val_loss: 134.1533 - val_mae: 5.6379\n",
      "Epoch 5/50\n",
      "\u001b[1m20975/20975\u001b[0m \u001b[32m━━━━━━━━━━━━━━━━━━━━\u001b[0m\u001b[37m\u001b[0m \u001b[1m9s\u001b[0m 450us/step - loss: 132.4735 - mae: 5.5899 - val_loss: 132.6962 - val_mae: 5.5471\n",
      "Epoch 6/50\n",
      "\u001b[1m20975/20975\u001b[0m \u001b[32m━━━━━━━━━━━━━━━━━━━━\u001b[0m\u001b[37m\u001b[0m \u001b[1m9s\u001b[0m 449us/step - loss: 132.4752 - mae: 5.5810 - val_loss: 133.8200 - val_mae: 5.5467\n",
      "Epoch 7/50\n",
      "\u001b[1m20975/20975\u001b[0m \u001b[32m━━━━━━━━━━━━━━━━━━━━\u001b[0m\u001b[37m\u001b[0m \u001b[1m9s\u001b[0m 449us/step - loss: 132.5916 - mae: 5.5771 - val_loss: 133.2688 - val_mae: 5.6617\n",
      "Epoch 8/50\n",
      "\u001b[1m20975/20975\u001b[0m \u001b[32m━━━━━━━━━━━━━━━━━━━━\u001b[0m\u001b[37m\u001b[0m \u001b[1m9s\u001b[0m 449us/step - loss: 132.3606 - mae: 5.5669 - val_loss: 132.4643 - val_mae: 5.5594\n",
      "Epoch 9/50\n",
      "\u001b[1m20975/20975\u001b[0m \u001b[32m━━━━━━━━━━━━━━━━━━━━\u001b[0m\u001b[37m\u001b[0m \u001b[1m9s\u001b[0m 449us/step - loss: 131.8286 - mae: 5.5474 - val_loss: 132.1720 - val_mae: 5.5315\n",
      "Epoch 10/50\n",
      "\u001b[1m20975/20975\u001b[0m \u001b[32m━━━━━━━━━━━━━━━━━━━━\u001b[0m\u001b[37m\u001b[0m \u001b[1m9s\u001b[0m 449us/step - loss: 132.4319 - mae: 5.5585 - val_loss: 132.3432 - val_mae: 5.5970\n",
      "Epoch 11/50\n",
      "\u001b[1m20975/20975\u001b[0m \u001b[32m━━━━━━━━━━━━━━━━━━━━\u001b[0m\u001b[37m\u001b[0m \u001b[1m10s\u001b[0m 452us/step - loss: 132.0439 - mae: 5.5450 - val_loss: 132.9608 - val_mae: 5.5306\n",
      "Epoch 12/50\n",
      "\u001b[1m20975/20975\u001b[0m \u001b[32m━━━━━━━━━━━━━━━━━━━━\u001b[0m\u001b[37m\u001b[0m \u001b[1m9s\u001b[0m 451us/step - loss: 132.0458 - mae: 5.5478 - val_loss: 132.6003 - val_mae: 5.5988\n",
      "Epoch 13/50\n",
      "\u001b[1m20975/20975\u001b[0m \u001b[32m━━━━━━━━━━━━━━━━━━━━\u001b[0m\u001b[37m\u001b[0m \u001b[1m9s\u001b[0m 450us/step - loss: 131.4194 - mae: 5.5256 - val_loss: 132.6427 - val_mae: 5.5624\n",
      "Epoch 14/50\n",
      "\u001b[1m20975/20975\u001b[0m \u001b[32m━━━━━━━━━━━━━━━━━━━━\u001b[0m\u001b[37m\u001b[0m \u001b[1m9s\u001b[0m 452us/step - loss: 132.2676 - mae: 5.5413 - val_loss: 132.2772 - val_mae: 5.5476\n",
      "Epoch 15/50\n",
      "\u001b[1m20975/20975\u001b[0m \u001b[32m━━━━━━━━━━━━━━━━━━━━\u001b[0m\u001b[37m\u001b[0m \u001b[1m9s\u001b[0m 452us/step - loss: 131.9538 - mae: 5.5299 - val_loss: 132.0186 - val_mae: 5.5191\n",
      "Epoch 16/50\n",
      "\u001b[1m20975/20975\u001b[0m \u001b[32m━━━━━━━━━━━━━━━━━━━━\u001b[0m\u001b[37m\u001b[0m \u001b[1m9s\u001b[0m 448us/step - loss: 131.8047 - mae: 5.5266 - val_loss: 132.4817 - val_mae: 5.4590\n",
      "Epoch 17/50\n",
      "\u001b[1m20975/20975\u001b[0m \u001b[32m━━━━━━━━━━━━━━━━━━━━\u001b[0m\u001b[37m\u001b[0m \u001b[1m9s\u001b[0m 450us/step - loss: 131.2532 - mae: 5.5127 - val_loss: 132.0813 - val_mae: 5.4956\n",
      "Epoch 18/50\n",
      "\u001b[1m20975/20975\u001b[0m \u001b[32m━━━━━━━━━━━━━━━━━━━━\u001b[0m\u001b[37m\u001b[0m \u001b[1m9s\u001b[0m 452us/step - loss: 131.5298 - mae: 5.5170 - val_loss: 132.2559 - val_mae: 5.5199\n",
      "Epoch 19/50\n",
      "\u001b[1m20975/20975\u001b[0m \u001b[32m━━━━━━━━━━━━━━━━━━━━\u001b[0m\u001b[37m\u001b[0m \u001b[1m9s\u001b[0m 450us/step - loss: 131.4763 - mae: 5.5063 - val_loss: 132.7039 - val_mae: 5.5824\n",
      "Epoch 20/50\n",
      "\u001b[1m20975/20975\u001b[0m \u001b[32m━━━━━━━━━━━━━━━━━━━━\u001b[0m\u001b[37m\u001b[0m \u001b[1m10s\u001b[0m 454us/step - loss: 131.3981 - mae: 5.5078 - val_loss: 132.0388 - val_mae: 5.5199\n",
      "Epoch 21/50\n",
      "\u001b[1m20975/20975\u001b[0m \u001b[32m━━━━━━━━━━━━━━━━━━━━\u001b[0m\u001b[37m\u001b[0m \u001b[1m9s\u001b[0m 450us/step - loss: 131.7002 - mae: 5.5115 - val_loss: 133.1374 - val_mae: 5.4782\n",
      "Epoch 22/50\n",
      "\u001b[1m20975/20975\u001b[0m \u001b[32m━━━━━━━━━━━━━━━━━━━━\u001b[0m\u001b[37m\u001b[0m \u001b[1m10s\u001b[0m 452us/step - loss: 132.1205 - mae: 5.5280 - val_loss: 132.4346 - val_mae: 5.5691\n",
      "Epoch 23/50\n",
      "\u001b[1m20975/20975\u001b[0m \u001b[32m━━━━━━━━━━━━━━━━━━━━\u001b[0m\u001b[37m\u001b[0m \u001b[1m9s\u001b[0m 449us/step - loss: 131.7621 - mae: 5.5166 - val_loss: 132.9756 - val_mae: 5.5914\n",
      "Epoch 24/50\n",
      "\u001b[1m20975/20975\u001b[0m \u001b[32m━━━━━━━━━━━━━━━━━━━━\u001b[0m\u001b[37m\u001b[0m \u001b[1m9s\u001b[0m 449us/step - loss: 131.7801 - mae: 5.5116 - val_loss: 132.4056 - val_mae: 5.5427\n",
      "Epoch 25/50\n",
      "\u001b[1m20975/20975\u001b[0m \u001b[32m━━━━━━━━━━━━━━━━━━━━\u001b[0m\u001b[37m\u001b[0m \u001b[1m9s\u001b[0m 450us/step - loss: 131.8209 - mae: 5.5114 - val_loss: 132.3250 - val_mae: 5.5822\n",
      "Epoch 26/50\n",
      "\u001b[1m20975/20975\u001b[0m \u001b[32m━━━━━━━━━━━━━━━━━━━━\u001b[0m\u001b[37m\u001b[0m \u001b[1m9s\u001b[0m 451us/step - loss: 131.5897 - mae: 5.5057 - val_loss: 131.9453 - val_mae: 5.5186\n",
      "Epoch 27/50\n",
      "\u001b[1m20975/20975\u001b[0m \u001b[32m━━━━━━━━━━━━━━━━━━━━\u001b[0m\u001b[37m\u001b[0m \u001b[1m9s\u001b[0m 451us/step - loss: 131.7200 - mae: 5.5090 - val_loss: 131.8906 - val_mae: 5.5026\n",
      "Epoch 28/50\n",
      "\u001b[1m20975/20975\u001b[0m \u001b[32m━━━━━━━━━━━━━━━━━━━━\u001b[0m\u001b[37m\u001b[0m \u001b[1m10s\u001b[0m 452us/step - loss: 131.6634 - mae: 5.5080 - val_loss: 132.7840 - val_mae: 5.5813\n",
      "Epoch 29/50\n",
      "\u001b[1m20975/20975\u001b[0m \u001b[32m━━━━━━━━━━━━━━━━━━━━\u001b[0m\u001b[37m\u001b[0m \u001b[1m9s\u001b[0m 449us/step - loss: 131.6771 - mae: 5.5017 - val_loss: 131.9640 - val_mae: 5.4774\n",
      "Epoch 30/50\n",
      "\u001b[1m20975/20975\u001b[0m \u001b[32m━━━━━━━━━━━━━━━━━━━━\u001b[0m\u001b[37m\u001b[0m \u001b[1m9s\u001b[0m 451us/step - loss: 131.5145 - mae: 5.5034 - val_loss: 132.8100 - val_mae: 5.4453\n",
      "Epoch 31/50\n",
      "\u001b[1m20975/20975\u001b[0m \u001b[32m━━━━━━━━━━━━━━━━━━━━\u001b[0m\u001b[37m\u001b[0m \u001b[1m9s\u001b[0m 449us/step - loss: 131.4776 - mae: 5.4973 - val_loss: 131.7324 - val_mae: 5.4904\n",
      "Epoch 32/50\n",
      "\u001b[1m20975/20975\u001b[0m \u001b[32m━━━━━━━━━━━━━━━━━━━━\u001b[0m\u001b[37m\u001b[0m \u001b[1m9s\u001b[0m 451us/step - loss: 131.8383 - mae: 5.5051 - val_loss: 131.7586 - val_mae: 5.4972\n",
      "Epoch 33/50\n",
      "\u001b[1m20975/20975\u001b[0m \u001b[32m━━━━━━━━━━━━━━━━━━━━\u001b[0m\u001b[37m\u001b[0m \u001b[1m9s\u001b[0m 449us/step - loss: 131.5057 - mae: 5.4976 - val_loss: 132.1595 - val_mae: 5.5198\n",
      "Epoch 34/50\n",
      "\u001b[1m20975/20975\u001b[0m \u001b[32m━━━━━━━━━━━━━━━━━━━━\u001b[0m\u001b[37m\u001b[0m \u001b[1m10s\u001b[0m 453us/step - loss: 131.6791 - mae: 5.4947 - val_loss: 132.1564 - val_mae: 5.5067\n",
      "Epoch 35/50\n",
      "\u001b[1m20975/20975\u001b[0m \u001b[32m━━━━━━━━━━━━━━━━━━━━\u001b[0m\u001b[37m\u001b[0m \u001b[1m10s\u001b[0m 452us/step - loss: 131.3089 - mae: 5.4900 - val_loss: 131.8187 - val_mae: 5.4592\n",
      "Epoch 36/50\n",
      "\u001b[1m20975/20975\u001b[0m \u001b[32m━━━━━━━━━━━━━━━━━━━━\u001b[0m\u001b[37m\u001b[0m \u001b[1m9s\u001b[0m 449us/step - loss: 131.2002 - mae: 5.4854 - val_loss: 132.1774 - val_mae: 5.5196\n",
      "Epoch 37/50\n",
      "\u001b[1m20975/20975\u001b[0m \u001b[32m━━━━━━━━━━━━━━━━━━━━\u001b[0m\u001b[37m\u001b[0m \u001b[1m9s\u001b[0m 451us/step - loss: 131.2229 - mae: 5.4870 - val_loss: 131.9247 - val_mae: 5.4720\n",
      "Epoch 38/50\n",
      "\u001b[1m20975/20975\u001b[0m \u001b[32m━━━━━━━━━━━━━━━━━━━━\u001b[0m\u001b[37m\u001b[0m \u001b[1m9s\u001b[0m 449us/step - loss: 131.4923 - mae: 5.4882 - val_loss: 131.9976 - val_mae: 5.4854\n",
      "Epoch 39/50\n",
      "\u001b[1m20975/20975\u001b[0m \u001b[32m━━━━━━━━━━━━━━━━━━━━\u001b[0m\u001b[37m\u001b[0m \u001b[1m9s\u001b[0m 451us/step - loss: 131.2633 - mae: 5.4775 - val_loss: 132.0202 - val_mae: 5.4730\n",
      "Epoch 40/50\n",
      "\u001b[1m20975/20975\u001b[0m \u001b[32m━━━━━━━━━━━━━━━━━━━━\u001b[0m\u001b[37m\u001b[0m \u001b[1m9s\u001b[0m 451us/step - loss: 131.2022 - mae: 5.4782 - val_loss: 131.8574 - val_mae: 5.4409\n",
      "Epoch 41/50\n",
      "\u001b[1m20975/20975\u001b[0m \u001b[32m━━━━━━━━━━━━━━━━━━━━\u001b[0m\u001b[37m\u001b[0m \u001b[1m9s\u001b[0m 450us/step - loss: 131.3797 - mae: 5.4809 - val_loss: 132.3480 - val_mae: 5.5723\n",
      "Epoch 42/50\n",
      "\u001b[1m20975/20975\u001b[0m \u001b[32m━━━━━━━━━━━━━━━━━━━━\u001b[0m\u001b[37m\u001b[0m \u001b[1m9s\u001b[0m 451us/step - loss: 131.4960 - mae: 5.4854 - val_loss: 131.8876 - val_mae: 5.5081\n",
      "Epoch 43/50\n",
      "\u001b[1m20975/20975\u001b[0m \u001b[32m━━━━━━━━━━━━━━━━━━━━\u001b[0m\u001b[37m\u001b[0m \u001b[1m10s\u001b[0m 455us/step - loss: 131.3196 - mae: 5.4880 - val_loss: 132.3542 - val_mae: 5.5355\n",
      "Epoch 44/50\n",
      "\u001b[1m20975/20975\u001b[0m \u001b[32m━━━━━━━━━━━━━━━━━━━━\u001b[0m\u001b[37m\u001b[0m \u001b[1m10s\u001b[0m 453us/step - loss: 131.5058 - mae: 5.4887 - val_loss: 131.8808 - val_mae: 5.5211\n",
      "Epoch 45/50\n",
      "\u001b[1m20975/20975\u001b[0m \u001b[32m━━━━━━━━━━━━━━━━━━━━\u001b[0m\u001b[37m\u001b[0m \u001b[1m9s\u001b[0m 450us/step - loss: 130.9159 - mae: 5.4741 - val_loss: 131.6625 - val_mae: 5.4683\n",
      "Epoch 46/50\n",
      "\u001b[1m20975/20975\u001b[0m \u001b[32m━━━━━━━━━━━━━━━━━━━━\u001b[0m\u001b[37m\u001b[0m \u001b[1m10s\u001b[0m 452us/step - loss: 130.9645 - mae: 5.4803 - val_loss: 132.2492 - val_mae: 5.5310\n",
      "Epoch 47/50\n",
      "\u001b[1m20975/20975\u001b[0m \u001b[32m━━━━━━━━━━━━━━━━━━━━\u001b[0m\u001b[37m\u001b[0m \u001b[1m9s\u001b[0m 450us/step - loss: 131.3256 - mae: 5.4836 - val_loss: 131.6710 - val_mae: 5.4575\n",
      "Epoch 48/50\n",
      "\u001b[1m20975/20975\u001b[0m \u001b[32m━━━━━━━━━━━━━━━━━━━━\u001b[0m\u001b[37m\u001b[0m \u001b[1m9s\u001b[0m 451us/step - loss: 131.5598 - mae: 5.4881 - val_loss: 131.8080 - val_mae: 5.4975\n",
      "Epoch 49/50\n",
      "\u001b[1m20975/20975\u001b[0m \u001b[32m━━━━━━━━━━━━━━━━━━━━\u001b[0m\u001b[37m\u001b[0m \u001b[1m10s\u001b[0m 453us/step - loss: 131.1537 - mae: 5.4810 - val_loss: 131.6665 - val_mae: 5.4521\n",
      "Epoch 50/50\n",
      "\u001b[1m20975/20975\u001b[0m \u001b[32m━━━━━━━━━━━━━━━━━━━━\u001b[0m\u001b[37m\u001b[0m \u001b[1m9s\u001b[0m 450us/step - loss: 131.1983 - mae: 5.4863 - val_loss: 131.9731 - val_mae: 5.5224\n"
     ]
    }
   ],
   "source": [
    "# Train the model\n",
    "# Fit the model on the training data for 50 epochs with a validation split of 20%\n",
    "history = model.fit(X_train, y_train, epochs=50, validation_split=0.2)"
   ]
  },
  {
   "cell_type": "code",
   "execution_count": 11,
   "metadata": {},
   "outputs": [
    {
     "name": "stdout",
     "output_type": "stream",
     "text": [
      "\u001b[1m   1/6555\u001b[0m \u001b[37m━━━━━━━━━━━━━━━━━━━━\u001b[0m \u001b[1m1:16\u001b[0m 12ms/step - loss: 107.7048 - mae: 4.7843"
     ]
    },
    {
     "name": "stdout",
     "output_type": "stream",
     "text": [
      "\u001b[1m6555/6555\u001b[0m \u001b[32m━━━━━━━━━━━━━━━━━━━━\u001b[0m\u001b[37m\u001b[0m \u001b[1m2s\u001b[0m 277us/step - loss: 132.2999 - mae: 5.5343\n",
      "Mean Absolute Error on Test Data: 5.5259785652160645\n"
     ]
    }
   ],
   "source": [
    "# Evaluate the model on the test set\n",
    "test_loss, test_mae = model.evaluate(X_test, y_test)\n",
    "print(f'Mean Absolute Error on Test Data: {test_mae}')"
   ]
  },
  {
   "cell_type": "code",
   "execution_count": 12,
   "metadata": {},
   "outputs": [
    {
     "name": "stdout",
     "output_type": "stream",
     "text": [
      "\u001b[1m6555/6555\u001b[0m \u001b[32m━━━━━━━━━━━━━━━━━━━━\u001b[0m\u001b[37m\u001b[0m \u001b[1m2s\u001b[0m 234us/step\n"
     ]
    }
   ],
   "source": [
    "# Make predictions with new data\n",
    "y_pred = model.predict(X_test)\n",
    "# Select the first 100 predictions to display\n",
    "final = y_pred[:100]"
   ]
  },
  {
   "cell_type": "code",
   "execution_count": 13,
   "metadata": {},
   "outputs": [],
   "source": [
    "# Create a pandas DataFrame with the predicted data\n",
    "final = pd.DataFrame(final, columns=['latitude_futuro', 'longitude_futuro', 'confidence_futuro'])\n",
    "\n",
    "# Save the DataFrame to a CSV file without the index\n",
    "final.to_csv('valores_futuros.csv', index=False)"
   ]
  }
 ],
 "metadata": {
  "kernelspec": {
   "display_name": "Python 3",
   "language": "python",
   "name": "python3"
  },
  "language_info": {
   "codemirror_mode": {
    "name": "ipython",
    "version": 3
   },
   "file_extension": ".py",
   "mimetype": "text/x-python",
   "name": "python",
   "nbconvert_exporter": "python",
   "pygments_lexer": "ipython3",
   "version": "3.9.6"
  }
 },
 "nbformat": 4,
 "nbformat_minor": 2
}
